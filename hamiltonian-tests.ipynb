{
 "cells": [
  {
   "cell_type": "code",
   "execution_count": 1,
   "metadata": {},
   "outputs": [],
   "source": [
    "%load_ext autoreload\n",
    "%autoreload 2"
   ]
  },
  {
   "cell_type": "code",
   "execution_count": 2,
   "metadata": {},
   "outputs": [],
   "source": [
    "import numpy as np\n",
    "import json\n",
    "from aml_storage import Labels, Block, Descriptor\n",
    "from utils.builder import DescriptorBuilder\n",
    "import ase.io\n",
    "from itertools import product\n",
    "from utils.clebsh_gordan import ClebschGordanReal\n",
    "from utils.hamiltonians import fix_pyscf_l1, dense_to_blocks, blocks_to_dense, couple_blocks, decouple_blocks\n",
    "import matplotlib.pyplot as plt\n",
    "from utils.librascal import  RascalSphericalExpansion, RascalPairExpansion\n",
    "from utils.hamiltonians import *\n",
    "import copy"
   ]
  },
  {
   "cell_type": "code",
   "execution_count": 3,
   "metadata": {},
   "outputs": [],
   "source": [
    "frames = ase.io.read(\"data/water-hamiltonian/water_coords_1000.xyz\",\":1000\")\n",
    "for f in frames:\n",
    "    f.cell = [100,100,100]\n",
    "    f.positions += 50"
   ]
  },
  {
   "cell_type": "code",
   "execution_count": 4,
   "metadata": {},
   "outputs": [],
   "source": [
    "jorbs = json.load(open('data/water-hamiltonian/orbs_def2_water.json', \"r\"))\n",
    "orbs = {}\n",
    "zdic = {\"O\" : 8, \"H\":1}\n",
    "for k in jorbs:\n",
    "    orbs[zdic[k]] = jorbs[k]"
   ]
  },
  {
   "cell_type": "code",
   "execution_count": 5,
   "metadata": {},
   "outputs": [],
   "source": [
    "hams = np.load(\"data/water-hamiltonian/water_fock.npy\", allow_pickle=True)\n",
    "for i, f in enumerate(frames):\n",
    "    hams[i] = fix_pyscf_l1(hams[i], f, orbs)"
   ]
  },
  {
   "cell_type": "code",
   "execution_count": 6,
   "metadata": {},
   "outputs": [],
   "source": [
    "cg = ClebschGordanReal(4)"
   ]
  },
  {
   "cell_type": "code",
   "execution_count": 7,
   "metadata": {},
   "outputs": [],
   "source": [
    "rascal_hypers = {\n",
    "    \"interaction_cutoff\": 3.5,\n",
    "    \"cutoff_smooth_width\": 0.5,\n",
    "    \"max_radial\": 3,\n",
    "    \"max_angular\": 2,\n",
    "    \"gaussian_sigma_type\": \"Constant\",\n",
    "    \"compute_gradients\":  False,\n",
    "}"
   ]
  },
  {
   "cell_type": "code",
   "execution_count": 8,
   "metadata": {},
   "outputs": [],
   "source": [
    "spex = RascalSphericalExpansion(rascal_hypers)\n",
    "rhoi = spex.compute(frames)"
   ]
  },
  {
   "cell_type": "code",
   "execution_count": 9,
   "metadata": {},
   "outputs": [],
   "source": [
    "def get_lm_slice(hypers):\n",
    "    lm_slices = []\n",
    "    start = 0\n",
    "    for l in range(hypers[\"max_angular\"] + 1):\n",
    "        stop = start + 2 * l + 1\n",
    "        lm_slices.append(slice(start, stop))\n",
    "        start = stop\n",
    "    return lm_slices"
   ]
  },
  {
   "cell_type": "code",
   "execution_count": 10,
   "metadata": {},
   "outputs": [],
   "source": [
    "from rascal.representations import SphericalExpansion"
   ]
  },
  {
   "cell_type": "code",
   "execution_count": 11,
   "metadata": {
    "scrolled": false
   },
   "outputs": [],
   "source": [
    "pairs = RascalPairExpansion(rascal_hypers)\n",
    "gij = pairs.compute(frames)"
   ]
  },
  {
   "cell_type": "code",
   "execution_count": 12,
   "metadata": {},
   "outputs": [],
   "source": [
    "def compute_rho0ij(hypers, frames):\n",
    "    lmax= hypers[\"max_angular\"]\n",
    "    pairs = RascalPairExpansion(hypers)\n",
    "    gij = pairs.compute(frames)\n",
    "    new_sparse = Labels(\n",
    "    names=[\"sigma\", \"L\", \"nu\"],\n",
    "    values=np.array(\n",
    "        [\n",
    "            [1, l, 0]\n",
    "            for l in range(hypers[\"max_angular\"] + 1)                    \n",
    "        ],\n",
    "        dtype=np.int32,\n",
    "            ),\n",
    "        )\n",
    "    blocks=[]\n",
    "    for idx, block in gij:\n",
    "        blocks.append(block.copy())\n",
    "    return Descriptor(new_sparse, blocks)"
   ]
  },
  {
   "cell_type": "code",
   "execution_count": 13,
   "metadata": {},
   "outputs": [],
   "source": [
    "hypers=rascal_hypers"
   ]
  },
  {
   "cell_type": "code",
   "execution_count": 56,
   "metadata": {},
   "outputs": [],
   "source": [
    "old_rho0ij=compute_rho0ij(hypers, frames)"
   ]
  },
  {
   "cell_type": "code",
   "execution_count": 57,
   "metadata": {},
   "outputs": [],
   "source": [
    "# works for just water"
   ]
  },
  {
   "cell_type": "code",
   "execution_count": 58,
   "metadata": {},
   "outputs": [],
   "source": [
    "def compute_rho0ij_builder(hypers, frames):\n",
    "    if hypers[\"compute_gradients\"]:\n",
    "        raise Exception(\"Pair expansion with gradient is not implemented\")\n",
    "\n",
    "    max_atoms = max([len(f) for f in frames])\n",
    "    actual_global_species = list(\n",
    "    map(int, np.unique(np.concatenate([f.numbers for f in frames]))))\n",
    "    calculator = SphericalExpansion(**hypers)\n",
    "    manager = calculator.transform(frames)\n",
    "    info = manager.get_representation_info()\n",
    "    global_species = list(range(max_atoms))\n",
    "    \n",
    "    hypers_ij= copy.deepcopy(hypers)\n",
    "    hypers_ij[\"global_species\"] = global_species\n",
    "    hypers_ij[\"expansion_by_species_method\"] = \"user defined\"\n",
    "    lm_slices = get_lm_slice(hypers)\n",
    "\n",
    "    ijframes = []\n",
    "    for f in frames:\n",
    "        ijf = f.copy()\n",
    "        ijf.numbers = global_species[:len(f)]\n",
    "        ijframes.append(ijf)\n",
    "\n",
    "    calculator = SphericalExpansion(**hypers_ij)\n",
    "    gij_expansion=calculator.transform(ijframes).get_features(calculator).reshape(len(ijframes), len(ijf), max_atoms, hypers_ij[\"max_radial\"], -1) #TODO: change for differet len\n",
    "#     print(gij_expansion.shape)\n",
    "    \n",
    "    feat_builder= DescriptorBuilder([\"block_type\", \"L\", \"nu\", \"sigma\",  \"center_species\", \"neighbor_species\"], [\"structure\", \"center_i\", \"center_j\"], [\"mu\"], [\"n\"])\n",
    "\n",
    "    pair_loc=[]\n",
    "    lmax = hypers[\"max_angular\"]\n",
    "    for sp_i in actual_global_species:\n",
    "        for sp_j in actual_global_species:\n",
    "            center_species_mask = np.where(info[:, 2] == sp_i)[0]\n",
    "            neighbor_species_mask = np.where(info[:, 2] == sp_j)[0]\n",
    "            for i, (struct_i, atom_i) in enumerate(info[center_species_mask[:]][...,:-1]):\n",
    "                for j, (struct_j, atom_j) in enumerate(info[neighbor_species_mask[:]][...,:-1]):\n",
    "                    if not (struct_i==struct_j):\n",
    "                        continue\n",
    "                    if atom_i==atom_j:\n",
    "                            block_type = 0  # diagonal\n",
    "                    elif sp_i==sp_j:\n",
    "                        block_type = 1  # same-species\n",
    "                    else:\n",
    "                        block_type = 2  # different species\n",
    "                    if [struct_i, atom_j, atom_i] not in pair_loc:\n",
    "                        pair_loc.append([struct_i, atom_i, atom_j])\n",
    "\n",
    "                    for l in range(lmax+1):\n",
    "                        block_idx=(block_type, l, 0, 1, sp_i, sp_j)\n",
    "                        if block_idx not in feat_builder.blocks:\n",
    "                            block = feat_builder.add_block(sparse=block_idx, features=np.asarray([list(range(hypers[\"max_radial\"]))], dtype=np.int32).T, \n",
    "                                components=np.asarray([list(range(-l, l+1))], dtype=np.int32 ).T )  \n",
    "                            \n",
    "                        \n",
    "                            if block_type == 1:\n",
    "                                block_asym = feat_builder.add_block(sparse=(-1,)+block_idx[1:], features=np.asarray([list(range(hypers[\"max_radial\"]))], dtype=np.int32).T,\n",
    "                                components=np.asarray([list(range(-l, l+1))], dtype=np.int32 ).T )                                                    \n",
    "                        else:                        \n",
    "                            block = feat_builder.blocks[block_idx]\n",
    "                            if block_type == 1:\n",
    "                                block_asym = feat_builder.blocks[(-1,)+block_idx[1:]]\n",
    "\n",
    "                        block_data =gij_expansion[struct_i][atom_i%3, atom_j%3, :, lm_slices[l]].T #TODO: change for not water\n",
    "                        #POSSIBLE replacement:(atom_i-sum(info[:struct_i,:].axis=1))%len(info[np.where(info[:,:,0]==struct_i)])\n",
    "                        if block_type == 1:\n",
    "                            if atom_i%3 <=atom_j%3:\n",
    "                                block_data_ji = gij_expansion[struct_i][atom_j%3, atom_i%3, :, lm_slices[l]].T                  \n",
    "                                block.add_samples(labels=np.asarray([[struct_i, atom_i%3, atom_j%3]], dtype=np.int32), data=(block_data+block_data_ji).reshape((1,-1,block_data.shape[1]))/np.sqrt(2) )\n",
    "                                block_asym.add_samples(labels=np.asarray([[struct_i, atom_i%3, atom_j%3]], dtype=np.int32), data=(block_data-block_data_ji).reshape((1,-1,block_data.shape[1]))/np.sqrt(2) )\n",
    "                        else:\n",
    "#                       \n",
    "                            block.add_samples(labels=np.asarray([[struct_i, atom_i%3, atom_j%3]], dtype=np.int32), data=block_data.reshape(1, -1, block_data.shape[1]))\n",
    "    #                     \n",
    "\n",
    "    return feat_builder.build()"
   ]
  },
  {
   "cell_type": "code",
   "execution_count": 59,
   "metadata": {},
   "outputs": [],
   "source": [
    "rho0ij=compute_rho0ij_builder(hypers, frames)"
   ]
  },
  {
   "cell_type": "code",
   "execution_count": 60,
   "metadata": {},
   "outputs": [
    {
     "data": {
      "text/plain": [
       "array([[[ 5.81896807e-03, -2.63814570e-04, -3.25631700e-04]],\n",
       "\n",
       "       [[ 4.82603864e-03,  5.83956974e-04, -3.51296448e-04]],\n",
       "\n",
       "       [[ 5.80991748e-03, -2.55701240e-04, -3.26060736e-04]],\n",
       "\n",
       "       ...,\n",
       "\n",
       "       [[ 4.94725398e-03,  4.85315783e-04, -3.50608169e-04]],\n",
       "\n",
       "       [[ 4.01298963e-03,  1.20557367e-03, -3.35942582e-04]],\n",
       "\n",
       "       [[ 5.47491229e-03,  3.98296362e-05, -3.39516669e-04]]])"
      ]
     },
     "execution_count": 60,
     "metadata": {},
     "output_type": "execute_result"
    }
   ],
   "source": [
    "# for even L's block_type -1 should be zero \n",
    "# for odd L's block_type 1 should be zero \n",
    "# block_type=0 - all values should be the same\n",
    "#block_type=2, interchanging center and neighbor species should give equivalent results\n",
    "rho0ij.block(block_type=2, L=0, nu=0, sigma=1, center_species=8, neighbor_species=1).values"
   ]
  },
  {
   "cell_type": "code",
   "execution_count": 62,
   "metadata": {},
   "outputs": [],
   "source": [
    "# to verify with the rascal spherical expansion- find indices of the relevant samples\n",
    "idx=[]\n",
    "i=0\n",
    "for (struct, center_i, center_j, species_i, species_j) in old_rho0ij.block(L=0).samples:\n",
    "    \n",
    "    if center_i==center_j: \n",
    "        idx.append(i)\n",
    "    i+=1"
   ]
  },
  {
   "cell_type": "code",
   "execution_count": 63,
   "metadata": {},
   "outputs": [
    {
     "data": {
      "text/plain": [
       "array([[[ 0.01039805, -0.00505374,  0.0002431 ]],\n",
       "\n",
       "       [[ 0.01039805, -0.00505374,  0.0002431 ]],\n",
       "\n",
       "       [[ 0.01039805, -0.00505374,  0.0002431 ]],\n",
       "\n",
       "       ...,\n",
       "\n",
       "       [[ 0.01039805, -0.00505374,  0.0002431 ]],\n",
       "\n",
       "       [[ 0.01039805, -0.00505374,  0.0002431 ]],\n",
       "\n",
       "       [[ 0.01039805, -0.00505374,  0.0002431 ]]])"
      ]
     },
     "execution_count": 63,
     "metadata": {},
     "output_type": "execute_result"
    }
   ],
   "source": [
    "old_rho0ij.block(L=0).values[idx]"
   ]
  },
  {
   "cell_type": "markdown",
   "metadata": {},
   "source": [
    "# rho1ij"
   ]
  },
  {
   "cell_type": "code",
   "execution_count": null,
   "metadata": {},
   "outputs": [],
   "source": [
    "rho1ij="
   ]
  },
  {
   "cell_type": "markdown",
   "metadata": {},
   "source": [
    "# CRAP"
   ]
  },
  {
   "cell_type": "code",
   "execution_count": 58,
   "metadata": {},
   "outputs": [],
   "source": [
    "def hamiltonian_rep(frames, hypers, nu):\n",
    "    if nu>0:\n",
    "        raise ValueError(\"nu>0 not implemented\")\n",
    "    nu0_desc = compute_rho0ij(hypers, frames)\n",
    "    \n",
    "    sparse = (block_type, center_sp, neighbor_sp, L, sigma)"
   ]
  },
  {
   "cell_type": "code",
   "execution_count": 313,
   "metadata": {},
   "outputs": [],
   "source": [
    "gij_expansion=calculator.transform(ijframes).get_features(calculator).reshape(len(ijframes), len(ijf), max_atoms, hypers[\"max_radial\"], -1)\n"
   ]
  },
  {
   "cell_type": "code",
   "execution_count": 389,
   "metadata": {},
   "outputs": [],
   "source": [
    "feat_builder= DescriptorBuilder([\"block_type\", \"L\", \"nu\", \"sigma\",  \"center_species\", \"neighbor_species\"], [\"structure\", \"center_i\", \"center_j\"], [\"mu\"], [\"n\"])\n",
    "\n",
    "pair_loc=[]\n",
    "lmax = hypers[\"max_angular\"]\n",
    "for sp_i in actual_global_species:\n",
    "    for sp_j in actual_global_species:\n",
    "        center_species_mask = np.where(info[:, 2] == sp_i)[0]\n",
    "        neighbor_species_mask = np.where(info[:, 2] == sp_j)[0]\n",
    "        for i, (struct_i, atom_i) in enumerate(info[center_species_mask[:]][...,:-1]):\n",
    "            for j, (struct_j, atom_j) in enumerate(info[neighbor_species_mask[:]][...,:-1]):\n",
    "                if not (struct_i==struct_j):\n",
    "                    continue\n",
    "                if atom_i==atom_j:\n",
    "                        block_type = 0  # diagonal\n",
    "                elif sp_i==sp_j:\n",
    "                    block_type = 1  # same-species\n",
    "                else:\n",
    "                    block_type = 2  # different species\n",
    "                if [struct_i, atom_j, atom_i] not in pair_loc:\n",
    "                    pair_loc.append([struct_i, atom_i, atom_j])\n",
    "\n",
    "                for l in range(lmax+1):\n",
    "                    block_idx=(block_type, l, 0, 1, sp_i, sp_j)\n",
    "                    if block_idx not in feat_builder.blocks:\n",
    "                        block = feat_builder.add_block(sparse=block_idx, features=np.asarray([list(range(hypers[\"max_radial\"]))], dtype=np.int32).T, \n",
    "                            components=np.asarray([list(range(-l, l+1))], dtype=np.int32 ).T )                                                    \n",
    "#                         if block_type == 1:\n",
    "#                             block_asym = feat_builder.add_block(sparse=(-1,)+block_idx[1:], features=np.asarray([list(range(hypers[\"max_radial\"]))], dtype=np.int32).T,\n",
    "#                             components=np.asarray([list(range(-l, l+1))], dtype=np.int32 ).T )                                                    \n",
    "                    else:                        \n",
    "                        block = feat_builder.blocks[block_idx]\n",
    "#                         if block_type == 1:\n",
    "#                             block_asym = feat_builder.blocks[(-1,)+block_idx[1:]]\n",
    "\n",
    "                    block_data =gij_expansion[struct_i][atom_i%3, atom_j%3, :, lm_slices[l]].T\n",
    "#                     if block_type == 1:\n",
    "#                         kj_offset = kj-kj_base\n",
    "#                         ki_offset = ki-ki_base\n",
    "#                         block_data_ji = np.asarray(ham[kj_base+ki_offset:kj_base+ki_offset+2*li+1, ki_base+kj_offset:ki_base+kj_offset+2*lj+1])                        \n",
    "#                         block.add_samples(labels=[(A,i,j, ki_base, kj_base)], data=(block_data_ij+block_data_ji).reshape((1,-1,1))/np.sqrt(2) )\n",
    "#                         block_asym.add_samples(labels=[(A,i,j,ki_base, kj_base)], data=(block_data_ij-block_data_ji).reshape((1,-1,1))/np.sqrt(2) )\n",
    "#                     else:\n",
    "                    block.add_samples(labels=np.asarray([[struct_i, atom_i%3, atom_j%3]], dtype=np.int32), data=block_data.reshape(1, -1, block_data.shape[1]))\n",
    "#                     block.add_features(labels=[(n,)], data=block_data_ij.reshape((1,-1,1))"
   ]
  },
  {
   "cell_type": "code",
   "execution_count": 390,
   "metadata": {},
   "outputs": [],
   "source": [
    "aa=feat_builder.build()"
   ]
  },
  {
   "cell_type": "code",
   "execution_count": 398,
   "metadata": {
    "scrolled": true
   },
   "outputs": [
    {
     "data": {
      "text/plain": [
       "(2000, 3, 3)"
      ]
     },
     "execution_count": 398,
     "metadata": {},
     "output_type": "execute_result"
    }
   ],
   "source": [
    "aa.block(block_type=0, L=1, nu=0, sigma=1, center_species=1, neighbor_species=1).values.shape"
   ]
  },
  {
   "cell_type": "code",
   "execution_count": 356,
   "metadata": {},
   "outputs": [
    {
     "data": {
      "text/plain": [
       "(1, 1, 3)"
      ]
     },
     "execution_count": 356,
     "metadata": {},
     "output_type": "execute_result"
    }
   ],
   "source": [
    "gij_expansion[struct_i][atom_i, atom_j, :, lm_slices[0]].reshape(1, -1, block_data.shape[1]).shape"
   ]
  },
  {
   "cell_type": "code",
   "execution_count": 350,
   "metadata": {},
   "outputs": [
    {
     "data": {
      "text/plain": [
       "array([[0],\n",
       "       [1],\n",
       "       [2]], dtype=int32)"
      ]
     },
     "execution_count": 350,
     "metadata": {},
     "output_type": "execute_result"
    }
   ],
   "source": [
    "np.asarray([list(range(hypers[\"max_radial\"]))], dtype=np.int32).T#.shape"
   ]
  },
  {
   "cell_type": "code",
   "execution_count": 305,
   "metadata": {},
   "outputs": [
    {
     "data": {
      "text/plain": [
       "<utils.builder.BlockBuilderPerFeatures at 0x7fb190481860>"
      ]
     },
     "execution_count": 305,
     "metadata": {},
     "output_type": "execute_result"
    }
   ],
   "source": [
    "block.add_samples(labels=np.asarray([[struct_i, atom_i, atom_j]], dtype=np.int32), values=block_data)"
   ]
  },
  {
   "cell_type": "code",
   "execution_count": 249,
   "metadata": {},
   "outputs": [
    {
     "ename": "TypeError",
     "evalue": "__init__() missing 2 required positional arguments: 'values' and 'features'",
     "output_type": "error",
     "traceback": [
      "\u001b[0;31m---------------------------------------------------------------------------\u001b[0m",
      "\u001b[0;31mTypeError\u001b[0m                                 Traceback (most recent call last)",
      "\u001b[0;32m<ipython-input-249-319b2c69fc8c>\u001b[0m in \u001b[0;36m<module>\u001b[0;34m\u001b[0m\n\u001b[1;32m     25\u001b[0m \u001b[0;31m#                 values=np.copy(block_data),\u001b[0m\u001b[0;34m\u001b[0m\u001b[0;34m\u001b[0m\u001b[0;34m\u001b[0m\u001b[0m\n\u001b[1;32m     26\u001b[0m                 \u001b[0msamples\u001b[0m\u001b[0;34m=\u001b[0m\u001b[0msamples\u001b[0m\u001b[0;34m,\u001b[0m\u001b[0;34m\u001b[0m\u001b[0;34m\u001b[0m\u001b[0m\n\u001b[0;32m---> 27\u001b[0;31m                 \u001b[0mcomponents\u001b[0m\u001b[0;34m=\u001b[0m\u001b[0mcomponents\u001b[0m\u001b[0;34m,\u001b[0m\u001b[0;34m\u001b[0m\u001b[0;34m\u001b[0m\u001b[0m\n\u001b[0m\u001b[1;32m     28\u001b[0m \u001b[0;31m#                 features=features,\u001b[0m\u001b[0;34m\u001b[0m\u001b[0;34m\u001b[0m\u001b[0;34m\u001b[0m\u001b[0m\n\u001b[1;32m     29\u001b[0m             )\n",
      "\u001b[0;31mTypeError\u001b[0m: __init__() missing 2 required positional arguments: 'values' and 'features'"
     ]
    }
   ],
   "source": [
    "blocks = []\n",
    "for idx, (l, nu, sigma, sp_i, sp_j, ) in enumerate(sparse):\n",
    "    center_species_mask = np.where(info[:, 2] == sp_i)[0]\n",
    "    neighbor_species_mask = np.where(info[:, 2] == sp_j)[0]\n",
    "\n",
    "    pair_loc=[]\n",
    "    for i, (struct_i, atom_i) in enumerate(info[center_species_mask[:]][...,:-1]):\n",
    "        for j, (struct_j, atom_j) in enumerate(info[neighbor_species_mask[:]][...,:-1]):\n",
    "            if struct_i==struct_j:\n",
    "                if [struct_i, atom_j, atom_i] not in pair_loc:\n",
    "                    pair_loc.append([struct_i, atom_i, atom_j])\n",
    "                    \n",
    "    samples = Labels(\n",
    "        names=[\"structure\", \"center_i\", \"center_j\"],\n",
    "        values=np.copy(pair_loc).astype(np.int32),\n",
    "    )\n",
    "    \n",
    "    \n",
    "    \n",
    "    components = Labels(\n",
    "                names=[\"mu\"],\n",
    "                values=np.array([[m] for m in range(-l, l + 1)], dtype=np.int32),\n",
    "            )\n",
    "    \n",
    "    block_data = gij.block(spherical_harmonic_l=l).samples[]\n",
    "    block = Block(\n",
    "                values=np.copy(block_data),\n",
    "                samples=samples,\n",
    "                components=components,\n",
    "#                 features=features,\n",
    "            )\n",
    "    blocks.append(block)\n",
    "Descriptor(sparse, blocks)"
   ]
  },
  {
   "cell_type": "code",
   "execution_count": 361,
   "metadata": {},
   "outputs": [],
   "source": [
    "sp_j=1\n",
    "sp_i=8\n",
    "center_species_mask = np.where(info[:, 2] == sp_i)[0]\n",
    "neighbor_species_mask = np.where(info[:, 2] == sp_j)[0]"
   ]
  },
  {
   "cell_type": "code",
   "execution_count": 364,
   "metadata": {},
   "outputs": [],
   "source": [
    "pair_loc=[]\n",
    "for i, (struct_i, atom_i) in enumerate(info[center_species_mask[:]][...,:-1]):\n",
    "    for j, (struct_j, atom_j) in enumerate(info[neighbor_species_mask[:]][...,:-1]):\n",
    "        if struct_i==struct_j:\n",
    "            if [struct_i, int(atom_j), int(atom_i)] not in pair_loc:\n",
    "                pair_loc.append([struct_i, int(atom_i), int(atom_j)])#+list(j[1:]))"
   ]
  },
  {
   "cell_type": "code",
   "execution_count": 42,
   "metadata": {},
   "outputs": [
    {
     "data": {
      "text/plain": [
       "[1, 8]"
      ]
     },
     "execution_count": 42,
     "metadata": {},
     "output_type": "execute_result"
    }
   ],
   "source": [
    "\n",
    "for a1 in actual_global_species:\n",
    "    for a2 in actual_global_species:\n",
    "        "
   ]
  },
  {
   "cell_type": "code",
   "execution_count": 33,
   "metadata": {},
   "outputs": [],
   "source": [
    "rho0ij=compute_rho0ij(rascal_hypers, frames)"
   ]
  },
  {
   "cell_type": "code",
   "execution_count": 34,
   "metadata": {},
   "outputs": [
    {
     "data": {
      "text/plain": [
       "Labels([(1, 0, 0), (1, 1, 0), (1, 2, 0)],\n",
       "       dtype=[('sigma', '<i4'), ('L', '<i4'), ('nu', '<i4')])"
      ]
     },
     "execution_count": 34,
     "metadata": {},
     "output_type": "execute_result"
    }
   ],
   "source": [
    "rho0ij.sparse"
   ]
  },
  {
   "cell_type": "code",
   "execution_count": 40,
   "metadata": {},
   "outputs": [
    {
     "data": {
      "text/plain": [
       "Labels([(0, 1, 1), (0, 1, 8), (0, 8, 1), (0, 8, 8), (1, 1, 1), (1, 1, 8),\n",
       "        (1, 8, 1), (1, 8, 8), (2, 1, 1), (2, 1, 8), (2, 8, 1), (2, 8, 8)],\n",
       "       dtype=[('spherical_harmonics_l', '<i4'), ('center_species', '<i4'), ('neighbor_species', '<i4')])"
      ]
     },
     "execution_count": 40,
     "metadata": {},
     "output_type": "execute_result"
    }
   ],
   "source": [
    "rhoi.sparse"
   ]
  },
  {
   "cell_type": "code",
   "execution_count": 39,
   "metadata": {},
   "outputs": [
    {
     "data": {
      "text/plain": [
       "Labels([(-1,), ( 0,), ( 1,)], dtype=[('spherical_harmonics_m', '<i4')])"
      ]
     },
     "execution_count": 39,
     "metadata": {},
     "output_type": "execute_result"
    }
   ],
   "source": [
    "rhoi.block(spherical_harmonics_l=1, center_species=1, neighbor_species=8).components"
   ]
  },
  {
   "cell_type": "code",
   "execution_count": null,
   "metadata": {},
   "outputs": [],
   "source": [
    "acdc_nu1 = Descriptor(sparse = Labels(names=[\"sigma\", \"lam\", \"nu\"], \n",
    "                                      values=np.asarray([[ 1, l, 1] for l in range(rascal_hypers[\"max_angular\"]+1)], dtype=np.int32)), \n",
    "                      blocks = blocks\n",
    "                     )"
   ]
  },
  {
   "cell_type": "code",
   "execution_count": 16,
   "metadata": {},
   "outputs": [
    {
     "data": {
      "text/plain": [
       "Labels([(0,), (1,), (2,)], dtype=[('spherical_harmonics_l', '<i4')])"
      ]
     },
     "execution_count": 16,
     "metadata": {},
     "output_type": "execute_result"
    }
   ],
   "source": [
    "rho1ij="
   ]
  },
  {
   "cell_type": "code",
   "execution_count": 17,
   "metadata": {},
   "outputs": [
    {
     "ename": "SyntaxError",
     "evalue": "invalid syntax (2391973759.py, line 1)",
     "output_type": "error",
     "traceback": [
      "\u001b[0;36m  Input \u001b[0;32mIn [17]\u001b[0;36m\u001b[0m\n\u001b[0;31m    stop here\u001b[0m\n\u001b[0m         ^\u001b[0m\n\u001b[0;31mSyntaxError\u001b[0m\u001b[0;31m:\u001b[0m invalid syntax\n"
     ]
    }
   ],
   "source": [
    "stop here "
   ]
  },
  {
   "cell_type": "code",
   "execution_count": null,
   "metadata": {},
   "outputs": [],
   "source": [
    "hypers=rascal_hypers"
   ]
  },
  {
   "cell_type": "code",
   "execution_count": null,
   "metadata": {},
   "outputs": [],
   "source": [
    "#hypers = copy.deepcopy(self._hypers)\n",
    "if hypers[\"compute_gradients\"]:\n",
    "    raise Exception(\"Pair expansion with gradient is not implemented\")\n",
    "\n",
    "# max_atoms = max([len(f) for f in frames])\n",
    "# global_species = list(range(max_atoms))\n",
    "\n",
    "# hypers[\"global_species\"] = global_species\n",
    "# hypers[\"expansion_by_species_method\"] = \"user defined\"\n",
    "\n",
    "# ijframes = []\n",
    "# for f in frames:\n",
    "#     ijf = f.copy()\n",
    "#     ijf.numbers = global_species[:len(f)]\n",
    "#     ijframes.append(ijf)\n",
    "\n",
    "calculator = SphericalExpansion(**hypers)\n",
    "\n",
    "# Step 2: move data around to follow the storage convention\n",
    "sparse = Labels(\n",
    "    names=[\"spherical_harmonics_l\"],\n",
    "    values=np.array(\n",
    "        [\n",
    "            [l]\n",
    "            for l in range(hypers[\"max_angular\"] + 1)                    \n",
    "        ],\n",
    "        dtype=np.int32,\n",
    "    ),\n",
    ")\n",
    "\n",
    "features = Labels(\n",
    "    names=[\"n\"],\n",
    "    values=np.array([[n] for n in range(hypers[\"max_radial\"])], dtype=np.int32),\n",
    ")\n",
    "\n",
    "lm_slices = []\n",
    "start = 0\n",
    "for l in range(hypers[\"max_angular\"] + 1):\n",
    "    stop = start + 2 * l + 1\n",
    "    lm_slices.append(slice(start, stop))\n",
    "    start = stop\n",
    "\n",
    "data = []\n",
    "samples = []\n",
    "for i, ijf in enumerate(ijframes):\n",
    "    idata = calculator.transform(ijf).get_features(calculator).reshape(len(ijf), max_atoms, hypers[\"max_radial\"], -1)\n",
    "    nonzero = np.where( (idata**2).sum(axis=(2,3)) > 1e-20)\n",
    "    data.append(idata[nonzero[0], nonzero[1]].reshape(len(nonzero[0]),hypers[\"max_radial\"],-1) )\n",
    "    samples.append( np.asarray( [nonzero[0]*0+i, nonzero[0], nonzero[1]] ).T )\n",
    "\n",
    "data = np.concatenate(data)\n",
    "samples = Labels(\n",
    "        names=[\"structure\", \"center_i\", \"center_j\"],\n",
    "        values=np.concatenate(samples).astype(np.int32)\n",
    ")\n",
    "blocks = []\n",
    "for (l,) in sparse:\n",
    "    block_data = data[..., lm_slices[l]]\n",
    "    block_data = block_data.swapaxes(1, 2)\n",
    "\n",
    "    components = Labels(\n",
    "        names=[\"spherical_harmonics_m\"],\n",
    "        values=np.array([[m] for m in range(-l, l + 1)], dtype=np.int32),\n",
    "    )\n",
    "\n",
    "    block = Block(\n",
    "        values=np.copy(block_data),\n",
    "        samples=samples,\n",
    "        components=components,\n",
    "        features=features,\n",
    "    )\n",
    "\n",
    "    blocks.append(block)\n"
   ]
  }
 ],
 "metadata": {
  "interpreter": {
   "hash": "e5b9818494c5e2e4b1f356a8c3298778da7fbcf7ee16e565b1a5192ca7e31aaa"
  },
  "kernelspec": {
   "display_name": "Python 3",
   "language": "python",
   "name": "python3"
  },
  "language_info": {
   "codemirror_mode": {
    "name": "ipython",
    "version": 3
   },
   "file_extension": ".py",
   "mimetype": "text/x-python",
   "name": "python",
   "nbconvert_exporter": "python",
   "pygments_lexer": "ipython3",
   "version": "3.7.3"
  },
  "toc": {
   "base_numbering": 1,
   "nav_menu": {},
   "number_sections": true,
   "sideBar": true,
   "skip_h1_title": false,
   "title_cell": "Table of Contents",
   "title_sidebar": "Contents",
   "toc_cell": false,
   "toc_position": {},
   "toc_section_display": true,
   "toc_window_display": false
  }
 },
 "nbformat": 4,
 "nbformat_minor": 2
}
