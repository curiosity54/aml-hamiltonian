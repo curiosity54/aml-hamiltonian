{
 "cells": [
  {
   "cell_type": "code",
   "execution_count": 1,
   "metadata": {},
   "outputs": [],
   "source": [
    "%load_ext autoreload\n",
    "%autoreload 2"
   ]
  },
  {
   "cell_type": "code",
   "execution_count": 1,
   "metadata": {},
   "outputs": [],
   "source": [
    "import numpy as np\n",
    "import json\n",
    "from aml_storage import Labels, Block, Descriptor\n",
    "from utils.builder import DescriptorBuilder\n",
    "import ase.io\n",
    "from itertools import product\n",
    "from utils.clebsh_gordan import ClebschGordanReal\n",
    "from utils.hamiltonians import fix_pyscf_l1, dense_to_blocks, blocks_to_dense, couple_blocks, decouple_blocks\n",
    "import matplotlib.pyplot as plt\n",
    "from utils.librascal import  RascalSphericalExpansion, RascalPairExpansion\n",
    "from utils.hamiltonians import *\n",
    "import copy"
   ]
  },
  {
   "cell_type": "code",
   "execution_count": 2,
   "metadata": {},
   "outputs": [],
   "source": [
    "frames = ase.io.read(\"data/water-hamiltonian/water_coords_1000.xyz\",\":1000\")\n",
    "for f in frames:\n",
    "    f.cell = [100,100,100]\n",
    "    f.positions += 50"
   ]
  },
  {
   "cell_type": "code",
   "execution_count": 3,
   "metadata": {},
   "outputs": [],
   "source": [
    "jorbs = json.load(open('data/water-hamiltonian/orbs_def2_water.json', \"r\"))\n",
    "orbs = {}\n",
    "zdic = {\"O\" : 8, \"H\":1}\n",
    "for k in jorbs:\n",
    "    orbs[zdic[k]] = jorbs[k]"
   ]
  },
  {
   "cell_type": "code",
   "execution_count": 4,
   "metadata": {},
   "outputs": [],
   "source": [
    "hams = np.load(\"data/water-hamiltonian/water_fock.npy\", allow_pickle=True)\n",
    "for i, f in enumerate(frames):\n",
    "    hams[i] = fix_pyscf_l1(hams[i], f, orbs)"
   ]
  },
  {
   "cell_type": "code",
   "execution_count": 5,
   "metadata": {},
   "outputs": [],
   "source": [
    "cg = ClebschGordanReal(4)"
   ]
  },
  {
   "cell_type": "code",
   "execution_count": 6,
   "metadata": {},
   "outputs": [],
   "source": [
    "rascal_hypers = {\n",
    "    \"interaction_cutoff\": 3.5,\n",
    "    \"cutoff_smooth_width\": 0.5,\n",
    "    \"max_radial\": 3,\n",
    "    \"max_angular\": 2,\n",
    "    \"gaussian_sigma_type\": \"Constant\",\n",
    "    \"compute_gradients\":  False,\n",
    "}"
   ]
  },
  {
   "cell_type": "code",
   "execution_count": 7,
   "metadata": {},
   "outputs": [],
   "source": [
    "spex = RascalSphericalExpansion(rascal_hypers)\n",
    "rhoi = spex.compute(frames)"
   ]
  },
  {
   "cell_type": "code",
   "execution_count": 8,
   "metadata": {},
   "outputs": [],
   "source": [
    "def get_lm_slice(hypers):\n",
    "    lm_slices = []\n",
    "    start = 0\n",
    "    for l in range(hypers[\"max_angular\"] + 1):\n",
    "        stop = start + 2 * l + 1\n",
    "        lm_slices.append(slice(start, stop))\n",
    "        start = stop\n",
    "    return lm_slices"
   ]
  },
  {
   "cell_type": "code",
   "execution_count": 9,
   "metadata": {},
   "outputs": [],
   "source": [
    "from rascal.representations import SphericalExpansion"
   ]
  },
  {
   "cell_type": "code",
   "execution_count": 10,
   "metadata": {
    "scrolled": false
   },
   "outputs": [],
   "source": [
    "pairs = RascalPairExpansion(rascal_hypers)\n",
    "gij = pairs.compute(frames)"
   ]
  },
  {
   "cell_type": "code",
   "execution_count": 11,
   "metadata": {},
   "outputs": [],
   "source": [
    "def compute_rho0ij(hypers, frames):\n",
    "    lmax= hypers[\"max_angular\"]\n",
    "    pairs = RascalPairExpansion(hypers)\n",
    "    gij = pairs.compute(frames)\n",
    "    new_sparse = Labels(\n",
    "    names=[\"sigma\", \"L\", \"nu\"],\n",
    "    values=np.array(\n",
    "        [\n",
    "            [1, l, 0]\n",
    "            for l in range(hypers[\"max_angular\"] + 1)                    \n",
    "        ],\n",
    "        dtype=np.int32,\n",
    "            ),\n",
    "        )\n",
    "    blocks=[]\n",
    "    for idx, block in gij:\n",
    "        blocks.append(block.copy())\n",
    "    return Descriptor(new_sparse, blocks)"
   ]
  },
  {
   "cell_type": "code",
   "execution_count": 12,
   "metadata": {},
   "outputs": [],
   "source": [
    "hypers=rascal_hypers"
   ]
  },
  {
   "cell_type": "code",
   "execution_count": 13,
   "metadata": {},
   "outputs": [],
   "source": [
    "old_rho0ij=compute_rho0ij(hypers, frames)"
   ]
  },
  {
   "cell_type": "code",
   "execution_count": 14,
   "metadata": {},
   "outputs": [],
   "source": [
    "# works for just water"
   ]
  },
  {
   "cell_type": "code",
   "execution_count": 15,
   "metadata": {},
   "outputs": [],
   "source": [
    "def compute_rho0ij_builder(hypers, frames):\n",
    "    if hypers[\"compute_gradients\"]:\n",
    "        raise Exception(\"Pair expansion with gradient is not implemented\")\n",
    "\n",
    "    max_atoms = max([len(f) for f in frames])\n",
    "    actual_global_species = list(\n",
    "    map(int, np.unique(np.concatenate([f.numbers for f in frames]))))\n",
    "    calculator = SphericalExpansion(**hypers)\n",
    "    manager = calculator.transform(frames)\n",
    "    info = manager.get_representation_info()\n",
    "    global_species = list(range(max_atoms))\n",
    "    \n",
    "    hypers_ij= copy.deepcopy(hypers)\n",
    "    hypers_ij[\"global_species\"] = global_species\n",
    "    hypers_ij[\"expansion_by_species_method\"] = \"user defined\"\n",
    "    lm_slices = get_lm_slice(hypers)\n",
    "\n",
    "    ijframes = []\n",
    "    for f in frames:\n",
    "        ijf = f.copy()\n",
    "        ijf.numbers = global_species[:len(f)]\n",
    "        ijframes.append(ijf)\n",
    "\n",
    "    calculator = SphericalExpansion(**hypers_ij)\n",
    "    gij_expansion=calculator.transform(ijframes).get_features(calculator).reshape(len(ijframes), len(ijf), max_atoms, hypers_ij[\"max_radial\"], -1) #TODO: change for differet len\n",
    "#     print(gij_expansion.shape)\n",
    "    \n",
    "    feat_builder= DescriptorBuilder([\"block_type\", \"L\", \"nu\", \"sigma\",  \"species_i\", \"species_j\"], [\"structure\", \"center_i\", \"center_j\"], [\"mu\"], [\"n\"])\n",
    "\n",
    "    pair_loc=[]\n",
    "    lmax = hypers[\"max_angular\"]\n",
    "    for sp_i in actual_global_species:\n",
    "        for sp_j in actual_global_species:\n",
    "            center_species_mask = np.where(info[:, 2] == sp_i)[0]\n",
    "            neighbor_species_mask = np.where(info[:, 2] == sp_j)[0]\n",
    "            for i, (struct_i, atom_i) in enumerate(info[center_species_mask[:]][...,:-1]):\n",
    "                for j, (struct_j, atom_j) in enumerate(info[neighbor_species_mask[:]][...,:-1]):\n",
    "                    if not (struct_i==struct_j):\n",
    "                        continue\n",
    "                    if atom_i==atom_j:\n",
    "                            block_type = 0  # diagonal\n",
    "                    elif sp_i==sp_j:\n",
    "                        block_type = 1  # same-species\n",
    "                    elif sp_j > sp_i:\n",
    "                        \n",
    "                        block_type = 2  # different species\n",
    "                    else:\n",
    "                        continue\n",
    "                        \n",
    "                    if [struct_i, atom_j, atom_i] not in pair_loc:\n",
    "                        pair_loc.append([struct_i, atom_i, atom_j])\n",
    "\n",
    "                    for l in range(lmax+1):\n",
    "                        block_idx=(block_type, l, 0, 1, sp_i, sp_j)\n",
    "                        if block_idx not in feat_builder.blocks:\n",
    "                            block = feat_builder.add_block(sparse=block_idx, features=np.asarray([list(range(hypers[\"max_radial\"]))], dtype=np.int32).T, \n",
    "                                components=np.asarray([list(range(-l, l+1))], dtype=np.int32 ).T )  \n",
    "                            \n",
    "                        \n",
    "                            if block_type == 1:\n",
    "                                block_asym = feat_builder.add_block(sparse=(-1,)+block_idx[1:], features=np.asarray([list(range(hypers[\"max_radial\"]))], dtype=np.int32).T,\n",
    "                                components=np.asarray([list(range(-l, l+1))], dtype=np.int32 ).T )                                                    \n",
    "                        else:                        \n",
    "                            block = feat_builder.blocks[block_idx]\n",
    "                            if block_type == 1:\n",
    "                                block_asym = feat_builder.blocks[(-1,)+block_idx[1:]]\n",
    "\n",
    "                        block_data =gij_expansion[struct_i][atom_i%3, atom_j%3, :, lm_slices[l]].T #TODO: change for not water\n",
    "                        #POSSIBLE replacement:(atom_i-sum(info[:struct_i,:].axis=1))%len(info[np.where(info[:,:,0]==struct_i)])\n",
    "                        if block_type == 1:\n",
    "                            if atom_i%3 <=atom_j%3:\n",
    "                                block_data_ji = gij_expansion[struct_i][atom_j%3, atom_i%3, :, lm_slices[l]].T                  \n",
    "                                block.add_samples(labels=np.asarray([[struct_i, atom_i%3, atom_j%3]], dtype=np.int32), data=(block_data+block_data_ji).reshape((1,-1,block_data.shape[1]))/np.sqrt(2) )\n",
    "                                block_asym.add_samples(labels=np.asarray([[struct_i, atom_i%3, atom_j%3]], dtype=np.int32), data=(block_data-block_data_ji).reshape((1,-1,block_data.shape[1]))/np.sqrt(2) )\n",
    "                        else:\n",
    "#                       \n",
    "                            block.add_samples(labels=np.asarray([[struct_i, atom_i%3, atom_j%3]], dtype=np.int32), data=block_data.reshape(1, -1, block_data.shape[1]))\n",
    "    #                     \n",
    "\n",
    "    return feat_builder.build()"
   ]
  },
  {
   "cell_type": "code",
   "execution_count": 16,
   "metadata": {},
   "outputs": [],
   "source": [
    "rho0ij=compute_rho0ij_builder(hypers, frames)"
   ]
  },
  {
   "cell_type": "code",
   "execution_count": 17,
   "metadata": {},
   "outputs": [],
   "source": [
    "block_type=2"
   ]
  },
  {
   "cell_type": "code",
   "execution_count": 18,
   "metadata": {},
   "outputs": [
    {
     "data": {
      "text/plain": [
       "Labels([( 0, 0, 0, 1, 1, 1), ( 0, 1, 0, 1, 1, 1), ( 0, 2, 0, 1, 1, 1),\n",
       "        ( 1, 0, 0, 1, 1, 1), (-1, 0, 0, 1, 1, 1), ( 1, 1, 0, 1, 1, 1),\n",
       "        (-1, 1, 0, 1, 1, 1), ( 1, 2, 0, 1, 1, 1), (-1, 2, 0, 1, 1, 1),\n",
       "        ( 2, 0, 0, 1, 1, 8), ( 2, 1, 0, 1, 1, 8), ( 2, 2, 0, 1, 1, 8),\n",
       "        ( 0, 0, 0, 1, 8, 8), ( 0, 1, 0, 1, 8, 8), ( 0, 2, 0, 1, 8, 8)],\n",
       "       dtype=[('block_type', '<i4'), ('L', '<i4'), ('nu', '<i4'), ('sigma', '<i4'), ('species_i', '<i4'), ('species_j', '<i4')])"
      ]
     },
     "execution_count": 18,
     "metadata": {},
     "output_type": "execute_result"
    }
   ],
   "source": [
    "rho0ij.sparse"
   ]
  },
  {
   "cell_type": "code",
   "execution_count": 19,
   "metadata": {},
   "outputs": [
    {
     "data": {
      "text/plain": [
       "array([[[ 0.00000000e+00,  0.00000000e+00,  0.00000000e+00],\n",
       "        [ 0.00000000e+00,  0.00000000e+00,  0.00000000e+00],\n",
       "        [-8.58231353e-03,  1.96977105e-04,  5.09511459e-04]],\n",
       "\n",
       "       [[-7.38695871e-03, -1.02626050e-03,  5.52765124e-04],\n",
       "        [ 0.00000000e+00,  0.00000000e+00,  0.00000000e+00],\n",
       "        [-7.22540880e-04, -1.00381658e-04,  5.40676366e-05]],\n",
       "\n",
       "       [[ 0.00000000e+00,  0.00000000e+00,  0.00000000e+00],\n",
       "        [ 0.00000000e+00,  0.00000000e+00,  0.00000000e+00],\n",
       "        [-8.57290216e-03,  1.85805842e-04,  5.10210964e-04]],\n",
       "\n",
       "       ...,\n",
       "\n",
       "       [[-7.01020074e-03, -8.16594735e-04,  5.12134460e-04],\n",
       "        [ 0.00000000e+00,  0.00000000e+00,  0.00000000e+00],\n",
       "        [ 2.87243510e-03,  3.34600315e-04, -2.09847485e-04]],\n",
       "\n",
       "       [[ 0.00000000e+00,  0.00000000e+00,  0.00000000e+00],\n",
       "        [ 0.00000000e+00,  0.00000000e+00,  0.00000000e+00],\n",
       "        [-6.32615441e-03, -1.99777569e-03,  5.36805246e-04]],\n",
       "\n",
       "       [[-8.05392223e-03, -2.24990376e-04,  5.22726542e-04],\n",
       "        [ 0.00000000e+00,  0.00000000e+00,  0.00000000e+00],\n",
       "        [-1.58258633e-03, -4.42103466e-05,  1.02715156e-04]]])"
      ]
     },
     "execution_count": 19,
     "metadata": {},
     "output_type": "execute_result"
    }
   ],
   "source": [
    "block_type=2; L=0; nu=0; sigma=1; species_i=1; species_j=8\n",
    "rho0ij.block(block_type=2, L=1, nu=0, sigma=1, species_i=1, species_j=8).values"
   ]
  },
  {
   "cell_type": "code",
   "execution_count": 20,
   "metadata": {},
   "outputs": [
    {
     "ename": "AmlError",
     "evalue": "invalid parameter: 0 blocks matched the selection (block_type = 2, L = 1, nu = 0, sigma = 1, species_i = 8, species_j = 1), expected only one",
     "output_type": "error",
     "traceback": [
      "\u001b[0;31m---------------------------------------------------------------------------\u001b[0m",
      "\u001b[0;31mAmlError\u001b[0m                                  Traceback (most recent call last)",
      "\u001b[0;32m<ipython-input-20-76b46562771f>\u001b[0m in \u001b[0;36m<module>\u001b[0;34m\u001b[0m\n\u001b[0;32m----> 1\u001b[0;31m \u001b[0mrho0ij\u001b[0m\u001b[0;34m.\u001b[0m\u001b[0mblock\u001b[0m\u001b[0;34m(\u001b[0m\u001b[0mblock_type\u001b[0m\u001b[0;34m=\u001b[0m\u001b[0;36m2\u001b[0m\u001b[0;34m,\u001b[0m \u001b[0mL\u001b[0m\u001b[0;34m=\u001b[0m\u001b[0;36m1\u001b[0m\u001b[0;34m,\u001b[0m \u001b[0mnu\u001b[0m\u001b[0;34m=\u001b[0m\u001b[0;36m0\u001b[0m\u001b[0;34m,\u001b[0m \u001b[0msigma\u001b[0m\u001b[0;34m=\u001b[0m\u001b[0;36m1\u001b[0m\u001b[0;34m,\u001b[0m \u001b[0mspecies_i\u001b[0m\u001b[0;34m=\u001b[0m\u001b[0;36m8\u001b[0m\u001b[0;34m,\u001b[0m \u001b[0mspecies_j\u001b[0m\u001b[0;34m=\u001b[0m\u001b[0;36m1\u001b[0m\u001b[0;34m)\u001b[0m\u001b[0;34m.\u001b[0m\u001b[0mvalues\u001b[0m\u001b[0;34m\u001b[0m\u001b[0;34m\u001b[0m\u001b[0m\n\u001b[0m",
      "\u001b[0;32m~/anaconda3/lib/python3.7/site-packages/aml_storage/descriptor.py\u001b[0m in \u001b[0;36mblock\u001b[0;34m(self, *args, **kwargs)\u001b[0m\n\u001b[1;32m    146\u001b[0m         )\n\u001b[1;32m    147\u001b[0m \u001b[0;34m\u001b[0m\u001b[0m\n\u001b[0;32m--> 148\u001b[0;31m         \u001b[0;32mreturn\u001b[0m \u001b[0mself\u001b[0m\u001b[0;34m.\u001b[0m\u001b[0m_block_selection\u001b[0m\u001b[0;34m(\u001b[0m\u001b[0mselection\u001b[0m\u001b[0;34m)\u001b[0m\u001b[0;34m\u001b[0m\u001b[0;34m\u001b[0m\u001b[0m\n\u001b[0m\u001b[1;32m    149\u001b[0m \u001b[0;34m\u001b[0m\u001b[0m\n\u001b[1;32m    150\u001b[0m     \u001b[0;32mdef\u001b[0m \u001b[0m_get_block_by_id\u001b[0m\u001b[0;34m(\u001b[0m\u001b[0mself\u001b[0m\u001b[0;34m,\u001b[0m \u001b[0mid\u001b[0m\u001b[0;34m)\u001b[0m \u001b[0;34m->\u001b[0m \u001b[0mBlock\u001b[0m\u001b[0;34m:\u001b[0m\u001b[0;34m\u001b[0m\u001b[0;34m\u001b[0m\u001b[0m\n",
      "\u001b[0;32m~/anaconda3/lib/python3.7/site-packages/aml_storage/descriptor.py\u001b[0m in \u001b[0;36m_block_selection\u001b[0;34m(self, selection)\u001b[0m\n\u001b[1;32m    158\u001b[0m             \u001b[0mself\u001b[0m\u001b[0;34m.\u001b[0m\u001b[0m_ptr\u001b[0m\u001b[0;34m,\u001b[0m\u001b[0;34m\u001b[0m\u001b[0;34m\u001b[0m\u001b[0m\n\u001b[1;32m    159\u001b[0m             \u001b[0mblock\u001b[0m\u001b[0;34m,\u001b[0m\u001b[0;34m\u001b[0m\u001b[0;34m\u001b[0m\u001b[0m\n\u001b[0;32m--> 160\u001b[0;31m             \u001b[0mselection\u001b[0m\u001b[0;34m.\u001b[0m\u001b[0m_as_aml_labels_t\u001b[0m\u001b[0;34m(\u001b[0m\u001b[0;34m)\u001b[0m\u001b[0;34m,\u001b[0m\u001b[0;34m\u001b[0m\u001b[0;34m\u001b[0m\u001b[0m\n\u001b[0m\u001b[1;32m    161\u001b[0m         )\n\u001b[1;32m    162\u001b[0m         \u001b[0;32mreturn\u001b[0m \u001b[0mBlock\u001b[0m\u001b[0;34m.\u001b[0m\u001b[0m_from_ptr\u001b[0m\u001b[0;34m(\u001b[0m\u001b[0mblock\u001b[0m\u001b[0;34m,\u001b[0m \u001b[0mparent\u001b[0m\u001b[0;34m=\u001b[0m\u001b[0mself\u001b[0m\u001b[0;34m,\u001b[0m \u001b[0mowning\u001b[0m\u001b[0;34m=\u001b[0m\u001b[0;32mFalse\u001b[0m\u001b[0;34m)\u001b[0m\u001b[0;34m\u001b[0m\u001b[0;34m\u001b[0m\u001b[0m\n",
      "\u001b[0;32m~/anaconda3/lib/python3.7/site-packages/aml_storage/status.py\u001b[0m in \u001b[0;36m_check_status\u001b[0;34m(status)\u001b[0m\n\u001b[1;32m     33\u001b[0m         \u001b[0;32mreturn\u001b[0m\u001b[0;34m\u001b[0m\u001b[0;34m\u001b[0m\u001b[0m\n\u001b[1;32m     34\u001b[0m     \u001b[0;32melif\u001b[0m \u001b[0mstatus\u001b[0m \u001b[0;34m>\u001b[0m \u001b[0mAML_SUCCESS\u001b[0m\u001b[0;34m:\u001b[0m\u001b[0;34m\u001b[0m\u001b[0;34m\u001b[0m\u001b[0m\n\u001b[0;32m---> 35\u001b[0;31m         \u001b[0;32mraise\u001b[0m \u001b[0mAmlError\u001b[0m\u001b[0;34m(\u001b[0m\u001b[0mlast_error\u001b[0m\u001b[0;34m(\u001b[0m\u001b[0;34m)\u001b[0m\u001b[0;34m,\u001b[0m \u001b[0mstatus\u001b[0m\u001b[0;34m)\u001b[0m\u001b[0;34m\u001b[0m\u001b[0;34m\u001b[0m\u001b[0m\n\u001b[0m\u001b[1;32m     36\u001b[0m     \u001b[0;32melif\u001b[0m \u001b[0mstatus\u001b[0m \u001b[0;34m<\u001b[0m \u001b[0mAML_SUCCESS\u001b[0m\u001b[0;34m:\u001b[0m\u001b[0;34m\u001b[0m\u001b[0;34m\u001b[0m\u001b[0m\n\u001b[1;32m     37\u001b[0m         \u001b[0;32mglobal\u001b[0m \u001b[0mLAST_EXCEPTION\u001b[0m\u001b[0;34m\u001b[0m\u001b[0;34m\u001b[0m\u001b[0m\n",
      "\u001b[0;31mAmlError\u001b[0m: invalid parameter: 0 blocks matched the selection (block_type = 2, L = 1, nu = 0, sigma = 1, species_i = 8, species_j = 1), expected only one"
     ]
    }
   ],
   "source": [
    "rho0ij.block(block_type=2, L=1, nu=0, sigma=1, species_i=8, species_j=1).values\n",
    "\n",
    "#this shouldnt work because we ordered the species in increasing atomic number "
   ]
  },
  {
   "cell_type": "markdown",
   "metadata": {},
   "source": [
    "## Some tests you can do-\n",
    "- for even L's block_type -1 should be zero \n",
    "- for odd L's block_type 1 should be zero \n",
    "- block_type=0 - all values should be the same\n",
    "- block_type=2, interchanging center and neighbor species should give equivalent results"
   ]
  },
  {
   "cell_type": "code",
   "execution_count": null,
   "metadata": {},
   "outputs": [],
   "source": [
    "rho0ij.block(block_type=2, L=0, nu=0, sigma=1, species_i=8, species_j=1).values"
   ]
  },
  {
   "cell_type": "code",
   "execution_count": null,
   "metadata": {},
   "outputs": [],
   "source": [
    "# to verify with the rascal spherical expansion- find indices of the relevant samples\n",
    "idx=[]\n",
    "i=0\n",
    "for (struct, center_i, center_j, species_i, species_j) in old_rho0ij.block(L=0).samples:\n",
    "    \n",
    "    if center_i==center_j: \n",
    "        idx.append(i)\n",
    "    i+=1"
   ]
  },
  {
   "cell_type": "code",
   "execution_count": 20,
   "metadata": {},
   "outputs": [
    {
     "data": {
      "text/plain": [
       "array([[[ 0.01039805, -0.00505374,  0.0002431 ]],\n",
       "\n",
       "       [[ 0.01039805, -0.00505374,  0.0002431 ]],\n",
       "\n",
       "       [[ 0.01039805, -0.00505374,  0.0002431 ]],\n",
       "\n",
       "       ...,\n",
       "\n",
       "       [[ 0.01039805, -0.00505374,  0.0002431 ]],\n",
       "\n",
       "       [[ 0.01039805, -0.00505374,  0.0002431 ]],\n",
       "\n",
       "       [[ 0.01039805, -0.00505374,  0.0002431 ]]])"
      ]
     },
     "execution_count": 20,
     "metadata": {},
     "output_type": "execute_result"
    }
   ],
   "source": [
    "old_rho0ij.block(L=0).values[idx]"
   ]
  },
  {
   "cell_type": "code",
   "execution_count": 29,
   "metadata": {},
   "outputs": [
    {
     "data": {
      "text/plain": [
       "Labels([( 0, 0, 0, 1, 1, 1), ( 0, 1, 0, 1, 1, 1), ( 0, 2, 0, 1, 1, 1),\n",
       "        ( 1, 0, 0, 1, 1, 1), (-1, 0, 0, 1, 1, 1), ( 1, 1, 0, 1, 1, 1),\n",
       "        (-1, 1, 0, 1, 1, 1), ( 1, 2, 0, 1, 1, 1), (-1, 2, 0, 1, 1, 1),\n",
       "        ( 2, 0, 0, 1, 1, 8), ( 2, 1, 0, 1, 1, 8), ( 2, 2, 0, 1, 1, 8),\n",
       "        ( 2, 0, 0, 1, 8, 1), ( 2, 1, 0, 1, 8, 1), ( 2, 2, 0, 1, 8, 1),\n",
       "        ( 0, 0, 0, 1, 8, 8), ( 0, 1, 0, 1, 8, 8), ( 0, 2, 0, 1, 8, 8)],\n",
       "       dtype=[('block_type', '<i4'), ('L', '<i4'), ('nu', '<i4'), ('sigma', '<i4'), ('species_i', '<i4'), ('species_j', '<i4')])"
      ]
     },
     "execution_count": 29,
     "metadata": {},
     "output_type": "execute_result"
    }
   ],
   "source": [
    "rho0ij.sparse()"
   ]
  },
  {
   "cell_type": "markdown",
   "metadata": {},
   "source": [
    "# acdc nu1 from acdc.ipynb"
   ]
  },
  {
   "cell_type": "code",
   "execution_count": 21,
   "metadata": {},
   "outputs": [],
   "source": [
    "total_species = sorted(set(rhoi.sparse['center_species']))\n",
    "# total_species = list(np.sort(np.asarray(total_species)))\n",
    "lmax=rascal_hypers[\"max_angular\"]\n",
    "nmax=rascal_hypers[\"max_radial\"]"
   ]
  },
  {
   "cell_type": "code",
   "execution_count": 22,
   "metadata": {},
   "outputs": [],
   "source": [
    "blocks = []\n",
    "for l in range(lmax+1):\n",
    "    for sp_i in total_species:\n",
    "        for sp_k in total_species:\n",
    "            n_selected = nmax#len(np.where(opt_eva[l] > sel_thresh)[0])    \n",
    "            de_block = rhoi.block(center_species = sp_i, neighbor_species=sp_k, spherical_harmonics_l = l)\n",
    "            block = Block(\n",
    "                values = de_block.values,\n",
    "                samples = de_block.samples,\n",
    "                components = Labels([\"m\"],np.asarray(range(-l,l+1), dtype=np.int32).reshape(-1,1)),\n",
    "                features = Labels([\"n\"], np.asarray([[n] for n in range(nmax)], dtype=np.int32))\n",
    "            )\n",
    "            \n",
    "            blocks.append( block )"
   ]
  },
  {
   "cell_type": "code",
   "execution_count": 23,
   "metadata": {},
   "outputs": [
    {
     "data": {
      "text/plain": [
       "Labels([(-2,), (-1,), ( 0,), ( 1,), ( 2,)], dtype=[('m', '<i4')])"
      ]
     },
     "execution_count": 23,
     "metadata": {},
     "output_type": "execute_result"
    }
   ],
   "source": [
    "block.components"
   ]
  },
  {
   "cell_type": "code",
   "execution_count": 24,
   "metadata": {},
   "outputs": [],
   "source": [
    "\n",
    "acdc_nu1 = Descriptor(sparse = Labels(names=[\"L\", \"nu\", \"sigma\",\"species_i\", \"neighbor_species\"], \n",
    "                                      values=np.asarray([[ l, 1, 1, sp_i, sp_k] for l in range(rascal_hypers[\"max_angular\"]+1) \n",
    "                                                        for sp_i in total_species\n",
    "                                                        for sp_k in total_species], dtype=np.int32)\n",
    "                                     ), \n",
    "                      blocks = blocks\n",
    "                     )\n",
    "#move neighbor species to features  \n",
    "# acdc_nu1.sparse_to_features('neighbor_species')"
   ]
  },
  {
   "cell_type": "code",
   "execution_count": 25,
   "metadata": {},
   "outputs": [
    {
     "data": {
      "text/plain": [
       "Labels([(-2,), (-1,), ( 0,), ( 1,), ( 2,)], dtype=[('m', '<i4')])"
      ]
     },
     "execution_count": 25,
     "metadata": {},
     "output_type": "execute_result"
    }
   ],
   "source": [
    "\n",
    "acdc_nu1.block(L=2, nu=1, sigma=1, species_i=1, neighbor_species=8).components"
   ]
  },
  {
   "cell_type": "markdown",
   "metadata": {},
   "source": [
    "# rho1ij"
   ]
  },
  {
   "cell_type": "markdown",
   "metadata": {},
   "source": [
    "Basically we should build a function that takes a tensor product of rho0ij with any rhoi_nu to avoid having to keep implementing different orders of rho_ij. below we attempt to do this. \n",
    "\n",
    "\n",
    "**still work in progress**"
   ]
  },
  {
   "cell_type": "code",
   "execution_count": 26,
   "metadata": {},
   "outputs": [],
   "source": [
    "nu_ij=rho0ij.sparse[\"nu\"][0]"
   ]
  },
  {
   "cell_type": "code",
   "execution_count": 27,
   "metadata": {},
   "outputs": [],
   "source": [
    "rho1 = acdc_nu1.sparse_to_features(\"neighbor_species\")"
   ]
  },
  {
   "cell_type": "code",
   "execution_count": 35,
   "metadata": {},
   "outputs": [],
   "source": [
    "def tensor_g_rho_nu(rho0ij, rhoinu, hypers, cg, feature_names=None):\n",
    "    \"\"\" rho_ij^{nu+1} = <q|rho_i^{nu+1}; kh> <n| rho_ij^{0}; lm> cg \n",
    "    feature_names is a tuple of the form <n_rho0ij, l_rho0ij, n's in rhoi, k|\n",
    "    Make sure you have transferred the species label to the feature (sparse_to_features)\n",
    "    \"\"\"\n",
    "    nu_ij=rho0ij.sparse[\"nu\"][0]\n",
    "    \n",
    "    # rhoinu = acdc_nu1; \n",
    "    feature_names=None\n",
    "    nu_ij=rho0ij.sparse[\"nu\"][0] #should be 0\n",
    "    nu_rho= rhoinu.sparse[\"nu\"][0]\n",
    "    NU = nu_rho+nu_ij\n",
    "\n",
    "    lmax= hypers[\"max_angular\"]\n",
    "\n",
    "    if cg is None:\n",
    "        cg = ClebschGordanReal(lmax)\n",
    "\n",
    "    sparse_labels=copy.deepcopy(rho0ij.sparse)\n",
    "    sparse_labels[\"nu\"] = NU\n",
    "\n",
    "    new_sparse_labels = []\n",
    "    for i in sparse_labels:\n",
    "        new_sparse_labels.append(tuple(i))\n",
    "        i[3]*=-1\n",
    "        if i not in new_sparse_labels:\n",
    "            new_sparse_labels.append(tuple(i))\n",
    "\n",
    "    X_blocks = {new_sparse_labels[i]:[] for i in range(len(new_sparse_labels))}\n",
    "    X_idx = {new_sparse_labels[i]:[] for i in range(len(new_sparse_labels))}\n",
    "    X_samples= {new_sparse_labels[i]:[] for i in range(len(new_sparse_labels))}\n",
    "\n",
    "\n",
    "    if feature_names is None:\n",
    "        feature_names = (\n",
    "            tuple(n + \"_a\" for n in rho0ij.block(0).features.names)\n",
    "            + (\"l_\" + str(NU),)\n",
    "            + tuple(n + \"_b\" for n in acdc_nu1.block(0).features.names)\n",
    "            + (\"k_\" + str(NU),)\n",
    "        )\n",
    "\n",
    "    for index_a, block_a in rho0ij:\n",
    "        block_type = index_a[\"block_type\"]\n",
    "        lam_a = index_a[\"L\"]\n",
    "        sigma_a = index_a[\"sigma\"]\n",
    "        sp_i, sp_j = index_a[\"species_i\"], index_a[\"species_j\"]\n",
    "        for index_b, block_b in rhoinu:\n",
    "            lam_b = index_b[\"L\"]\n",
    "            sigma_b = index_b[\"sigma\"]\n",
    "            rho_sp_i= index_b[\"species_i\"]\n",
    "            if not(sp_i== rho_sp_i):\n",
    "                continue\n",
    "            for L in range(np.abs(lam_a - lam_b),  min(lam_a + lam_b, lmax)+1):\n",
    "                S = sigma_a * sigma_b * (-1) ** (lam_a + lam_b + L)\n",
    "                block_idx=(block_type, L, NU, S, sp_i, sp_j)\n",
    "                sel_feats=[]\n",
    "                for n_a in range(len(block_a.features)):\n",
    "                    f_a = tuple(block_a.features[n_a]) #values of n_a'th feature in block_a.features\n",
    "                    for n_b in range(len(block_b.features)):\n",
    "                        f_b = tuple(block_b.features[n_b]) #values of n_b'th feature in block_b.features\n",
    "                        IDX = f_a  + (lam_a,)+f_b + (lam_b,)\n",
    "                        sel_feats.append([n_a, n_b])\n",
    "                        X_idx[block_idx].append(IDX)\n",
    "\n",
    "                sel_feats = np.asarray(sel_feats, dtype=int)\n",
    "                if len(sel_feats) == 0:\n",
    "                    print(IDX, L, \"len_feats 0\")\n",
    "                    continue\n",
    "\n",
    "    #             #REMEMBER- values.shape = (nstruct*nat fitting the block criteria, 2*l+1, featsize)\n",
    "                if block_type==0:\n",
    "                    if not(sp_i== rho_sp_i):\n",
    "                        continue\n",
    "                    one_shot_blocks = cg.combine_einsum(\n",
    "                     block_a.values[:, :, sel_feats[:, 0]],  #sel_feats[:,0]= n_a\n",
    "                     block_b.values[:, :, sel_feats[:, 1]],  #sel_feats[:,1]= n_b*nspecies\n",
    "                    L,\n",
    "                    combination_string=\"iq,iq->iq\",\n",
    "                ) \n",
    "\n",
    "                    samples = block_a.samples\n",
    "\n",
    "                elif block_type==1: #or block_type==-1: \n",
    "                    if not(sp_i== rho_sp_i):\n",
    "                        continue\n",
    "                    one_shot_blocks_ij = cg.combine_einsum(\n",
    "                     block_a.values[:, :, sel_feats[:, 0]], \n",
    "                     block_b.values[0::2, :, sel_feats[:, 1]],\n",
    "                    L,\n",
    "                    combination_string=\"iq,iq->iq\",\n",
    "                )\n",
    "\n",
    "                    one_shot_blocks_ji = cg.combine_einsum(\n",
    "                     block_a.values[:, :, sel_feats[:, 0]], \n",
    "                     block_b.values[1::2, :, sel_feats[:, 1]],\n",
    "                    L,\n",
    "                    combination_string=\"iq,iq->iq\",\n",
    "                )\n",
    "                    samples = block_a.samples\n",
    "                    one_shot_blocks = (one_shot_blocks_ij+one_shot_blocks_ji)/np.sqrt(2)\n",
    "\n",
    "\n",
    "                elif block_type==-1:\n",
    "                    if not(sp_i== rho_sp_i):\n",
    "                        continue\n",
    "                    one_shot_blocks_ij = cg.combine_einsum(\n",
    "                     block_a.values[:, :, sel_feats[:, 0]], \n",
    "                     block_b.values[0::2, :, sel_feats[:, 1]],\n",
    "                    L,\n",
    "                    combination_string=\"iq,iq->iq\",\n",
    "                )\n",
    "\n",
    "                    one_shot_blocks_ji = cg.combine_einsum(\n",
    "                     block_a.values[:, :, sel_feats[:, 0]], \n",
    "                     block_b.values[1::2, :, sel_feats[:, 1]],\n",
    "                    L,\n",
    "                    combination_string=\"iq,iq->iq\",\n",
    "                )\n",
    "                    samples = block_a.samples\n",
    "                    one_shot_blocks = (one_shot_blocks_ij-one_shot_blocks_ji)/np.sqrt(2)\n",
    "\n",
    "                elif block_type==2:\n",
    "                    #TODO: recheck this \n",
    "    #                     if sp_i<rho_sp_i:\n",
    "    #                         continue\n",
    "                    if not(sp_i== rho_sp_i):\n",
    "                        continue\n",
    "                    #print(sp_i, rho_sp_i, sp_j, block_a.values.shape, block_b.values.shape)\n",
    "                    one_shot_blocks = cg.combine_einsum(\n",
    "                     block_a.values[:, :, sel_feats[:, 0]], \n",
    "                     block_b.values[:, :, sel_feats[:, 1]],\n",
    "                    L,\n",
    "                    combination_string=\"iq,iq->iq\",\n",
    "                )\n",
    "                    samples = block_a.samples\n",
    "\n",
    "                else: \n",
    "                    print(block_type)\n",
    "                    print(\"get the block type right you idiot\")\n",
    "\n",
    "                for Q in range(len(sel_feats)):\n",
    "                    (n_a, n_b) = sel_feats[Q]\n",
    "                    species_k, n = block_b.features[n_b]  #how to generalize this for nu\n",
    "                    IDX = (n_a,)  + (lam_a,)+(species_k,)+(n,) + (lam_b,)\n",
    "                    newblock = one_shot_blocks[:, :, Q]\n",
    "#                     if(IDX not in X_idx[(block_type, L, NU, S, sp_i, sp_j)]):\n",
    "#                         X_idx[(block_type, L, NU, S, sp_i, sp_j)].append(IDX)\n",
    "   \n",
    "                    X_blocks[block_idx].append(newblock)\n",
    "                    X_samples[block_idx].append(samples)\n",
    "    nonzero_idx = []\n",
    "\n",
    "    nonzero_blocks = []\n",
    "    for block_idx in X_blocks:\n",
    "        block_type, L, NU, S, sp_i, sp_j = block_idx\n",
    "        # create blocks\n",
    "        if len(X_blocks[block_idx]) == 0:\n",
    "            continue  # skips empty blocks\n",
    "\n",
    "        nonzero_idx.append(block_idx)\n",
    "        block_data = np.moveaxis(np.asarray(X_blocks[block_idx]), 0, -1) \n",
    "        block_samples = X_samples[block_idx][0]\n",
    "    \n",
    "        newblock = Block(\n",
    "            values=block_data,\n",
    "            samples=block_samples,\n",
    "            components=Labels(\n",
    "                [\"mu\"], np.asarray(range(-L, L + 1), dtype=np.int32).reshape(-1, 1)\n",
    "            ),\n",
    "            features=Labels(feature_names, np.asarray(X_idx[block_idx], dtype=np.int32)),\n",
    "        )\n",
    "\n",
    "        nonzero_blocks.append(newblock)\n",
    "        print(block_idx, 'done')\n",
    "\n",
    "    X = Descriptor(\n",
    "        Labels(rho0ij.sparse.names, np.asarray(nonzero_idx, dtype=np.int32)), nonzero_blocks\n",
    "    )\n",
    "\n",
    "\n",
    "    return X"
   ]
  },
  {
   "cell_type": "code",
   "execution_count": 36,
   "metadata": {},
   "outputs": [
    {
     "name": "stderr",
     "output_type": "stream",
     "text": [
      "/Users/jigyasa/anaconda3/lib/python3.7/site-packages/ipykernel_launcher.py:26: FutureWarning: elementwise == comparison failed and returning scalar instead; this will raise an error or perform elementwise comparison in the future.\n"
     ]
    },
    {
     "name": "stdout",
     "output_type": "stream",
     "text": [
      "(0, 0, 1, 1, 1, 1) done\n",
      "(0, 1, 1, 1, 1, 1) done\n",
      "(0, 1, 1, -1, 1, 1) done\n",
      "(0, 2, 1, 1, 1, 1) done\n",
      "(0, 2, 1, -1, 1, 1) done\n",
      "(1, 0, 1, 1, 1, 1) done\n",
      "(-1, 0, 1, 1, 1, 1) done\n",
      "(1, 1, 1, 1, 1, 1) done\n",
      "(1, 1, 1, -1, 1, 1) done\n",
      "(-1, 1, 1, 1, 1, 1) done\n",
      "(-1, 1, 1, -1, 1, 1) done\n",
      "(1, 2, 1, 1, 1, 1) done\n",
      "(1, 2, 1, -1, 1, 1) done\n",
      "(-1, 2, 1, 1, 1, 1) done\n",
      "(-1, 2, 1, -1, 1, 1) done\n",
      "(2, 0, 1, 1, 1, 8) done\n",
      "(2, 1, 1, 1, 1, 8) done\n",
      "(2, 1, 1, -1, 1, 8) done\n",
      "(2, 2, 1, 1, 1, 8) done\n",
      "(2, 2, 1, -1, 1, 8) done\n",
      "(0, 0, 1, 1, 8, 8) done\n",
      "(0, 1, 1, 1, 8, 8) done\n",
      "(0, 1, 1, -1, 8, 8) done\n",
      "(0, 2, 1, 1, 8, 8) done\n",
      "(0, 2, 1, -1, 8, 8) done\n"
     ]
    }
   ],
   "source": [
    "rho1ij=tensor_g_rho_nu(rho0ij, acdc_nu1, rascal_hypers, cg)"
   ]
  },
  {
   "cell_type": "code",
   "execution_count": 34,
   "metadata": {},
   "outputs": [
    {
     "data": {
      "text/plain": [
       "Labels([(  0, 1, 1), (  0, 2, 2), (  1, 1, 1), ..., (998, 2, 2),\n",
       "        (999, 1, 1), (999, 2, 2)],\n",
       "       dtype=[('structure', '<i4'), ('center_i', '<i4'), ('center_j', '<i4')])"
      ]
     },
     "execution_count": 34,
     "metadata": {},
     "output_type": "execute_result"
    }
   ],
   "source": [
    "rho1ij.block(0)."
   ]
  },
  {
   "cell_type": "code",
   "execution_count": null,
   "metadata": {},
   "outputs": [],
   "source": []
  },
  {
   "cell_type": "code",
   "execution_count": null,
   "metadata": {},
   "outputs": [],
   "source": []
  },
  {
   "cell_type": "code",
   "execution_count": null,
   "metadata": {},
   "outputs": [],
   "source": []
  },
  {
   "cell_type": "code",
   "execution_count": null,
   "metadata": {},
   "outputs": [],
   "source": []
  },
  {
   "cell_type": "code",
   "execution_count": null,
   "metadata": {},
   "outputs": [],
   "source": []
  },
  {
   "cell_type": "code",
   "execution_count": null,
   "metadata": {},
   "outputs": [],
   "source": []
  },
  {
   "cell_type": "code",
   "execution_count": null,
   "metadata": {},
   "outputs": [],
   "source": []
  },
  {
   "cell_type": "code",
   "execution_count": null,
   "metadata": {},
   "outputs": [],
   "source": []
  },
  {
   "cell_type": "markdown",
   "metadata": {},
   "source": [
    "# CRAP"
   ]
  },
  {
   "cell_type": "code",
   "execution_count": 58,
   "metadata": {},
   "outputs": [],
   "source": [
    "def hamiltonian_rep(frames, hypers, nu):\n",
    "    if nu>0:\n",
    "        raise ValueError(\"nu>0 not implemented\")\n",
    "    nu0_desc = compute_rho0ij(hypers, frames)\n",
    "    \n",
    "    sparse = (block_type, center_sp, neighbor_sp, L, sigma)"
   ]
  },
  {
   "cell_type": "code",
   "execution_count": 313,
   "metadata": {},
   "outputs": [],
   "source": [
    "gij_expansion=calculator.transform(ijframes).get_features(calculator).reshape(len(ijframes), len(ijf), max_atoms, hypers[\"max_radial\"], -1)\n"
   ]
  },
  {
   "cell_type": "code",
   "execution_count": 389,
   "metadata": {},
   "outputs": [],
   "source": [
    "feat_builder= DescriptorBuilder([\"block_type\", \"L\", \"nu\", \"sigma\",  \"center_species\", \"neighbor_species\"], [\"structure\", \"center_i\", \"center_j\"], [\"mu\"], [\"n\"])\n",
    "\n",
    "pair_loc=[]\n",
    "lmax = hypers[\"max_angular\"]\n",
    "for sp_i in actual_global_species:\n",
    "    for sp_j in actual_global_species:\n",
    "        center_species_mask = np.where(info[:, 2] == sp_i)[0]\n",
    "        neighbor_species_mask = np.where(info[:, 2] == sp_j)[0]\n",
    "        for i, (struct_i, atom_i) in enumerate(info[center_species_mask[:]][...,:-1]):\n",
    "            for j, (struct_j, atom_j) in enumerate(info[neighbor_species_mask[:]][...,:-1]):\n",
    "                if not (struct_i==struct_j):\n",
    "                    continue\n",
    "                if atom_i==atom_j:\n",
    "                        block_type = 0  # diagonal\n",
    "                elif sp_i==sp_j:\n",
    "                    block_type = 1  # same-species\n",
    "                else:\n",
    "                    block_type = 2  # different species\n",
    "                if [struct_i, atom_j, atom_i] not in pair_loc:\n",
    "                    pair_loc.append([struct_i, atom_i, atom_j])\n",
    "\n",
    "                for l in range(lmax+1):\n",
    "                    block_idx=(block_type, l, 0, 1, sp_i, sp_j)\n",
    "                    if block_idx not in feat_builder.blocks:\n",
    "                        block = feat_builder.add_block(sparse=block_idx, features=np.asarray([list(range(hypers[\"max_radial\"]))], dtype=np.int32).T, \n",
    "                            components=np.asarray([list(range(-l, l+1))], dtype=np.int32 ).T )                                                    \n",
    "#                         if block_type == 1:\n",
    "#                             block_asym = feat_builder.add_block(sparse=(-1,)+block_idx[1:], features=np.asarray([list(range(hypers[\"max_radial\"]))], dtype=np.int32).T,\n",
    "#                             components=np.asarray([list(range(-l, l+1))], dtype=np.int32 ).T )                                                    \n",
    "                    else:                        \n",
    "                        block = feat_builder.blocks[block_idx]\n",
    "#                         if block_type == 1:\n",
    "#                             block_asym = feat_builder.blocks[(-1,)+block_idx[1:]]\n",
    "\n",
    "                    block_data =gij_expansion[struct_i][atom_i%3, atom_j%3, :, lm_slices[l]].T\n",
    "#                     if block_type == 1:\n",
    "#                         kj_offset = kj-kj_base\n",
    "#                         ki_offset = ki-ki_base\n",
    "#                         block_data_ji = np.asarray(ham[kj_base+ki_offset:kj_base+ki_offset+2*li+1, ki_base+kj_offset:ki_base+kj_offset+2*lj+1])                        \n",
    "#                         block.add_samples(labels=[(A,i,j, ki_base, kj_base)], data=(block_data_ij+block_data_ji).reshape((1,-1,1))/np.sqrt(2) )\n",
    "#                         block_asym.add_samples(labels=[(A,i,j,ki_base, kj_base)], data=(block_data_ij-block_data_ji).reshape((1,-1,1))/np.sqrt(2) )\n",
    "#                     else:\n",
    "                    block.add_samples(labels=np.asarray([[struct_i, atom_i%3, atom_j%3]], dtype=np.int32), data=block_data.reshape(1, -1, block_data.shape[1]))\n",
    "#                     block.add_features(labels=[(n,)], data=block_data_ij.reshape((1,-1,1))"
   ]
  },
  {
   "cell_type": "code",
   "execution_count": 390,
   "metadata": {},
   "outputs": [],
   "source": [
    "aa=feat_builder.build()"
   ]
  },
  {
   "cell_type": "code",
   "execution_count": 305,
   "metadata": {},
   "outputs": [
    {
     "data": {
      "text/plain": [
       "<utils.builder.BlockBuilderPerFeatures at 0x7fb190481860>"
      ]
     },
     "execution_count": 305,
     "metadata": {},
     "output_type": "execute_result"
    }
   ],
   "source": [
    "block.add_samples(labels=np.asarray([[struct_i, atom_i, atom_j]], dtype=np.int32), values=block_data)"
   ]
  },
  {
   "cell_type": "code",
   "execution_count": 249,
   "metadata": {},
   "outputs": [
    {
     "ename": "TypeError",
     "evalue": "__init__() missing 2 required positional arguments: 'values' and 'features'",
     "output_type": "error",
     "traceback": [
      "\u001b[0;31m---------------------------------------------------------------------------\u001b[0m",
      "\u001b[0;31mTypeError\u001b[0m                                 Traceback (most recent call last)",
      "\u001b[0;32m<ipython-input-249-319b2c69fc8c>\u001b[0m in \u001b[0;36m<module>\u001b[0;34m\u001b[0m\n\u001b[1;32m     25\u001b[0m \u001b[0;31m#                 values=np.copy(block_data),\u001b[0m\u001b[0;34m\u001b[0m\u001b[0;34m\u001b[0m\u001b[0;34m\u001b[0m\u001b[0m\n\u001b[1;32m     26\u001b[0m                 \u001b[0msamples\u001b[0m\u001b[0;34m=\u001b[0m\u001b[0msamples\u001b[0m\u001b[0;34m,\u001b[0m\u001b[0;34m\u001b[0m\u001b[0;34m\u001b[0m\u001b[0m\n\u001b[0;32m---> 27\u001b[0;31m                 \u001b[0mcomponents\u001b[0m\u001b[0;34m=\u001b[0m\u001b[0mcomponents\u001b[0m\u001b[0;34m,\u001b[0m\u001b[0;34m\u001b[0m\u001b[0;34m\u001b[0m\u001b[0m\n\u001b[0m\u001b[1;32m     28\u001b[0m \u001b[0;31m#                 features=features,\u001b[0m\u001b[0;34m\u001b[0m\u001b[0;34m\u001b[0m\u001b[0;34m\u001b[0m\u001b[0m\n\u001b[1;32m     29\u001b[0m             )\n",
      "\u001b[0;31mTypeError\u001b[0m: __init__() missing 2 required positional arguments: 'values' and 'features'"
     ]
    }
   ],
   "source": [
    "blocks = []\n",
    "for idx, (l, nu, sigma, sp_i, sp_j, ) in enumerate(sparse):\n",
    "    center_species_mask = np.where(info[:, 2] == sp_i)[0]\n",
    "    neighbor_species_mask = np.where(info[:, 2] == sp_j)[0]\n",
    "\n",
    "    pair_loc=[]\n",
    "    for i, (struct_i, atom_i) in enumerate(info[center_species_mask[:]][...,:-1]):\n",
    "        for j, (struct_j, atom_j) in enumerate(info[neighbor_species_mask[:]][...,:-1]):\n",
    "            if struct_i==struct_j:\n",
    "                if [struct_i, atom_j, atom_i] not in pair_loc:\n",
    "                    pair_loc.append([struct_i, atom_i, atom_j])\n",
    "                    \n",
    "    samples = Labels(\n",
    "        names=[\"structure\", \"center_i\", \"center_j\"],\n",
    "        values=np.copy(pair_loc).astype(np.int32),\n",
    "    )\n",
    "    \n",
    "    \n",
    "    \n",
    "    components = Labels(\n",
    "                names=[\"mu\"],\n",
    "                values=np.array([[m] for m in range(-l, l + 1)], dtype=np.int32),\n",
    "            )\n",
    "    \n",
    "    block_data = gij.block(spherical_harmonic_l=l).samples[]\n",
    "    block = Block(\n",
    "                values=np.copy(block_data),\n",
    "                samples=samples,\n",
    "                components=components,\n",
    "#                 features=features,\n",
    "            )\n",
    "    blocks.append(block)\n",
    "Descriptor(sparse, blocks)"
   ]
  },
  {
   "cell_type": "code",
   "execution_count": 361,
   "metadata": {},
   "outputs": [],
   "source": [
    "sp_j=1\n",
    "sp_i=8\n",
    "center_species_mask = np.where(info[:, 2] == sp_i)[0]\n",
    "neighbor_species_mask = np.where(info[:, 2] == sp_j)[0]"
   ]
  },
  {
   "cell_type": "code",
   "execution_count": 364,
   "metadata": {},
   "outputs": [],
   "source": [
    "pair_loc=[]\n",
    "for i, (struct_i, atom_i) in enumerate(info[center_species_mask[:]][...,:-1]):\n",
    "    for j, (struct_j, atom_j) in enumerate(info[neighbor_species_mask[:]][...,:-1]):\n",
    "        if struct_i==struct_j:\n",
    "            if [struct_i, int(atom_j), int(atom_i)] not in pair_loc:\n",
    "                pair_loc.append([struct_i, int(atom_i), int(atom_j)])#+list(j[1:]))"
   ]
  },
  {
   "cell_type": "code",
   "execution_count": null,
   "metadata": {},
   "outputs": [],
   "source": [
    "hypers=rascal_hypers"
   ]
  },
  {
   "cell_type": "code",
   "execution_count": null,
   "metadata": {},
   "outputs": [],
   "source": [
    "#hypers = copy.deepcopy(self._hypers)\n",
    "if hypers[\"compute_gradients\"]:\n",
    "    raise Exception(\"Pair expansion with gradient is not implemented\")\n",
    "\n",
    "# max_atoms = max([len(f) for f in frames])\n",
    "# global_species = list(range(max_atoms))\n",
    "\n",
    "# hypers[\"global_species\"] = global_species\n",
    "# hypers[\"expansion_by_species_method\"] = \"user defined\"\n",
    "\n",
    "# ijframes = []\n",
    "# for f in frames:\n",
    "#     ijf = f.copy()\n",
    "#     ijf.numbers = global_species[:len(f)]\n",
    "#     ijframes.append(ijf)\n",
    "\n",
    "calculator = SphericalExpansion(**hypers)\n",
    "\n",
    "# Step 2: move data around to follow the storage convention\n",
    "sparse = Labels(\n",
    "    names=[\"spherical_harmonics_l\"],\n",
    "    values=np.array(\n",
    "        [\n",
    "            [l]\n",
    "            for l in range(hypers[\"max_angular\"] + 1)                    \n",
    "        ],\n",
    "        dtype=np.int32,\n",
    "    ),\n",
    ")\n",
    "\n",
    "features = Labels(\n",
    "    names=[\"n\"],\n",
    "    values=np.array([[n] for n in range(hypers[\"max_radial\"])], dtype=np.int32),\n",
    ")\n",
    "\n",
    "lm_slices = []\n",
    "start = 0\n",
    "for l in range(hypers[\"max_angular\"] + 1):\n",
    "    stop = start + 2 * l + 1\n",
    "    lm_slices.append(slice(start, stop))\n",
    "    start = stop\n",
    "\n",
    "data = []\n",
    "samples = []\n",
    "for i, ijf in enumerate(ijframes):\n",
    "    idata = calculator.transform(ijf).get_features(calculator).reshape(len(ijf), max_atoms, hypers[\"max_radial\"], -1)\n",
    "    nonzero = np.where( (idata**2).sum(axis=(2,3)) > 1e-20)\n",
    "    data.append(idata[nonzero[0], nonzero[1]].reshape(len(nonzero[0]),hypers[\"max_radial\"],-1) )\n",
    "    samples.append( np.asarray( [nonzero[0]*0+i, nonzero[0], nonzero[1]] ).T )\n",
    "\n",
    "data = np.concatenate(data)\n",
    "samples = Labels(\n",
    "        names=[\"structure\", \"center_i\", \"center_j\"],\n",
    "        values=np.concatenate(samples).astype(np.int32)\n",
    ")\n",
    "blocks = []\n",
    "for (l,) in sparse:\n",
    "    block_data = data[..., lm_slices[l]]\n",
    "    block_data = block_data.swapaxes(1, 2)\n",
    "\n",
    "    components = Labels(\n",
    "        names=[\"spherical_harmonics_m\"],\n",
    "        values=np.array([[m] for m in range(-l, l + 1)], dtype=np.int32),\n",
    "    )\n",
    "\n",
    "    block = Block(\n",
    "        values=np.copy(block_data),\n",
    "        samples=samples,\n",
    "        components=components,\n",
    "        features=features,\n",
    "    )\n",
    "\n",
    "    blocks.append(block)\n"
   ]
  }
 ],
 "metadata": {
  "interpreter": {
   "hash": "e5b9818494c5e2e4b1f356a8c3298778da7fbcf7ee16e565b1a5192ca7e31aaa"
  },
  "kernelspec": {
   "display_name": "Python 3",
   "language": "python",
   "name": "python3"
  },
  "language_info": {
   "codemirror_mode": {
    "name": "ipython",
    "version": 3
   },
   "file_extension": ".py",
   "mimetype": "text/x-python",
   "name": "python",
   "nbconvert_exporter": "python",
   "pygments_lexer": "ipython3",
   "version": "3.7.3"
  },
  "toc": {
   "base_numbering": 1,
   "nav_menu": {},
   "number_sections": true,
   "sideBar": true,
   "skip_h1_title": false,
   "title_cell": "Table of Contents",
   "title_sidebar": "Contents",
   "toc_cell": false,
   "toc_position": {},
   "toc_section_display": true,
   "toc_window_display": false
  }
 },
 "nbformat": 4,
 "nbformat_minor": 2
}
