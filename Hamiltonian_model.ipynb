{
 "cells": [
  {
   "cell_type": "code",
   "execution_count": 1,
   "id": "f78265a0",
   "metadata": {},
   "outputs": [],
   "source": [
    "%load_ext autoreload\n",
    "%autoreload 2"
   ]
  },
  {
   "cell_type": "code",
   "execution_count": 2,
   "id": "f02d6531",
   "metadata": {},
   "outputs": [],
   "source": [
    "import numpy as np\n",
    "import json\n",
    "from equistore import Labels, TensorBlock, TensorMap\n",
    "from utils.builder import DescriptorBuilder\n",
    "import ase.io\n",
    "from itertools import product\n",
    "from utils.clebsh_gordan import ClebschGordanReal\n",
    "from utils.hamiltonians import fix_pyscf_l1, dense_to_blocks, blocks_to_dense, couple_blocks, decouple_blocks\n",
    "import matplotlib.pyplot as plt\n",
    "from utils.librascal import  RascalSphericalExpansion, RascalPairExpansion\n",
    "from rascal.representations import SphericalExpansion\n",
    "import copy\n",
    "from utils.pair_features import *"
   ]
  },
  {
   "cell_type": "markdown",
   "id": "2f378477",
   "metadata": {},
   "source": [
    "## Manipulate Hamiltonian into blocks"
   ]
  },
  {
   "cell_type": "code",
   "execution_count": 3,
   "id": "3472f629",
   "metadata": {},
   "outputs": [],
   "source": [
    "frames = ase.io.read(\"data/water-hamiltonian/water_coords_1000.xyz\",\":1\")\n",
    "for f in frames:\n",
    "    f.cell = [100,100,100]\n",
    "    f.positions += 50"
   ]
  },
  {
   "cell_type": "code",
   "execution_count": 4,
   "id": "c4aee68d",
   "metadata": {},
   "outputs": [],
   "source": [
    "#jorbs = json.load(open('data/water-hamiltonian/water_orbs.json', \"r\"))\n",
    "jorbs = json.loads(json.load(open('data/water-hamiltonian/water_orbs.json', \"r\")))\n",
    "orbs = {}\n",
    "zdic = {\"O\" : 8, \"H\":1}\n",
    "for k in jorbs:\n",
    "    orbs[zdic[k]] = jorbs[k]"
   ]
  },
  {
   "cell_type": "code",
   "execution_count": 5,
   "id": "7d51cf3e",
   "metadata": {},
   "outputs": [],
   "source": [
    "hams = np.load(\"data/water-hamiltonian/water_saph_orthogonal.npy\", allow_pickle=True)\n",
    "for i, f in enumerate(frames):\n",
    "    hams[i] = fix_pyscf_l1(hams[i], f, orbs)\n",
    "\n",
    "blocks = dense_to_blocks(hams, frames, orbs)"
   ]
  },
  {
   "cell_type": "code",
   "execution_count": 6,
   "id": "292ca2f4",
   "metadata": {},
   "outputs": [],
   "source": [
    "cg = ClebschGordanReal(4)"
   ]
  },
  {
   "cell_type": "code",
   "execution_count": 7,
   "id": "2819f669",
   "metadata": {},
   "outputs": [],
   "source": [
    "coupled = couple_blocks(blocks, cg)\n",
    "\n",
    "fock_bc = coupled"
   ]
  },
  {
   "cell_type": "markdown",
   "id": "256ab19e",
   "metadata": {},
   "source": [
    "## Feature computation"
   ]
  },
  {
   "cell_type": "code",
   "execution_count": 8,
   "id": "abe5e91b",
   "metadata": {},
   "outputs": [],
   "source": [
    "rascal_hypers = {\n",
    "    \"interaction_cutoff\": 3.5,\n",
    "    \"cutoff_smooth_width\": 0.5,\n",
    "    \"max_radial\": 3,\n",
    "    \"max_angular\": 2,\n",
    "    \"gaussian_sigma_type\": \"Constant\",\n",
    "    \"compute_gradients\":  False,\n",
    "}\n",
    "\n",
    "spex = RascalSphericalExpansion(rascal_hypers)\n",
    "rhoi = spex.compute(frames)"
   ]
  },
  {
   "cell_type": "code",
   "execution_count": 9,
   "id": "6e310046",
   "metadata": {},
   "outputs": [],
   "source": [
    "pairs = RascalPairExpansion(rascal_hypers)\n",
    "gij = pairs.compute(frames)"
   ]
  },
  {
   "cell_type": "code",
   "execution_count": 10,
   "id": "172cecae",
   "metadata": {},
   "outputs": [],
   "source": [
    "rho0ij = rho0ij_builder(rascal_hypers, frames)"
   ]
  },
  {
   "cell_type": "code",
   "execution_count": 11,
   "id": "2d31a0f1",
   "metadata": {},
   "outputs": [],
   "source": [
    "total_species = sorted(set(rhoi.keys['center_species']))\n",
    "# total_species = list(np.sort(np.asarray(total_species)))\n",
    "lmax=rascal_hypers[\"max_angular\"]\n",
    "nmax=rascal_hypers[\"max_radial\"]"
   ]
  },
  {
   "cell_type": "code",
   "execution_count": 12,
   "id": "fc532c11",
   "metadata": {},
   "outputs": [],
   "source": [
    "blocks = []\n",
    "for l in range(lmax+1):\n",
    "    for sp_i in total_species:\n",
    "        for sp_k in total_species:\n",
    "            n_selected = nmax#len(np.where(opt_eva[l] > sel_thresh)[0])    \n",
    "            de_block = rhoi.block(center_species = sp_i, neighbor_species=sp_k, spherical_harmonics_l = l)\n",
    "            block = TensorBlock(\n",
    "                values = de_block.values,\n",
    "                samples = de_block.samples,\n",
    "                components = [Labels([\"m\"],np.asarray(range(-l,l+1), dtype=np.int32).reshape(-1,1))],\n",
    "                properties = Labels([\"n\"], np.asarray([[n] for n in range(nmax)], dtype=np.int32))\n",
    "            )\n",
    "            \n",
    "            blocks.append( block )\n",
    "\n",
    "acdc_nu1 = TensorMap(\n",
    "    keys = Labels(names=[\"L\", \"nu\", \"sigma\",\"species_i\", \"neighbor_species\"], \n",
    "                        values=np.asarray([[ l, 1, 1, sp_i, sp_k] for l in range(rascal_hypers[\"max_angular\"]+1) \n",
    "                                                        for sp_i in total_species\n",
    "                                                        for sp_k in total_species], dtype=np.int32)\n",
    "                                     ), \n",
    "                      blocks = blocks\n",
    "                     )\n",
    "#move neighbor species to features  \n",
    "# acdc_nu1.sparse_to_features('neighbor_species')"
   ]
  },
  {
   "cell_type": "code",
   "execution_count": 13,
   "id": "b51756a8",
   "metadata": {},
   "outputs": [],
   "source": [
    "rho1 = acdc_nu1.keys_to_properties(\"neighbor_species\")"
   ]
  },
  {
   "cell_type": "code",
   "execution_count": 14,
   "id": "1abed093",
   "metadata": {},
   "outputs": [
    {
     "name": "stdout",
     "output_type": "stream",
     "text": [
      "(0, 0, 1, 1, 1, 1) done\n",
      "(0, 1, 1, 1, 1, 1) done\n",
      "(0, 1, 1, -1, 1, 1) done\n",
      "(0, 2, 1, 1, 1, 1) done\n",
      "(0, 2, 1, -1, 1, 1) done\n",
      "(1, 0, 1, 1, 1, 1) done\n",
      "(-1, 0, 1, 1, 1, 1) done\n",
      "(1, 1, 1, 1, 1, 1) done\n",
      "(1, 1, 1, -1, 1, 1) done\n",
      "(-1, 1, 1, 1, 1, 1) done\n",
      "(-1, 1, 1, -1, 1, 1) done\n",
      "(1, 2, 1, 1, 1, 1) done\n",
      "(1, 2, 1, -1, 1, 1) done\n",
      "(-1, 2, 1, 1, 1, 1) done\n",
      "(-1, 2, 1, -1, 1, 1) done\n",
      "(2, 0, 1, 1, 1, 8) done\n",
      "(2, 1, 1, 1, 1, 8) done\n",
      "(2, 1, 1, -1, 1, 8) done\n",
      "(2, 2, 1, 1, 1, 8) done\n",
      "(2, 2, 1, -1, 1, 8) done\n",
      "(0, 0, 1, 1, 8, 8) done\n",
      "(0, 1, 1, 1, 8, 8) done\n",
      "(0, 1, 1, -1, 8, 8) done\n",
      "(0, 2, 1, 1, 8, 8) done\n",
      "(0, 2, 1, -1, 8, 8) done\n"
     ]
    },
    {
     "name": "stderr",
     "output_type": "stream",
     "text": [
      "/Users/divya/scratch/aml-hamiltonian-1234/utils/pair_features.py:142: FutureWarning: elementwise == comparison failed and returning scalar instead; this will raise an error or perform elementwise comparison in the future.\n",
      "  if i not in new_sparse_labels:\n"
     ]
    }
   ],
   "source": [
    "rho1ij=tensor_g_rho_nu(rho0ij, acdc_nu1, rascal_hypers, cg)"
   ]
  },
  {
   "cell_type": "code",
   "execution_count": 15,
   "id": "2f379d11",
   "metadata": {},
   "outputs": [],
   "source": [
    "feats = rho1ij"
   ]
  },
  {
   "cell_type": "markdown",
   "id": "58c5b336",
   "metadata": {},
   "source": [
    "## Testing model on one structure"
   ]
  },
  {
   "cell_type": "code",
   "execution_count": 16,
   "id": "fc2f3c3e",
   "metadata": {},
   "outputs": [],
   "source": [
    "from utils.Hamiltonian_model_utils import *"
   ]
  },
  {
   "cell_type": "code",
   "execution_count": 17,
   "id": "a168fdae",
   "metadata": {},
   "outputs": [],
   "source": [
    "FR = Fock_regression(jorbs)"
   ]
  },
  {
   "cell_type": "code",
   "execution_count": 18,
   "id": "5b25f190",
   "metadata": {},
   "outputs": [],
   "source": [
    "FR.fit(feats, fock_bc)"
   ]
  },
  {
   "cell_type": "code",
   "execution_count": 19,
   "id": "f62715c2",
   "metadata": {},
   "outputs": [
    {
     "name": "stdout",
     "output_type": "stream",
     "text": [
      "(0, 8, 2, 0, 8, 2, 0, 0) (1, 1, 1)\n",
      "(0, 8, 2, 0, 8, 2, 1, 1) (1, 3, 1)\n",
      "(0, 8, 2, 1, 8, 2, 1, 0) (1, 1, 1)\n",
      "(0, 8, 2, 1, 8, 2, 1, 2) (1, 5, 1)\n",
      "(2, 1, 1, 0, 8, 2, 0, 0) (2, 1, 1)\n",
      "(2, 1, 1, 0, 8, 2, 1, 1) (2, 3, 1)\n",
      "(0, 1, 1, 0, 1, 1, 0, 0) (2, 1, 1)\n",
      "(1, 1, 1, 0, 1, 1, 0, 0) (1, 1, 1)\n"
     ]
    }
   ],
   "source": [
    "pred = FR.predict(feats)"
   ]
  },
  {
   "cell_type": "code",
   "execution_count": 20,
   "id": "3ccb5e78",
   "metadata": {},
   "outputs": [
    {
     "name": "stdout",
     "output_type": "stream",
     "text": [
      "[[[-0.83320298]]]\n",
      "[[[-8.68039665e-10]\n",
      "  [ 1.27389862e-01]\n",
      "  [ 9.41524938e-02]]]\n",
      "[[[0.64651612]]]\n",
      "[[[ 3.94035545e-11]\n",
      "  [ 1.15190702e-15]\n",
      "  [ 3.82237770e-02]\n",
      "  [-1.13063712e-01]\n",
      "  [ 1.71484860e-01]]]\n",
      "[[[-0.50162485]]\n",
      "\n",
      " [[-0.39546113]]]\n",
      "[[[ 5.15115859e-10]\n",
      "  [-4.17477906e-01]\n",
      "  [ 8.02670810e-02]]\n",
      "\n",
      " [[-1.12716623e-09]\n",
      "  [ 4.78505673e-02]\n",
      "  [-4.06783377e-01]]]\n",
      "[[[-0.43368077]]\n",
      "\n",
      " [[-0.36748818]]]\n",
      "[[[-0.27498094]]]\n"
     ]
    }
   ],
   "source": [
    "for i in range(len(fock_bc.keys)):\n",
    "    print(fock_bc.block(i).values -pred.block(i).values )"
   ]
  },
  {
   "cell_type": "code",
   "execution_count": null,
   "id": "5d2e993c",
   "metadata": {},
   "outputs": [],
   "source": []
  }
 ],
 "metadata": {
  "kernelspec": {
   "display_name": "Python 3 (ipykernel)",
   "language": "python",
   "name": "python3"
  },
  "language_info": {
   "codemirror_mode": {
    "name": "ipython",
    "version": 3
   },
   "file_extension": ".py",
   "mimetype": "text/x-python",
   "name": "python",
   "nbconvert_exporter": "python",
   "pygments_lexer": "ipython3",
   "version": "3.9.11"
  }
 },
 "nbformat": 4,
 "nbformat_minor": 5
}
