{
 "cells": [
  {
   "cell_type": "code",
   "execution_count": 1,
   "metadata": {},
   "outputs": [],
   "source": [
    "%load_ext autoreload\n",
    "%autoreload 2"
   ]
  },
  {
   "cell_type": "code",
   "execution_count": 2,
   "metadata": {},
   "outputs": [],
   "source": [
    "import numpy as np\n",
    "\n",
    "from aml_storage import Labels, Block, Descriptor\n",
    "\n",
    "from utils.librascal import RascalSphericalExpansion\n",
    "\n",
    "import ase.io"
   ]
  },
  {
   "cell_type": "code",
   "execution_count": 3,
   "metadata": {},
   "outputs": [],
   "source": [
    "frames = ase.io.read(\"data/molecule_conformers_dftb.xyz\", \":2\")"
   ]
  },
  {
   "cell_type": "code",
   "execution_count": 4,
   "metadata": {},
   "outputs": [
    {
     "name": "stderr",
     "output_type": "stream",
     "text": [
      "/Users/guillaume/code/aml-storage-examples/utils/librascal.py:92: UserWarning: numpy/forward gradients are currently broken with librascal,please use rascaline instead\n",
      "  warnings.warn(\n"
     ]
    }
   ],
   "source": [
    "rascal_hypers = {\n",
    "    \"interaction_cutoff\": 3.5,\n",
    "    \"cutoff_smooth_width\": 0.5,\n",
    "    \"max_radial\": 6,\n",
    "    \"max_angular\": 6,\n",
    "    \"gaussian_sigma_type\": \"Constant\",\n",
    "    \"compute_gradients\": True,\n",
    "}\n",
    "\n",
    "calculator = RascalSphericalExpansion(rascal_hypers)\n",
    "descriptor = calculator.compute(frames)"
   ]
  },
  {
   "cell_type": "code",
   "execution_count": 5,
   "metadata": {},
   "outputs": [
    {
     "name": "stdout",
     "output_type": "stream",
     "text": [
      "('spherical_harmonics_l', 'center_species', 'neighbor_species')\n",
      "[(0, 1, 1) (0, 6, 8) (1, 1, 6) (1, 8, 1) (2, 1, 8) (2, 8, 6)]\n"
     ]
    }
   ],
   "source": [
    "# A descriptor contains a set of sparse labels, labeling the different blocks in\n",
    "# the descriptor\n",
    "\n",
    "print(descriptor.sparse.names)\n",
    "print(descriptor.sparse[:30:5])"
   ]
  },
  {
   "cell_type": "code",
   "execution_count": 6,
   "metadata": {},
   "outputs": [
    {
     "name": "stdout",
     "output_type": "stream",
     "text": [
      "LabelTuple(spherical_harmonics_l=0, center_species=1, neighbor_species=1)\n",
      "{'spherical_harmonics_l': 0, 'center_species': 1, 'neighbor_species': 1}\n",
      "\n",
      "LabelTuple(spherical_harmonics_l=0, center_species=1, neighbor_species=6)\n",
      "{'spherical_harmonics_l': 0, 'center_species': 1, 'neighbor_species': 6}\n",
      "\n",
      "LabelTuple(spherical_harmonics_l=0, center_species=1, neighbor_species=8)\n",
      "{'spherical_harmonics_l': 0, 'center_species': 1, 'neighbor_species': 8}\n",
      "\n",
      "LabelTuple(spherical_harmonics_l=0, center_species=6, neighbor_species=1)\n",
      "{'spherical_harmonics_l': 0, 'center_species': 6, 'neighbor_species': 1}\n",
      "\n"
     ]
    }
   ],
   "source": [
    "# we can also represent labels as named tuples\n",
    "for i, label in enumerate(descriptor.sparse.as_namedtuples()):\n",
    "    if i > 3:\n",
    "        break\n",
    "    print(label)\n",
    "    print(label.as_dict())\n",
    "    print()"
   ]
  },
  {
   "cell_type": "code",
   "execution_count": 7,
   "metadata": {},
   "outputs": [
    {
     "name": "stdout",
     "output_type": "stream",
     "text": [
      "(12, 9, 6)\n"
     ]
    }
   ],
   "source": [
    "# These labels can then be used to access different blocks\n",
    "block = descriptor.block(\n",
    "    spherical_harmonics_l=4, \n",
    "    center_species=1, \n",
    "    neighbor_species=1,\n",
    ")\n",
    "\n",
    "# a block contains a `values` array, the shape of which is determined by \n",
    "# three other set of labels: samples, components, and features\n",
    "print(block.values.shape)"
   ]
  },
  {
   "cell_type": "code",
   "execution_count": 8,
   "metadata": {},
   "outputs": [
    {
     "name": "stdout",
     "output_type": "stream",
     "text": [
      "('structure', 'center')\n",
      "[(0, 4) (0, 5) (0, 6) (0, 7) (0, 8) (0, 9)]\n"
     ]
    }
   ],
   "source": [
    "# The samples labels indicate **what** we are representing\n",
    "print(block.samples.names)\n",
    "print(block.samples[:6])"
   ]
  },
  {
   "cell_type": "code",
   "execution_count": 9,
   "metadata": {},
   "outputs": [
    {
     "name": "stdout",
     "output_type": "stream",
     "text": [
      "('spherical_harmonics_m',)\n",
      "[(-4,) (-3,) (-2,) (-1,) ( 0,) ( 1,) ( 2,) ( 3,) ( 4,)]\n"
     ]
    }
   ],
   "source": [
    "# The components labels are optional and indicate components of tensorial/vector quantities\n",
    "print(block.components.names)\n",
    "print(block.components)"
   ]
  },
  {
   "cell_type": "code",
   "execution_count": 10,
   "metadata": {},
   "outputs": [
    {
     "name": "stdout",
     "output_type": "stream",
     "text": [
      "('n',)\n",
      "[(0,) (1,) (2,) (3,) (4,) (5,)]\n"
     ]
    }
   ],
   "source": [
    "# The feature labels indicate **how** we are representing the samples, here we\n",
    "# are using a radial basis indexed by `n`\n",
    "print(block.features.names)\n",
    "print(block.features)"
   ]
  },
  {
   "cell_type": "code",
   "execution_count": 11,
   "metadata": {},
   "outputs": [
    {
     "name": "stdout",
     "output_type": "stream",
     "text": [
      "(156, 9, 6)\n",
      "('sample', 'structure', 'atom', 'spatial')\n",
      "[(0, 0, 4, 0) (0, 0, 4, 1) (0, 0, 4, 2) (0, 0, 9, 0) (0, 0, 9, 1)\n",
      " (0, 0, 9, 2) (0, 0, 6, 0) (0, 0, 6, 1) (0, 0, 6, 2) (0, 0, 5, 0)]\n"
     ]
    }
   ],
   "source": [
    "# the block can also contain gradients of the values w.r.t. different variables, \n",
    "# the most commong being the positions of the atoms in the system\n",
    "gradients_samples, gradients = block.gradient(\"positions\")\n",
    "\n",
    "# the gradients have their own set of sample labels, while the symmetric and\n",
    "# feature labels are shared with the values\n",
    "print(gradients.shape)\n",
    "\n",
    "# the gradients samples indicate which value `sample` is being considered, and \n",
    "# with respect to which atom/spatial direction the gradients are being taken \n",
    "print(gradients_samples.names)\n",
    "print(gradients_samples[:10])"
   ]
  },
  {
   "cell_type": "code",
   "execution_count": 12,
   "metadata": {},
   "outputs": [],
   "source": [
    "# since there is a single oxygen atom, there are no contribution to the gradient\n",
    "# with center_specie=8, neighbor_species=8, spherical_harmonics_l>0\n",
    "block = descriptor.block(\n",
    "    spherical_harmonics_l=4, \n",
    "    center_species=8, \n",
    "    neighbor_species=8,\n",
    ")\n",
    "\n",
    "gradients_samples, gradients = block.gradient(\"positions\")\n",
    "assert len(gradients) == 0"
   ]
  },
  {
   "cell_type": "markdown",
   "metadata": {},
   "source": [
    "# Moving labels around (from sparse to dense storage)"
   ]
  },
  {
   "cell_type": "code",
   "execution_count": 13,
   "metadata": {},
   "outputs": [],
   "source": [
    "rascal_hypers[\"compute_gradients\"] = False\n",
    "\n",
    "calculator = RascalSphericalExpansion(rascal_hypers)\n",
    "descriptor = calculator.compute(frames)"
   ]
  },
  {
   "cell_type": "code",
   "execution_count": 14,
   "metadata": {},
   "outputs": [],
   "source": [
    "# we can group together multiple block by moving a label from sparse to the features.\n",
    "\n",
    "descriptor.sparse_to_features(\"neighbor_species\")"
   ]
  },
  {
   "cell_type": "code",
   "execution_count": 15,
   "metadata": {},
   "outputs": [
    {
     "name": "stdout",
     "output_type": "stream",
     "text": [
      "(12, 13, 18)\n",
      "('structure', 'center')\n",
      "[(0, 4) (0, 5) (0, 6) (0, 7) (0, 8) (0, 9) (1, 4) (1, 5) (1, 6) (1, 7)\n",
      " (1, 8) (1, 9)]\n"
     ]
    }
   ],
   "source": [
    "block = descriptor.block(center_species=1, spherical_harmonics_l=6)\n",
    "\n",
    "print(block.values.shape)\n",
    "print(block.samples.names)\n",
    "print(block.samples)"
   ]
  },
  {
   "cell_type": "code",
   "execution_count": 16,
   "metadata": {},
   "outputs": [
    {
     "name": "stdout",
     "output_type": "stream",
     "text": [
      "invalid parameter: can not move sparse label to features if the blocks have different components labels, call components_to_features first\n"
     ]
    }
   ],
   "source": [
    "# depending on the blocks, we might not be able to move all sparse labels to\n",
    "# features\n",
    "try:\n",
    "    descriptor.sparse_to_features(\"spherical_harmonics_l\")\n",
    "except Exception as e:\n",
    "    print(e)"
   ]
  },
  {
   "cell_type": "code",
   "execution_count": 17,
   "metadata": {},
   "outputs": [],
   "source": [
    "# we need to move the m index to features before moving l to features\n",
    "descriptor.components_to_features()\n",
    "\n",
    "descriptor.sparse_to_features(\"spherical_harmonics_l\")"
   ]
  },
  {
   "cell_type": "code",
   "execution_count": 18,
   "metadata": {},
   "outputs": [
    {
     "data": {
      "text/plain": [
       "(12, 1, 882)"
      ]
     },
     "execution_count": 18,
     "metadata": {},
     "output_type": "execute_result"
    }
   ],
   "source": [
    "block = descriptor.block(center_species=1)\n",
    "block.values.shape"
   ]
  },
  {
   "cell_type": "code",
   "execution_count": 19,
   "metadata": {},
   "outputs": [],
   "source": [
    "descriptor.sparse_to_samples(\"center_species\")"
   ]
  },
  {
   "cell_type": "code",
   "execution_count": 20,
   "metadata": {},
   "outputs": [
    {
     "data": {
      "text/plain": [
       "(20, 1, 882)"
      ]
     },
     "execution_count": 20,
     "metadata": {},
     "output_type": "execute_result"
    }
   ],
   "source": [
    "# we now only have one block, containing everything\n",
    "block = descriptor.block()\n",
    "block.values.shape"
   ]
  },
  {
   "cell_type": "markdown",
   "metadata": {},
   "source": [
    "## Checking vs librascal storage"
   ]
  },
  {
   "cell_type": "code",
   "execution_count": 21,
   "metadata": {},
   "outputs": [],
   "source": [
    "calculator = RascalSphericalExpansion(rascal_hypers)\n",
    "descriptor = calculator.compute(frames)\n",
    "\n",
    "descriptor.sparse_to_features(\"neighbor_species\")\n",
    "species_radial_size = descriptor.block(spherical_harmonics_l=0, center_species=1).values.shape[2]\n",
    "\n",
    "descriptor.components_to_features()\n",
    "descriptor.sparse_to_features(\"spherical_harmonics_l\")\n",
    "descriptor.sparse_to_samples(\"center_species\")\n",
    "\n",
    "block = descriptor.block()\n",
    "n_features = block.features.shape[0]\n",
    "\n",
    "full_dense = block.values\n",
    "\n",
    "# put lm at the end of the features\n",
    "full_dense = full_dense.reshape(full_dense.shape[0], -1, species_radial_size)\n",
    "full_dense = full_dense.swapaxes(1, 2)\n",
    "full_dense = full_dense.reshape(full_dense.shape[0], -1)"
   ]
  },
  {
   "cell_type": "code",
   "execution_count": 22,
   "metadata": {},
   "outputs": [],
   "source": [
    "from rascal.representations import SphericalExpansion\n",
    "\n",
    "rascal_calculator = SphericalExpansion(**rascal_hypers)\n",
    "managers = rascal_calculator.transform(frames)\n",
    "rascal_spx = managers.get_features(rascal_calculator)"
   ]
  },
  {
   "cell_type": "code",
   "execution_count": 23,
   "metadata": {},
   "outputs": [],
   "source": [
    "assert np.all(rascal_spx == full_dense)"
   ]
  },
  {
   "cell_type": "code",
   "execution_count": null,
   "metadata": {},
   "outputs": [],
   "source": []
  }
 ],
 "metadata": {
  "interpreter": {
   "hash": "e5b9818494c5e2e4b1f356a8c3298778da7fbcf7ee16e565b1a5192ca7e31aaa"
  },
  "kernelspec": {
   "display_name": "Python 3",
   "language": "python",
   "name": "python3"
  },
  "language_info": {
   "codemirror_mode": {
    "name": "ipython",
    "version": 3
   },
   "file_extension": ".py",
   "mimetype": "text/x-python",
   "name": "python",
   "nbconvert_exporter": "python",
   "pygments_lexer": "ipython3",
   "version": "3.8.10"
  },
  "toc": {
   "base_numbering": 1,
   "nav_menu": {},
   "number_sections": true,
   "sideBar": true,
   "skip_h1_title": false,
   "title_cell": "Table of Contents",
   "title_sidebar": "Contents",
   "toc_cell": false,
   "toc_position": {},
   "toc_section_display": true,
   "toc_window_display": false
  }
 },
 "nbformat": 4,
 "nbformat_minor": 2
}
