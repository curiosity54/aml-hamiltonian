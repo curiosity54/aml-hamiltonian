{
 "cells": [
  {
   "cell_type": "code",
   "execution_count": 1,
   "metadata": {},
   "outputs": [],
   "source": [
    "%load_ext autoreload\n",
    "%autoreload 2"
   ]
  },
  {
   "cell_type": "code",
   "execution_count": 2,
   "metadata": {},
   "outputs": [],
   "source": [
    "import numpy as np\n",
    "import ase.io\n",
    "\n",
    "from aml_storage import Labels, Block, Descriptor\n",
    "\n",
    "from utils.rascaline import RascalineSphericalExpansion\n",
    "from utils.models.soap import compute_power_spectrum\n",
    "import utils.io"
   ]
  },
  {
   "cell_type": "code",
   "execution_count": 5,
   "metadata": {},
   "outputs": [],
   "source": [
    "frames = ase.io.read(\"data/molecule_conformers_dftb.xyz\", \":100\")\n",
    "\n",
    "# frames = ase.io.read(\"selection-10k.extxyz\", \"::100\")\n",
    "for frame in frames:\n",
    "    frame.cell = [0, 0, 0]\n",
    "    frame.pbc = [False, False, False]\n",
    "\n",
    "RASCALINE_HYPERS = {\n",
    "    \"cutoff\": 3.5,\n",
    "    \"atomic_gaussian_width\": 0.3,\n",
    "    \"max_radial\": 6,\n",
    "    \"max_angular\": 6,\n",
    "    \"radial_basis\": {\"Gto\": {}},\n",
    "    \"cutoff_function\": {\"ShiftedCosine\": {\"width\": 0.5}},\n",
    "    \"gradients\": True,\n",
    "}\n",
    "\n",
    "calculator = RascalineSphericalExpansion(RASCALINE_HYPERS)\n",
    "spx = calculator.compute(frames)"
   ]
  },
  {
   "cell_type": "code",
   "execution_count": 6,
   "metadata": {},
   "outputs": [],
   "source": [
    "utils.io.write(\"spx.zip\", spx)\n",
    "spx_loaded = utils.io.read(\"spx.zip\")"
   ]
  },
  {
   "cell_type": "code",
   "execution_count": 9,
   "metadata": {},
   "outputs": [],
   "source": [
    "assert np.all(spx.sparse == spx_loaded.sparse)\n",
    "assert np.all(spx.block(0).values == spx_loaded.block(0).values)\n",
    "assert np.all(spx.block(0).gradient(\"positions\")[0] == spx_loaded.block(0).gradient(\"positions\")[0])\n",
    "assert np.all(spx.block(0).gradient(\"positions\")[1] == spx_loaded.block(0).gradient(\"positions\")[1])"
   ]
  },
  {
   "cell_type": "code",
   "execution_count": null,
   "metadata": {},
   "outputs": [],
   "source": [
    "soap = compute_power_spectrum(spx)"
   ]
  },
  {
   "cell_type": "code",
   "execution_count": 10,
   "metadata": {},
   "outputs": [],
   "source": [
    "utils.io.write(\"soap.zip\", soap)\n",
    "soap = utils.io.read(\"soap.zip\")"
   ]
  },
  {
   "cell_type": "code",
   "execution_count": null,
   "metadata": {},
   "outputs": [],
   "source": []
  }
 ],
 "metadata": {
  "interpreter": {
   "hash": "c029349871b52f6ef1174bb54ec2acd8776758518a1fbc1c7e3bdf62744e5518"
  },
  "kernelspec": {
   "display_name": "Python 3.10.2 ('virtualenv': venv)",
   "language": "python",
   "name": "python3"
  },
  "language_info": {
   "codemirror_mode": {
    "name": "ipython",
    "version": 3
   },
   "file_extension": ".py",
   "mimetype": "text/x-python",
   "name": "python",
   "nbconvert_exporter": "python",
   "pygments_lexer": "ipython3",
   "version": "3.10.2"
  },
  "orig_nbformat": 4
 },
 "nbformat": 4,
 "nbformat_minor": 2
}
