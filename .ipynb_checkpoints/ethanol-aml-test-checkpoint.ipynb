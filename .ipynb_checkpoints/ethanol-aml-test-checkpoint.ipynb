{
 "cells": [
  {
   "cell_type": "code",
   "execution_count": 1,
   "metadata": {},
   "outputs": [],
   "source": [
    "%load_ext autoreload\n",
    "%autoreload 2"
   ]
  },
  {
   "cell_type": "code",
   "execution_count": 42,
   "metadata": {},
   "outputs": [],
   "source": [
    "import numpy as np\n",
    "import json\n",
    "from aml_storage import Labels, Block, Descriptor\n",
    "from utils.builder import DescriptorBuilder\n",
    "import ase.io\n",
    "from itertools import product\n",
    "from utils.clebsh_gordan import ClebschGordanReal\n",
    "from utils.hamiltonians import fix_pyscf_l1, dense_to_blocks, blocks_to_dense, couple_blocks, decouple_blocks\n",
    "import matplotlib.pyplot as plt\n",
    "from utils.librascal import  RascalSphericalExpansion, RascalPairExpansion\n",
    "from utils.hamiltonians import *\n",
    "import copy\n",
    "from rascal.representations import SphericalExpansion"
   ]
  },
  {
   "cell_type": "markdown",
   "metadata": {},
   "source": [
    "# Ethanol"
   ]
  },
  {
   "cell_type": "code",
   "execution_count": 43,
   "metadata": {},
   "outputs": [],
   "source": [
    "eth_hypers = {\n",
    "    \"interaction_cutoff\": 5,\n",
    "    \"max_radial\": 3,\n",
    "    \"max_angular\": 2,\n",
    "    \"gaussian_sigma_constant\": 0.3,\n",
    "    \"gaussian_sigma_type\": \"Constant\",\n",
    "    \"cutoff_smooth_width\": 0.5,\n",
    "    \"radial_basis\": \"GTO\",\n",
    "     \"compute_gradients\":  False,\n",
    "}\n",
    "\n",
    "eth_spex = RascalSphericalExpansion(eth_hypers)\n",
    "mycg = ClebschGordanReal(eth_hypers[\"max_angular\"])"
   ]
  },
  {
   "cell_type": "code",
   "execution_count": 87,
   "metadata": {},
   "outputs": [],
   "source": [
    "eth_frames = ase.io.read(\"../data_papers/data/ethanol/dataset/ethanol_4500.xyz\",\":2\")\n",
    "water_frames = ase.io.read(\"../data_papers/data/water/dataset/water_randomized_1000.xyz\",\":2\")\n",
    "for f in eth_frames:\n",
    "    f.cell = [100,100,100]\n",
    "    f.positions += 50\n",
    "for f in water_frames:\n",
    "    f.cell = [100,100,100]\n",
    "    f.positions += 50\n",
    "    \n",
    "eth_orbs = json.load(open('../data_papers/data/ethanol/dataset/orbs_saph_ethanol.json', \"r\"))"
   ]
  },
  {
   "cell_type": "code",
   "execution_count": 88,
   "metadata": {},
   "outputs": [],
   "source": [
    "eth_rhoi = eth_spex.compute(eth_frames)"
   ]
  },
  {
   "cell_type": "code",
   "execution_count": 89,
   "metadata": {},
   "outputs": [],
   "source": [
    "pairs = RascalPairExpansion(eth_hypers)\n",
    "gij = pairs.compute(eth_frames)"
   ]
  },
  {
   "cell_type": "code",
   "execution_count": 90,
   "metadata": {},
   "outputs": [],
   "source": [
    "def get_lm_slice(hypers):\n",
    "    lm_slices = []\n",
    "    start = 0\n",
    "    for l in range(hypers[\"max_angular\"] + 1):\n",
    "        stop = start + 2 * l + 1\n",
    "        lm_slices.append(slice(start, stop))\n",
    "        start = stop\n",
    "    return lm_slices"
   ]
  },
  {
   "cell_type": "code",
   "execution_count": 178,
   "metadata": {},
   "outputs": [],
   "source": [
    "def rho0ij_builder(hypers, frames):\n",
    "    if hypers[\"compute_gradients\"]:\n",
    "        raise Exception(\"Pair expansion with gradient is not implemented\")\n",
    "    len_frames=[len(f) for f in frames]\n",
    "    max_atoms = max(len_frames)\n",
    "    actual_global_species = list(\n",
    "    map(int, np.unique(np.concatenate([f.numbers for f in frames]))))\n",
    "    calculator = SphericalExpansion(**hypers)\n",
    "    manager = calculator.transform(frames)\n",
    "    info = manager.get_representation_info()\n",
    "    global_species = list(range(max_atoms))\n",
    "    \n",
    "    hypers_ij= copy.deepcopy(hypers)\n",
    "    hypers_ij[\"global_species\"] = global_species\n",
    "    hypers_ij[\"expansion_by_species_method\"] = \"user defined\"\n",
    "    lm_slices = get_lm_slice(hypers)\n",
    "\n",
    "    ijframes = []\n",
    "    for f in frames:\n",
    "        ijf = f.copy()\n",
    "        ijf.numbers = global_species[:len(f)]\n",
    "        ijframes.append(ijf)\n",
    "\n",
    "    calculator = SphericalExpansion(**hypers_ij)\n",
    "    gij_expansion=[]\n",
    "    for ijf in ijframes:\n",
    "        gij_expansion.append(calculator.transform(ijf).get_features(calculator).reshape(len(ijf), max_atoms, hypers_ij[\"max_radial\"], -1))\n",
    "#     gij_expansion=calculator.transform(ijframes).get_features(calculator).reshape(len(ijframes), max_atoms, max_atoms, hypers_ij[\"max_radial\"], -1) #TODO: change for differet len\n",
    "#     print(gij_expansion.shape)\n",
    "    \n",
    "    feat_builder= DescriptorBuilder([\"block_type\", \"L\", \"nu\", \"sigma\",  \"species_i\", \"species_j\"], [\"structure\", \"center_i\", \"center_j\"], [\"mu\"], [\"n\"])\n",
    "\n",
    "    pair_loc=[]\n",
    "    lmax = hypers[\"max_angular\"]\n",
    "    for sp_i in actual_global_species:\n",
    "        for sp_j in actual_global_species:\n",
    "            center_species_mask = np.where(info[:, 2] == sp_i)[0]\n",
    "            neighbor_species_mask = np.where(info[:, 2] == sp_j)[0]\n",
    "            for i, (struct_i, atom_i) in enumerate(info[center_species_mask[:]][...,:-1]):\n",
    "                for j, (struct_j, atom_j) in enumerate(info[neighbor_species_mask[:]][...,:-1]):\n",
    "                    ifr=struct_i\n",
    "\n",
    "                    if not (struct_i==struct_j):\n",
    "                        continue\n",
    "                    if atom_i==atom_j:\n",
    "                        block_type = 0  # diagonal\n",
    "                    elif sp_i==sp_j:\n",
    "                        block_type = 1  # same-species\n",
    "                    elif sp_j > sp_i:\n",
    "\n",
    "                        block_type = 2  # different species\n",
    "                    else:\n",
    "                        continue\n",
    "\n",
    "                    if [struct_i, atom_j, atom_i] not in pair_loc:\n",
    "                        pair_loc.append([struct_i, atom_i, atom_j])\n",
    "\n",
    "                    for l in range(lmax+1):\n",
    "#                         print(block_type, ifr, l)\n",
    "                        block_idx=(block_type, l, 0, 1, sp_i, sp_j)\n",
    "                        if block_idx not in feat_builder.blocks:\n",
    "                            block = feat_builder.add_block(sparse=block_idx, features=np.asarray([list(range(hypers[\"max_radial\"]))], dtype=np.int32).T, \n",
    "                                components=np.asarray([list(range(-l, l+1))], dtype=np.int32 ).T )  \n",
    "\n",
    "\n",
    "                            if block_type == 1:\n",
    "                                block_asym = feat_builder.add_block(sparse=(-1,)+block_idx[1:], features=np.asarray([list(range(hypers[\"max_radial\"]))], dtype=np.int32).T,\n",
    "                                components=np.asarray([list(range(-l, l+1))], dtype=np.int32 ).T )                                                    \n",
    "                        else:                        \n",
    "                            block = feat_builder.blocks[block_idx]\n",
    "                            if block_type == 1:\n",
    "                                block_asym = feat_builder.blocks[(-1,)+block_idx[1:]]\n",
    "\n",
    "                        block_data =gij_expansion[struct_i][atom_i%len_frames[ifr], atom_j%len_frames[ifr], :, lm_slices[l]].T #TODO: change for not water\n",
    "                        #POSSIBLE replacement:(atom_i-sum(info[:struct_i,:].axis=1))%len(info[np.where(info[:,:,0]==struct_i)])\n",
    "                        if block_type == 1:\n",
    "                            if (atom_i%len_frames[ifr])<=(atom_j%len_frames[ifr]):\n",
    "                                block_data_ji = gij_expansion[struct_i][atom_j%len_frames[ifr], atom_i%len_frames[ifr], :, lm_slices[l]].T                  \n",
    "                                block.add_samples(labels=np.asarray([[struct_i, atom_i%len_frames[ifr], atom_j%len_frames[ifr]]], dtype=np.int32), data=(block_data+block_data_ji).reshape((1,-1,block_data.shape[1]))/np.sqrt(2) )\n",
    "                                block_asym.add_samples(labels=np.asarray([[struct_i, atom_i%len_frames[ifr], atom_j%len_frames[ifr]]], dtype=np.int32), data=(block_data-block_data_ji).reshape((1,-1,block_data.shape[1]))/np.sqrt(2) )\n",
    "\n",
    "                        else:\n",
    "#                             print(block_data.shape, [struct_i, atom_i%len_frames[ifr], atom_j%len_frames[ifr]])\n",
    "                            block.add_samples(labels=np.asarray([[struct_i, atom_i%len_frames[ifr], atom_j%len_frames[ifr]]], dtype=np.int32), data=block_data.reshape(1, -1, block_data.shape[1]))\n",
    "    #                     \n",
    "    return feat_builder.build()"
   ]
  },
  {
   "cell_type": "code",
   "execution_count": 179,
   "metadata": {},
   "outputs": [],
   "source": [
    "frames= [eth_frames[0],water_frames[0]]"
   ]
  },
  {
   "cell_type": "code",
   "execution_count": 180,
   "metadata": {},
   "outputs": [],
   "source": [
    "eth_rho0ij=rho0ij_builder(eth_hypers, frames)"
   ]
  },
  {
   "cell_type": "code",
   "execution_count": 184,
   "metadata": {},
   "outputs": [
    {
     "data": {
      "text/plain": [
       "Atoms(symbols='C2OH6', pbc=False, cell=[100.0, 100.0, 100.0])"
      ]
     },
     "execution_count": 184,
     "metadata": {},
     "output_type": "execute_result"
    }
   ],
   "source": [
    "frames[0]"
   ]
  },
  {
   "cell_type": "code",
   "execution_count": 187,
   "metadata": {},
   "outputs": [
    {
     "data": {
      "text/plain": [
       "Labels([(0, 3, 4), (0, 3, 5), (0, 3, 6), (0, 3, 7), (0, 3, 8), (0, 4, 5),\n",
       "        (0, 4, 6), (0, 4, 7), (0, 4, 8), (0, 5, 6), (0, 5, 7), (0, 5, 8),\n",
       "        (0, 6, 7), (0, 6, 8), (0, 7, 8), (1, 1, 2)],\n",
       "       dtype=[('structure', '<i4'), ('center_i', '<i4'), ('center_j', '<i4')])"
      ]
     },
     "execution_count": 187,
     "metadata": {},
     "output_type": "execute_result"
    }
   ],
   "source": [
    "eth_rho0ij.block(block_type=1,L=0,species_i=1, species_j=1).samples"
   ]
  },
  {
   "cell_type": "code",
   "execution_count": 10,
   "metadata": {},
   "outputs": [],
   "source": [
    "total_species = sorted(set(eth_rhoi.sparse['center_species']))\n",
    "# total_species = list(np.sort(np.asarray(total_species)))\n",
    "lmax=eth_hypers[\"max_angular\"]\n",
    "nmax=eth_hypers[\"max_radial\"]"
   ]
  },
  {
   "cell_type": "code",
   "execution_count": 11,
   "metadata": {},
   "outputs": [],
   "source": [
    "blocks = []\n",
    "for l in range(lmax+1):\n",
    "    for sp_i in total_species:\n",
    "        for sp_k in total_species:\n",
    "            n_selected = nmax#len(np.where(opt_eva[l] > sel_thresh)[0])    \n",
    "            de_block = eth_rhoi.block(center_species = sp_i, neighbor_species=sp_k, spherical_harmonics_l = l)\n",
    "            block = Block(\n",
    "                values = de_block.values,\n",
    "                samples = de_block.samples,\n",
    "                components = Labels([\"m\"],np.asarray(range(-l,l+1), dtype=np.int32).reshape(-1,1)),\n",
    "                features = Labels([\"n\"], np.asarray([[n] for n in range(nmax)], dtype=np.int32))\n",
    "            )\n",
    "            \n",
    "            blocks.append( block )"
   ]
  },
  {
   "cell_type": "code",
   "execution_count": 12,
   "metadata": {},
   "outputs": [],
   "source": [
    "acdc_nu1 = Descriptor(\n",
    "    sparse = Labels(names=[\"L\", \"nu\", \"sigma\",\"species_i\", \"neighbor_species\"], \n",
    "                        values=np.asarray([[ l, 1, 1, sp_i, sp_k] for l in range(eth_hypers[\"max_angular\"]+1) \n",
    "                                                        for sp_i in total_species\n",
    "                                                        for sp_k in total_species], dtype=np.int32)\n",
    "                                     ), \n",
    "                      blocks = blocks\n",
    "                     )\n",
    "#move neighbor species to features  \n",
    "# acdc_nu1.sparse_to_features('neighbor_species')"
   ]
  },
  {
   "cell_type": "code",
   "execution_count": 13,
   "metadata": {},
   "outputs": [
    {
     "data": {
      "text/plain": [
       "Labels([(0, 1, 1, 1, 1), (0, 1, 1, 1, 6), (0, 1, 1, 1, 8),\n",
       "        (0, 1, 1, 6, 1), (0, 1, 1, 6, 6), (0, 1, 1, 6, 8),\n",
       "        (0, 1, 1, 8, 1), (0, 1, 1, 8, 6), (0, 1, 1, 8, 8),\n",
       "        (1, 1, 1, 1, 1), (1, 1, 1, 1, 6), (1, 1, 1, 1, 8),\n",
       "        (1, 1, 1, 6, 1), (1, 1, 1, 6, 6), (1, 1, 1, 6, 8),\n",
       "        (1, 1, 1, 8, 1), (1, 1, 1, 8, 6), (1, 1, 1, 8, 8),\n",
       "        (2, 1, 1, 1, 1), (2, 1, 1, 1, 6), (2, 1, 1, 1, 8),\n",
       "        (2, 1, 1, 6, 1), (2, 1, 1, 6, 6), (2, 1, 1, 6, 8),\n",
       "        (2, 1, 1, 8, 1), (2, 1, 1, 8, 6), (2, 1, 1, 8, 8)],\n",
       "       dtype=[('L', '<i4'), ('nu', '<i4'), ('sigma', '<i4'), ('species_i', '<i4'), ('neighbor_species', '<i4')])"
      ]
     },
     "execution_count": 13,
     "metadata": {},
     "output_type": "execute_result"
    }
   ],
   "source": [
    "acdc_nu1.sparse"
   ]
  },
  {
   "cell_type": "code",
   "execution_count": 14,
   "metadata": {},
   "outputs": [],
   "source": [
    "acdc_nu1.sparse_to_features(\"neighbor_species\")"
   ]
  },
  {
   "cell_type": "code",
   "execution_count": 15,
   "metadata": {},
   "outputs": [
    {
     "data": {
      "text/plain": [
       "Labels([(0, 1, 1, 1), (0, 1, 1, 6), (0, 1, 1, 8), (1, 1, 1, 1),\n",
       "        (1, 1, 1, 6), (1, 1, 1, 8), (2, 1, 1, 1), (2, 1, 1, 6),\n",
       "        (2, 1, 1, 8)],\n",
       "       dtype=[('L', '<i4'), ('nu', '<i4'), ('sigma', '<i4'), ('species_i', '<i4')])"
      ]
     },
     "execution_count": 15,
     "metadata": {},
     "output_type": "execute_result"
    }
   ],
   "source": [
    "acdc_nu1.sparse"
   ]
  },
  {
   "cell_type": "code",
   "execution_count": 40,
   "metadata": {},
   "outputs": [],
   "source": [
    "def tensor_g_rho_nu(rho0ij, rhoinu, hypers, cg, feature_names=None):\n",
    "    \"\"\" rho_ij^{nu+1} = <q|rho_i^{nu+1}; kh> <n| rho_ij^{0}; lm> cg \n",
    "    feature_names is a tuple of the form <n_rho0ij, l_rho0ij, n's in rhoi, k|\n",
    "    Make sure you have transferred the species label to the feature (sparse_to_features)\n",
    "    \"\"\"\n",
    "    nu_ij=rho0ij.sparse[\"nu\"][0]\n",
    "    \n",
    "    # rhoinu = acdc_nu1; \n",
    "    feature_names=None\n",
    "    nu_ij=rho0ij.sparse[\"nu\"][0] #should be 0\n",
    "    nu_rho= rhoinu.sparse[\"nu\"][0]\n",
    "    NU = nu_rho+nu_ij\n",
    "\n",
    "    lmax= hypers[\"max_angular\"]\n",
    "\n",
    "    if cg is None:\n",
    "        cg = ClebschGordanReal(lmax)\n",
    "\n",
    "    sparse_labels=copy.deepcopy(rho0ij.sparse)\n",
    "    sparse_labels[\"nu\"] = NU\n",
    "\n",
    "    new_sparse_labels = []\n",
    "    for i in sparse_labels:\n",
    "        new_sparse_labels.append(tuple(i))\n",
    "        i[3]*=-1\n",
    "        if i not in new_sparse_labels:\n",
    "            new_sparse_labels.append(tuple(i))\n",
    "\n",
    "    X_blocks = {new_sparse_labels[i]:[] for i in range(len(new_sparse_labels))}\n",
    "    X_idx = {new_sparse_labels[i]:[] for i in range(len(new_sparse_labels))}\n",
    "    X_samples= {new_sparse_labels[i]:[] for i in range(len(new_sparse_labels))}\n",
    "\n",
    "\n",
    "    if feature_names is None:\n",
    "        feature_names = (\n",
    "            tuple(n + \"_a\" for n in rho0ij.block(0).features.names)\n",
    "            + (\"l_\" + str(NU),)\n",
    "            + tuple(n + \"_b\" for n in acdc_nu1.block(0).features.names)\n",
    "            + (\"k_\" + str(NU),)\n",
    "        )\n",
    "\n",
    "    for index_a, block_a in rho0ij:\n",
    "        block_type = index_a[\"block_type\"]\n",
    "        lam_a = index_a[\"L\"]\n",
    "        sigma_a = index_a[\"sigma\"]\n",
    "        sp_i, sp_j = index_a[\"species_i\"], index_a[\"species_j\"]\n",
    "        for index_b, block_b in rhoinu:\n",
    "            lam_b = index_b[\"L\"]\n",
    "            sigma_b = index_b[\"sigma\"]\n",
    "            rho_sp_i= index_b[\"species_i\"]\n",
    "            if not(sp_i== rho_sp_i):\n",
    "                continue\n",
    "            for L in range(np.abs(lam_a - lam_b),  min(lam_a + lam_b, lmax)+1):\n",
    "                S = sigma_a * sigma_b * (-1) ** (lam_a + lam_b + L)\n",
    "                block_idx=(block_type, L, NU, S, sp_i, sp_j)\n",
    "                sel_feats=[]\n",
    "                for n_a in range(len(block_a.features)):\n",
    "                    f_a = tuple(block_a.features[n_a]) #values of n_a'th feature in block_a.features\n",
    "                    for n_b in range(len(block_b.features)):\n",
    "                        f_b = tuple(block_b.features[n_b]) #values of n_b'th feature in block_b.features\n",
    "                        IDX = f_a  + (lam_a,)+f_b + (lam_b,)\n",
    "                        sel_feats.append([n_a, n_b])\n",
    "                        X_idx[block_idx].append(IDX)\n",
    "\n",
    "                sel_feats = np.asarray(sel_feats, dtype=int)\n",
    "                if len(sel_feats) == 0:\n",
    "                    print(IDX, L, \"len_feats 0\")\n",
    "                    continue\n",
    "\n",
    "    #             #REMEMBER- values.shape = (nstruct*nat fitting the block criteria, 2*l+1, featsize)\n",
    "                if block_type==0:\n",
    "                    if not(sp_i== rho_sp_i):\n",
    "                        continue\n",
    "                    one_shot_blocks = cg.combine_einsum(\n",
    "                     block_a.values[:, :, sel_feats[:, 0]],  #sel_feats[:,0]= n_a\n",
    "                     block_b.values[:, :, sel_feats[:, 1]],  #sel_feats[:,1]= n_b*nspecies\n",
    "                    L,\n",
    "                    combination_string=\"iq,iq->iq\",\n",
    "                ) \n",
    "\n",
    "                    samples = block_a.samples\n",
    "                \n",
    "                else:\n",
    "                    try:\n",
    "                        xx=[]\n",
    "                        yy=[]\n",
    "                        for samplea in block_a.samples:\n",
    "                            centeri = samplea['center_i']\n",
    "                            centerj = samplea['center_j']\n",
    "                            stra = samplea['structure']\n",
    "                            idxb= block_b.samples[np.where(block_b.samples['center']==centeri)]\n",
    "                            samples_idxb=block_b.samples[np.where(np.in1d(block_b.samples,idxb))[0]]\n",
    "                            xx.append(samples_idxb[np.where(samples_idxb['structure']==stra)[0]])\n",
    "                            if (block_type==1 or block_type==-1):\n",
    "                                idxbj= block_b.samples[np.where(block_b.samples['center']==centerj)]\n",
    "                                samples_idxbj=block_b.samples[np.where(np.in1d(block_b.samples,idxbj))[0]]\n",
    "                                yy.append(samples_idxbj[np.where(samples_idxbj['structure']==stra)[0]])\n",
    "                            iyy=[np.where(i==block_b.samples)[0][0] for i in yy]\n",
    "                            rhojnuvalues = block_b.values[iyy]\n",
    "                        \n",
    "                        \n",
    "                        ixx=[np.where(i==block_b.samples)[0][0] for i in xx]\n",
    "                        rhoinuvalues = block_b.values[ixx]\n",
    "                        \n",
    "                    except:\n",
    "                        print('FAILED')\n",
    "                        print(block_type, samplea, xx, yy, index_a, index_b)\n",
    "                    \n",
    "\n",
    "                    \n",
    "                    \n",
    "#                     print(index_a, index_b, len(yy))\n",
    "#                         rhoinuvalues = np.asarray(rhoinuvalues).reshape(-1, rhoinuvalues.shape[-2:])\n",
    "                    if block_type==1:\n",
    "#                         print(block_a.values[:, :, sel_feats[:, 0]].shape, rhoinuvalues[:, :, sel_feats[:, 1]].shape, rhojnuvalues[:, :, sel_feats[:, 1]].shape)\n",
    "#                         print(index_a, index_b, rhoinuvalues.shape, rhojnuvalues.shape)\n",
    "                        if not(sp_i== rho_sp_i):\n",
    "                            continue\n",
    "                        one_shot_blocks_ij = cg.combine_einsum(\n",
    "                         block_a.values[:, :, sel_feats[:, 0]], \n",
    "                         rhoinuvalues[:, :, sel_feats[:, 1]],\n",
    "                        L,\n",
    "                        combination_string=\"iq,iq->iq\",\n",
    "                    )\n",
    "\n",
    "                        one_shot_blocks_ji = cg.combine_einsum(\n",
    "                         block_a.values[:, :, sel_feats[:, 0]], \n",
    "                         rhojnuvalues[:, :, sel_feats[:, 1]],\n",
    "                        L,\n",
    "                        combination_string=\"iq,iq->iq\",\n",
    "                    )\n",
    "                        samples = block_a.samples\n",
    "\n",
    "                        one_shot_blocks = (one_shot_blocks_ij+one_shot_blocks_ji)/np.sqrt(2)\n",
    "    #                     one_shot_blocks_asym = (one_shot_blocks_ij-one_shot_blocks_ji)/np.sqrt(2)\n",
    "                        \n",
    "                    elif block_type==-1:\n",
    "                        if not(sp_i== rho_sp_i):\n",
    "                            continue\n",
    "                        one_shot_blocks_ij = cg.combine_einsum(\n",
    "                         block_a.values[:, :, sel_feats[:, 0]], \n",
    "                         rhoinuvalues[:, :, sel_feats[:, 1]],\n",
    "                        L,\n",
    "                        combination_string=\"iq,iq->iq\",\n",
    "                    )\n",
    "\n",
    "                        one_shot_blocks_ji = cg.combine_einsum(\n",
    "                         block_a.values[:, :, sel_feats[:, 0]], \n",
    "                         rhojnuvalues[:, :, sel_feats[:, 1]],\n",
    "                        L,\n",
    "                        combination_string=\"iq,iq->iq\",\n",
    "                    )\n",
    "                        samples = block_a.samples\n",
    "                        one_shot_blocks = (one_shot_blocks_ij-one_shot_blocks_ji)/np.sqrt(2)\n",
    "\n",
    "                    elif block_type==2:\n",
    "                        #TODO: recheck this \n",
    "        #                     if sp_i<rho_sp_i:\n",
    "        #                         continue\n",
    "                        if not(sp_i== rho_sp_i):\n",
    "                            continue\n",
    "                        #print(sp_i, rho_sp_i, sp_j, block_a.values.shape, block_b.values.shape)\n",
    "                        one_shot_blocks = cg.combine_einsum(\n",
    "                         block_a.values[:, :, sel_feats[:, 0]], \n",
    "                         rhoinuvalues[:, :, sel_feats[:, 1]],\n",
    "                        L,\n",
    "                        combination_string=\"iq,iq->iq\",\n",
    "                    )\n",
    "                        samples = block_a.samples\n",
    "\n",
    "                    else: \n",
    "                        print(block_type)\n",
    "                        print(\"get the block type right you idiot\")\n",
    "\n",
    "\n",
    "                for Q in range(len(sel_feats)):\n",
    "                    (n_a, n_b) = sel_feats[Q]\n",
    "                    species_k, n = block_b.features[n_b]  #how to generalize this for nu\n",
    "                    IDX = (n_a,)  + (lam_a,)+(species_k,)+(n,) + (lam_b,)\n",
    "                    newblock = one_shot_blocks[:, :, Q]\n",
    "#                     if(IDX not in X_idx[(block_type, L, NU, S, sp_i, sp_j)]):\n",
    "#                         X_idx[(block_type, L, NU, S, sp_i, sp_j)].append(IDX)\n",
    "   \n",
    "                    X_blocks[block_idx].append(newblock)\n",
    "                    X_samples[block_idx].append(samples)\n",
    "    nonzero_idx = []\n",
    "\n",
    "    nonzero_blocks = []\n",
    "    for block_idx in X_blocks:\n",
    "        block_type, L, NU, S, sp_i, sp_j = block_idx\n",
    "        # create blocks\n",
    "        if len(X_blocks[block_idx]) == 0:\n",
    "            print(block_idx, \"skipped\")\n",
    "            continue  # skips empty blocks\n",
    "\n",
    "        nonzero_idx.append(block_idx)\n",
    "        block_data = np.moveaxis(np.asarray(X_blocks[block_idx]), 0, -1) \n",
    "        block_samples = X_samples[block_idx][0]\n",
    "    \n",
    "        newblock = Block(\n",
    "            values=block_data,\n",
    "            samples=block_samples,\n",
    "            components=Labels(\n",
    "                [\"mu\"], np.asarray(range(-L, L + 1), dtype=np.int32).reshape(-1, 1)\n",
    "            ),\n",
    "            features=Labels(feature_names, np.asarray(X_idx[block_idx], dtype=np.int32)),\n",
    "        )\n",
    "\n",
    "        nonzero_blocks.append(newblock)\n",
    "#         print(block_idx, 'done')\n",
    "\n",
    "    X = Descriptor(\n",
    "        Labels(rho0ij.sparse.names, np.asarray(nonzero_idx, dtype=np.int32)), nonzero_blocks\n",
    "    )\n",
    "\n",
    "\n",
    "    return X"
   ]
  },
  {
   "cell_type": "code",
   "execution_count": 41,
   "metadata": {},
   "outputs": [
    {
     "name": "stderr",
     "output_type": "stream",
     "text": [
      "/Users/jigyasa/anaconda3/lib/python3.7/site-packages/ipykernel_launcher.py:26: FutureWarning: elementwise == comparison failed and returning scalar instead; this will raise an error or perform elementwise comparison in the future.\n"
     ]
    },
    {
     "name": "stdout",
     "output_type": "stream",
     "text": [
      "(0, 0, 1, -1, 1, 1) skipped\n",
      "(1, 0, 1, -1, 1, 1) skipped\n",
      "(-1, 0, 1, -1, 1, 1) skipped\n",
      "(2, 0, 1, -1, 1, 6) skipped\n",
      "(2, 0, 1, -1, 1, 8) skipped\n",
      "(0, 0, 1, -1, 6, 6) skipped\n",
      "(1, 0, 1, -1, 6, 6) skipped\n",
      "(-1, 0, 1, -1, 6, 6) skipped\n",
      "(2, 0, 1, -1, 6, 8) skipped\n",
      "(0, 0, 1, -1, 8, 8) skipped\n"
     ]
    }
   ],
   "source": [
    "rho1ij=tensor_g_rho_nu(eth_rho0ij, acdc_nu1, eth_hypers, mycg)"
   ]
  },
  {
   "cell_type": "code",
   "execution_count": 61,
   "metadata": {},
   "outputs": [
    {
     "name": "stderr",
     "output_type": "stream",
     "text": [
      "/Users/jigyasa/anaconda3/lib/python3.7/site-packages/ipykernel_launcher.py:21: FutureWarning: elementwise == comparison failed and returning scalar instead; this will raise an error or perform elementwise comparison in the future.\n"
     ]
    }
   ],
   "source": [
    "nu_ij=eth_rho0ij.sparse[\"nu\"][0]\n",
    "\n",
    "# rhoinu = acdc_nu1; \n",
    "feature_names=None\n",
    "nu_ij=eth_rho0ij.sparse[\"nu\"][0] #should be 0\n",
    "nu_rho= acdc_nu1.sparse[\"nu\"][0]\n",
    "NU = nu_rho+nu_ij\n",
    "\n",
    "lmax= eth_hypers[\"max_angular\"]\n",
    "#cg = None\n",
    "#if cg is None:\n",
    "#    cg = ClebschGordanReal(lmax)\n",
    "\n",
    "sparse_labels=copy.deepcopy(eth_rho0ij.sparse)\n",
    "sparse_labels[\"nu\"] = NU\n",
    "\n",
    "new_sparse_labels = []\n",
    "for i in sparse_labels:\n",
    "    new_sparse_labels.append(tuple(i))\n",
    "    i[3]*=-1\n",
    "    if i not in new_sparse_labels:\n",
    "        new_sparse_labels.append(tuple(i))\n",
    "\n",
    "X_blocks = {new_sparse_labels[i]:[] for i in range(len(new_sparse_labels))}\n",
    "X_idx = {new_sparse_labels[i]:[] for i in range(len(new_sparse_labels))}\n",
    "X_samples= {new_sparse_labels[i]:[] for i in range(len(new_sparse_labels))}"
   ]
  },
  {
   "cell_type": "code",
   "execution_count": 62,
   "metadata": {},
   "outputs": [],
   "source": [
    "if feature_names is None:\n",
    "    feature_names = (\n",
    "        tuple(n + \"_a\" for n in eth_rho0ij.block(0).features.names)\n",
    "        + (\"l_\" + str(NU),)\n",
    "        + tuple(n + \"_b\" for n in acdc_nu1.block(0).features.names)\n",
    "        + (\"k_\" + str(NU),)\n",
    "    )"
   ]
  },
  {
   "cell_type": "code",
   "execution_count": 63,
   "metadata": {},
   "outputs": [
    {
     "data": {
      "text/plain": [
       "Labels([( 0, 0, 0, 1, 1, 1), ( 0, 1, 0, 1, 1, 1), ( 0, 2, 0, 1, 1, 1),\n",
       "        ( 1, 0, 0, 1, 1, 1), (-1, 0, 0, 1, 1, 1), ( 1, 1, 0, 1, 1, 1),\n",
       "        (-1, 1, 0, 1, 1, 1), ( 1, 2, 0, 1, 1, 1), (-1, 2, 0, 1, 1, 1),\n",
       "        ( 2, 0, 0, 1, 1, 6), ( 2, 1, 0, 1, 1, 6), ( 2, 2, 0, 1, 1, 6),\n",
       "        ( 2, 0, 0, 1, 1, 8), ( 2, 1, 0, 1, 1, 8), ( 2, 2, 0, 1, 1, 8),\n",
       "        ( 0, 0, 0, 1, 6, 6), ( 0, 1, 0, 1, 6, 6), ( 0, 2, 0, 1, 6, 6),\n",
       "        ( 1, 0, 0, 1, 6, 6), (-1, 0, 0, 1, 6, 6), ( 1, 1, 0, 1, 6, 6),\n",
       "        (-1, 1, 0, 1, 6, 6), ( 1, 2, 0, 1, 6, 6), (-1, 2, 0, 1, 6, 6),\n",
       "        ( 2, 0, 0, 1, 6, 8), ( 2, 1, 0, 1, 6, 8), ( 2, 2, 0, 1, 6, 8),\n",
       "        ( 0, 0, 0, 1, 8, 8), ( 0, 1, 0, 1, 8, 8), ( 0, 2, 0, 1, 8, 8)],\n",
       "       dtype=[('block_type', '<i4'), ('L', '<i4'), ('nu', '<i4'), ('sigma', '<i4'), ('species_i', '<i4'), ('species_j', '<i4')])"
      ]
     },
     "execution_count": 63,
     "metadata": {},
     "output_type": "execute_result"
    }
   ],
   "source": [
    "eth_rho0ij.sparse"
   ]
  },
  {
   "cell_type": "code",
   "execution_count": 64,
   "metadata": {},
   "outputs": [
    {
     "data": {
      "text/plain": [
       "(12, 1, 3)"
      ]
     },
     "execution_count": 64,
     "metadata": {},
     "output_type": "execute_result"
    }
   ],
   "source": [
    "eth_rho0ij.block(block_type=0, L=0, species_i=1, species_j=1).values.shape"
   ]
  },
  {
   "cell_type": "code",
   "execution_count": 28,
   "metadata": {},
   "outputs": [
    {
     "data": {
      "text/plain": [
       "Labels([(0, 1, 1, 1), (0, 1, 1, 6), (0, 1, 1, 8), (1, 1, 1, 1),\n",
       "        (1, 1, 1, 6), (1, 1, 1, 8), (2, 1, 1, 1), (2, 1, 1, 6),\n",
       "        (2, 1, 1, 8)],\n",
       "       dtype=[('L', '<i4'), ('nu', '<i4'), ('sigma', '<i4'), ('species_i', '<i4')])"
      ]
     },
     "execution_count": 28,
     "metadata": {},
     "output_type": "execute_result"
    }
   ],
   "source": [
    "acdc_nu1.sparse"
   ]
  },
  {
   "cell_type": "code",
   "execution_count": 33,
   "metadata": {},
   "outputs": [
    {
     "name": "stderr",
     "output_type": "stream",
     "text": [
      "/Users/jigyasa/anaconda3/lib/python3.7/site-packages/ipykernel_launcher.py:20: DeprecationWarning: elementwise comparison failed; this will raise an error in the future.\n"
     ]
    },
    {
     "ename": "IndexError",
     "evalue": "index 0 is out of bounds for axis 0 with size 0",
     "output_type": "error",
     "traceback": [
      "\u001b[0;31m---------------------------------------------------------------------------\u001b[0m",
      "\u001b[0;31mIndexError\u001b[0m                                Traceback (most recent call last)",
      "\u001b[0;32m<ipython-input-33-edfe39e9edce>\u001b[0m in \u001b[0;36m<module>\u001b[0;34m\u001b[0m\n\u001b[1;32m     18\u001b[0m \u001b[0;31m#     yy.append()\u001b[0m\u001b[0;34m\u001b[0m\u001b[0;34m\u001b[0m\u001b[0;34m\u001b[0m\u001b[0m\n\u001b[1;32m     19\u001b[0m \u001b[0mixx\u001b[0m\u001b[0;34m=\u001b[0m\u001b[0;34m[\u001b[0m\u001b[0mnp\u001b[0m\u001b[0;34m.\u001b[0m\u001b[0mwhere\u001b[0m\u001b[0;34m(\u001b[0m\u001b[0mi\u001b[0m\u001b[0;34m==\u001b[0m\u001b[0mblockb_samples\u001b[0m\u001b[0;34m)\u001b[0m\u001b[0;34m[\u001b[0m\u001b[0;36m0\u001b[0m\u001b[0;34m]\u001b[0m\u001b[0;34m[\u001b[0m\u001b[0;36m0\u001b[0m\u001b[0;34m]\u001b[0m \u001b[0;32mfor\u001b[0m \u001b[0mi\u001b[0m \u001b[0;32min\u001b[0m \u001b[0mxx\u001b[0m\u001b[0;34m]\u001b[0m\u001b[0;34m\u001b[0m\u001b[0;34m\u001b[0m\u001b[0m\n\u001b[0;32m---> 20\u001b[0;31m \u001b[0miyy\u001b[0m\u001b[0;34m=\u001b[0m\u001b[0;34m[\u001b[0m\u001b[0mnp\u001b[0m\u001b[0;34m.\u001b[0m\u001b[0mwhere\u001b[0m\u001b[0;34m(\u001b[0m\u001b[0mi\u001b[0m\u001b[0;34m==\u001b[0m\u001b[0mblockb_samples\u001b[0m\u001b[0;34m)\u001b[0m\u001b[0;34m[\u001b[0m\u001b[0;36m0\u001b[0m\u001b[0;34m]\u001b[0m\u001b[0;34m[\u001b[0m\u001b[0;36m0\u001b[0m\u001b[0;34m]\u001b[0m \u001b[0;32mfor\u001b[0m \u001b[0mi\u001b[0m \u001b[0;32min\u001b[0m \u001b[0myy\u001b[0m\u001b[0;34m]\u001b[0m\u001b[0;34m\u001b[0m\u001b[0;34m\u001b[0m\u001b[0m\n\u001b[0m\u001b[1;32m     21\u001b[0m \u001b[0;34m\u001b[0m\u001b[0m\n\u001b[1;32m     22\u001b[0m \u001b[0mrhoinuvalues\u001b[0m \u001b[0;34m=\u001b[0m \u001b[0mblockb\u001b[0m\u001b[0;34m.\u001b[0m\u001b[0mvalues\u001b[0m\u001b[0;34m[\u001b[0m\u001b[0mixx\u001b[0m\u001b[0;34m]\u001b[0m\u001b[0;34m\u001b[0m\u001b[0;34m\u001b[0m\u001b[0m\n",
      "\u001b[0;32m<ipython-input-33-edfe39e9edce>\u001b[0m in \u001b[0;36m<listcomp>\u001b[0;34m(.0)\u001b[0m\n\u001b[1;32m     18\u001b[0m \u001b[0;31m#     yy.append()\u001b[0m\u001b[0;34m\u001b[0m\u001b[0;34m\u001b[0m\u001b[0;34m\u001b[0m\u001b[0m\n\u001b[1;32m     19\u001b[0m \u001b[0mixx\u001b[0m\u001b[0;34m=\u001b[0m\u001b[0;34m[\u001b[0m\u001b[0mnp\u001b[0m\u001b[0;34m.\u001b[0m\u001b[0mwhere\u001b[0m\u001b[0;34m(\u001b[0m\u001b[0mi\u001b[0m\u001b[0;34m==\u001b[0m\u001b[0mblockb_samples\u001b[0m\u001b[0;34m)\u001b[0m\u001b[0;34m[\u001b[0m\u001b[0;36m0\u001b[0m\u001b[0;34m]\u001b[0m\u001b[0;34m[\u001b[0m\u001b[0;36m0\u001b[0m\u001b[0;34m]\u001b[0m \u001b[0;32mfor\u001b[0m \u001b[0mi\u001b[0m \u001b[0;32min\u001b[0m \u001b[0mxx\u001b[0m\u001b[0;34m]\u001b[0m\u001b[0;34m\u001b[0m\u001b[0;34m\u001b[0m\u001b[0m\n\u001b[0;32m---> 20\u001b[0;31m \u001b[0miyy\u001b[0m\u001b[0;34m=\u001b[0m\u001b[0;34m[\u001b[0m\u001b[0mnp\u001b[0m\u001b[0;34m.\u001b[0m\u001b[0mwhere\u001b[0m\u001b[0;34m(\u001b[0m\u001b[0mi\u001b[0m\u001b[0;34m==\u001b[0m\u001b[0mblockb_samples\u001b[0m\u001b[0;34m)\u001b[0m\u001b[0;34m[\u001b[0m\u001b[0;36m0\u001b[0m\u001b[0;34m]\u001b[0m\u001b[0;34m[\u001b[0m\u001b[0;36m0\u001b[0m\u001b[0;34m]\u001b[0m \u001b[0;32mfor\u001b[0m \u001b[0mi\u001b[0m \u001b[0;32min\u001b[0m \u001b[0myy\u001b[0m\u001b[0;34m]\u001b[0m\u001b[0;34m\u001b[0m\u001b[0;34m\u001b[0m\u001b[0m\n\u001b[0m\u001b[1;32m     21\u001b[0m \u001b[0;34m\u001b[0m\u001b[0m\n\u001b[1;32m     22\u001b[0m \u001b[0mrhoinuvalues\u001b[0m \u001b[0;34m=\u001b[0m \u001b[0mblockb\u001b[0m\u001b[0;34m.\u001b[0m\u001b[0mvalues\u001b[0m\u001b[0;34m[\u001b[0m\u001b[0mixx\u001b[0m\u001b[0;34m]\u001b[0m\u001b[0;34m\u001b[0m\u001b[0;34m\u001b[0m\u001b[0m\n",
      "\u001b[0;31mIndexError\u001b[0m: index 0 is out of bounds for axis 0 with size 0"
     ]
    }
   ],
   "source": [
    "blockb_samples=acdc_nu1.block(L=0, species_i=1).samples\n",
    "blocka_samples=eth_rho0ij.block(block_type=2, L=0, species_i=1, species_j=6).samples\n",
    "blocka=eth_rho0ij.block(block_type=2, L=0, species_i=1, species_j=6)\n",
    "blockb=acdc_nu1.block(L=0, species_i=1)\n",
    "xx=[]\n",
    "yy=[]\n",
    "for samplea in blocka_samples:\n",
    "    centeri = samplea['center_i']\n",
    "    centerj = samplea['center_j']\n",
    "    stra = samplea['structure']\n",
    "    idxb= blockb_samples[np.where(blockb_samples['center']==centeri)]\n",
    "    samples_idxb=blockb_samples[np.where(np.in1d(blockb_samples,idxb))[0]]\n",
    "    xx.append(samples_idxb[np.where(samples_idxb['structure']==stra)[0]])\n",
    "    \n",
    "    idxbj= blockb_samples[np.where(blockb_samples['center']==centerj)]\n",
    "    samples_idxbj=blockb_samples[np.where(np.in1d(blockb_samples,idxbj))[0]]\n",
    "    yy.append(samples_idxbj[np.where(samples_idxbj['structure']==stra)[0]])\n",
    "#     yy.append()\n",
    "ixx=[np.where(i==blockb_samples)[0][0] for i in xx]\n",
    "iyy=[np.where(i==blockb_samples)[0][0] for i in yy]\n",
    "\n",
    "rhoinuvalues = blockb.values[ixx]\n",
    "rhojnuvalues = blockb.values[iyy]"
   ]
  },
  {
   "cell_type": "code",
   "execution_count": 36,
   "metadata": {},
   "outputs": [
    {
     "data": {
      "text/plain": [
       "Labels([(0, 3, 0), (0, 3, 1), (0, 4, 0), (0, 4, 1), (0, 5, 0), (0, 5, 1),\n",
       "        (0, 6, 0), (0, 6, 1), (0, 7, 0), (0, 7, 1), (0, 8, 0), (0, 8, 1),\n",
       "        (1, 3, 0), (1, 3, 1), (1, 4, 0), (1, 4, 1), (1, 5, 0), (1, 5, 1),\n",
       "        (1, 6, 0), (1, 6, 1), (1, 7, 0), (1, 7, 1), (1, 8, 0), (1, 8, 1)],\n",
       "       dtype=[('structure', '<i4'), ('center_i', '<i4'), ('center_j', '<i4')])"
      ]
     },
     "execution_count": 36,
     "metadata": {},
     "output_type": "execute_result"
    }
   ],
   "source": [
    "blocka_samples"
   ]
  },
  {
   "cell_type": "code",
   "execution_count": 37,
   "metadata": {},
   "outputs": [
    {
     "data": {
      "text/plain": [
       "Labels([(0, 3), (0, 4), (0, 5), (0, 6), (0, 7), (0, 8), (1, 3), (1, 4),\n",
       "        (1, 5), (1, 6), (1, 7), (1, 8)],\n",
       "       dtype=[('structure', '<i4'), ('center', '<i4')])"
      ]
     },
     "execution_count": 37,
     "metadata": {},
     "output_type": "execute_result"
    }
   ],
   "source": [
    "blockb_samples"
   ]
  },
  {
   "cell_type": "code",
   "execution_count": 256,
   "metadata": {},
   "outputs": [
    {
     "data": {
      "text/plain": [
       "(30, 1, 9)"
      ]
     },
     "execution_count": 256,
     "metadata": {},
     "output_type": "execute_result"
    }
   ],
   "source": [
    "rhojnuvalues.shape"
   ]
  },
  {
   "cell_type": "code",
   "execution_count": 248,
   "metadata": {},
   "outputs": [
    {
     "data": {
      "text/plain": [
       "Labels([(0, 3, 4), (0, 3, 5), (0, 3, 6), (0, 3, 7), (0, 3, 8), (0, 4, 5),\n",
       "        (0, 4, 6), (0, 4, 7), (0, 4, 8), (0, 5, 6), (0, 5, 7), (0, 5, 8),\n",
       "        (0, 6, 7), (0, 6, 8), (0, 7, 8), (1, 3, 4), (1, 3, 5), (1, 3, 6),\n",
       "        (1, 3, 7), (1, 3, 8), (1, 4, 5), (1, 4, 6), (1, 4, 7), (1, 4, 8),\n",
       "        (1, 5, 6), (1, 5, 7), (1, 5, 8), (1, 6, 7), (1, 6, 8), (1, 7, 8)],\n",
       "       dtype=[('structure', '<i4'), ('center_i', '<i4'), ('center_j', '<i4')])"
      ]
     },
     "execution_count": 248,
     "metadata": {},
     "output_type": "execute_result"
    }
   ],
   "source": [
    "blocka_samples"
   ]
  },
  {
   "cell_type": "code",
   "execution_count": 24,
   "metadata": {
    "scrolled": true
   },
   "outputs": [
    {
     "name": "stdout",
     "output_type": "stream",
     "text": [
      "[0, 1, 0, 1] [Labels([], dtype=[('structure', '<i4'), ('center', '<i4')]), Labels([], dtype=[('structure', '<i4'), ('center', '<i4')]), Labels([], dtype=[('structure', '<i4'), ('center', '<i4')]), Labels([], dtype=[('structure', '<i4'), ('center', '<i4')])]\n"
     ]
    },
    {
     "ename": "NameError",
     "evalue": "name 'xx' is not defined",
     "output_type": "error",
     "traceback": [
      "\u001b[0;31m---------------------------------------------------------------------------\u001b[0m",
      "\u001b[0;31mNameError\u001b[0m                                 Traceback (most recent call last)",
      "\u001b[0;32m<ipython-input-24-d6c87399997a>\u001b[0m in \u001b[0;36m<module>\u001b[0;34m\u001b[0m\n\u001b[1;32m     22\u001b[0m     \u001b[0;32mfor\u001b[0m \u001b[0mi\u001b[0m \u001b[0;32min\u001b[0m \u001b[0mrange\u001b[0m\u001b[0;34m(\u001b[0m\u001b[0mlen\u001b[0m\u001b[0;34m(\u001b[0m\u001b[0midxa\u001b[0m\u001b[0;34m)\u001b[0m\u001b[0;34m)\u001b[0m\u001b[0;34m:\u001b[0m\u001b[0;34m\u001b[0m\u001b[0;34m\u001b[0m\u001b[0m\n\u001b[1;32m     23\u001b[0m \u001b[0;31m#         print(cent, idxa[i], len(idxa))\u001b[0m\u001b[0;34m\u001b[0m\u001b[0;34m\u001b[0m\u001b[0;34m\u001b[0m\u001b[0m\n\u001b[0;32m---> 24\u001b[0;31m         \u001b[0mxx\u001b[0m\u001b[0;34m.\u001b[0m\u001b[0mappend\u001b[0m\u001b[0;34m(\u001b[0m\u001b[0msamples_idxb\u001b[0m\u001b[0;34m[\u001b[0m\u001b[0mnp\u001b[0m\u001b[0;34m.\u001b[0m\u001b[0mwhere\u001b[0m\u001b[0;34m(\u001b[0m\u001b[0msamples_idxb\u001b[0m\u001b[0;34m[\u001b[0m\u001b[0;34m'structure'\u001b[0m\u001b[0;34m]\u001b[0m\u001b[0;34m==\u001b[0m\u001b[0midxa\u001b[0m\u001b[0;34m[\u001b[0m\u001b[0mi\u001b[0m\u001b[0;34m]\u001b[0m\u001b[0;34m[\u001b[0m\u001b[0;34m'structure'\u001b[0m\u001b[0;34m]\u001b[0m\u001b[0;34m)\u001b[0m\u001b[0;34m[\u001b[0m\u001b[0;36m0\u001b[0m\u001b[0;34m]\u001b[0m\u001b[0;34m]\u001b[0m\u001b[0;34m)\u001b[0m\u001b[0;34m\u001b[0m\u001b[0;34m\u001b[0m\u001b[0m\n\u001b[0m\u001b[1;32m     25\u001b[0m         \u001b[0myy\u001b[0m\u001b[0;34m.\u001b[0m\u001b[0mappend\u001b[0m\u001b[0;34m(\u001b[0m\u001b[0msamples_idxbj\u001b[0m\u001b[0;34m[\u001b[0m\u001b[0mnp\u001b[0m\u001b[0;34m.\u001b[0m\u001b[0mwhere\u001b[0m\u001b[0;34m(\u001b[0m\u001b[0msamples_idxbj\u001b[0m\u001b[0;34m[\u001b[0m\u001b[0;34m'structure'\u001b[0m\u001b[0;34m]\u001b[0m\u001b[0;34m==\u001b[0m\u001b[0midxa\u001b[0m\u001b[0;34m[\u001b[0m\u001b[0mi\u001b[0m\u001b[0;34m]\u001b[0m\u001b[0;34m[\u001b[0m\u001b[0;34m'structure'\u001b[0m\u001b[0;34m]\u001b[0m\u001b[0;34m)\u001b[0m\u001b[0;34m[\u001b[0m\u001b[0;36m0\u001b[0m\u001b[0;34m]\u001b[0m\u001b[0;34m]\u001b[0m\u001b[0;34m)\u001b[0m\u001b[0;34m\u001b[0m\u001b[0;34m\u001b[0m\u001b[0m\n\u001b[1;32m     26\u001b[0m \u001b[0;34m\u001b[0m\u001b[0m\n",
      "\u001b[0;31mNameError\u001b[0m: name 'xx' is not defined"
     ]
    }
   ],
   "source": [
    "blockb_samples=acdc_nu1.block(L=0, species_i=1).samples\n",
    "blocka_samples=eth_rho0ij.block(block_type=2, L=0, species_i=1, species_j=6).samples\n",
    "blocka=eth_rho0ij.block(block_type=1, L=0, species_i=1, species_j=1)\n",
    "blockb=acdc_nu1.block(L=0, species_i=1)\n",
    "# rhoinuvalues=[]\n",
    "# rhojnuvalues=[]\n",
    "\n",
    "yy=[]\n",
    "xx=[]\n",
    "iyy=[]\n",
    "for cent in list(sorted(set(blocka_samples['center_i'])))[:]:#ordered set \n",
    "    idxa= blocka_samples[np.where(blocka_samples['center_i']==cent)]\n",
    "    centj=[x[-1] for x in idxa]\n",
    "#     print(cent, centj)\n",
    "    idxb= blockb_samples[np.where(blockb_samples['center']==cent)]\n",
    "    samples_idxb=blockb_samples[np.where(np.in1d(blockb_samples,idxb))[0]]\n",
    "    \n",
    "    idxbj= [blockb_samples[np.where(blockb_samples['center']==cj)] for cj in centj]\n",
    "    samples_idxbj=blockb_samples[np.where(np.in1d(blockb_samples,idxbj))[0]]\n",
    "    print(centj, idxbj)\n",
    "\n",
    "    for i in range(len(idxa)):\n",
    "#         print(cent, idxa[i], len(idxa))\n",
    "        xx.append(samples_idxb[np.where(samples_idxb['structure']==idxa[i]['structure'])[0]])\n",
    "        yy.append(samples_idxbj[np.where(samples_idxbj['structure']==idxa[i]['structure'])[0]])\n",
    "        \n",
    "#         iyy.append(np.where(np.in1d(samples_idxbj[np.where(samples_idxbj['structure']==idxa[i]['structure'])], blockb_samples))[0])\n",
    "#         rhoinuvalues.append(blockb_samples[np.where(blockb_samples[np.where(np.in1d(blockb_samples,idxb))[0]]['structure']==idxa[i]['structure'])])\n",
    "#         rhojnuvalues.append(blockb_samples[np.where(blockb_samples[np.where(np.in1d(blockb_samples,idxbj))[0]]['structure']==idxa[i]['structure'])[0]])\n",
    "ixx=[np.where(i==blockb_samples)[0][0] for i in xx]\n",
    "# iyy=[np.where(i==blockb_samples)[0][0] for i in yy]\n",
    "\n",
    "rhoinuvalues = blockb.values[ixx]\n",
    "# rhojnuvalues = blockb.values[iyy]\n",
    "# \n",
    "#     idxj=[blockb_samples[np.where(blockb_samples['center']==y)] for y in centj]\n",
    "#     idxj.apppend()\n",
    "#     rhojnuvalues.append(blockb_samples[np.where(blockb_samples==y)] for y in idxj)"
   ]
  },
  {
   "cell_type": "code",
   "execution_count": 221,
   "metadata": {},
   "outputs": [
    {
     "data": {
      "text/plain": [
       "(30, 1, 9)"
      ]
     },
     "execution_count": 221,
     "metadata": {},
     "output_type": "execute_result"
    }
   ],
   "source": [
    "rhoinuvalues.shape"
   ]
  },
  {
   "cell_type": "code",
   "execution_count": 240,
   "metadata": {},
   "outputs": [
    {
     "data": {
      "text/plain": [
       "[Labels([(0, 4), (0, 5), (0, 6), (0, 7), (0, 8)],\n",
       "        dtype=[('structure', '<i4'), ('center', '<i4')]),\n",
       " Labels([(0, 4), (0, 5), (0, 6), (0, 7), (0, 8)],\n",
       "        dtype=[('structure', '<i4'), ('center', '<i4')]),\n",
       " Labels([(0, 4), (0, 5), (0, 6), (0, 7), (0, 8)],\n",
       "        dtype=[('structure', '<i4'), ('center', '<i4')]),\n",
       " Labels([(0, 4), (0, 5), (0, 6), (0, 7), (0, 8)],\n",
       "        dtype=[('structure', '<i4'), ('center', '<i4')]),\n",
       " Labels([(0, 4), (0, 5), (0, 6), (0, 7), (0, 8)],\n",
       "        dtype=[('structure', '<i4'), ('center', '<i4')]),\n",
       " Labels([(1, 4), (1, 5), (1, 6), (1, 7), (1, 8)],\n",
       "        dtype=[('structure', '<i4'), ('center', '<i4')]),\n",
       " Labels([(1, 4), (1, 5), (1, 6), (1, 7), (1, 8)],\n",
       "        dtype=[('structure', '<i4'), ('center', '<i4')]),\n",
       " Labels([(1, 4), (1, 5), (1, 6), (1, 7), (1, 8)],\n",
       "        dtype=[('structure', '<i4'), ('center', '<i4')]),\n",
       " Labels([(1, 4), (1, 5), (1, 6), (1, 7), (1, 8)],\n",
       "        dtype=[('structure', '<i4'), ('center', '<i4')]),\n",
       " Labels([(1, 4), (1, 5), (1, 6), (1, 7), (1, 8)],\n",
       "        dtype=[('structure', '<i4'), ('center', '<i4')]),\n",
       " Labels([(0, 5), (0, 6), (0, 7), (0, 8)],\n",
       "        dtype=[('structure', '<i4'), ('center', '<i4')]),\n",
       " Labels([(0, 5), (0, 6), (0, 7), (0, 8)],\n",
       "        dtype=[('structure', '<i4'), ('center', '<i4')]),\n",
       " Labels([(0, 5), (0, 6), (0, 7), (0, 8)],\n",
       "        dtype=[('structure', '<i4'), ('center', '<i4')]),\n",
       " Labels([(0, 5), (0, 6), (0, 7), (0, 8)],\n",
       "        dtype=[('structure', '<i4'), ('center', '<i4')]),\n",
       " Labels([(1, 5), (1, 6), (1, 7), (1, 8)],\n",
       "        dtype=[('structure', '<i4'), ('center', '<i4')]),\n",
       " Labels([(1, 5), (1, 6), (1, 7), (1, 8)],\n",
       "        dtype=[('structure', '<i4'), ('center', '<i4')]),\n",
       " Labels([(1, 5), (1, 6), (1, 7), (1, 8)],\n",
       "        dtype=[('structure', '<i4'), ('center', '<i4')]),\n",
       " Labels([(1, 5), (1, 6), (1, 7), (1, 8)],\n",
       "        dtype=[('structure', '<i4'), ('center', '<i4')]),\n",
       " Labels([(0, 6), (0, 7), (0, 8)],\n",
       "        dtype=[('structure', '<i4'), ('center', '<i4')]),\n",
       " Labels([(0, 6), (0, 7), (0, 8)],\n",
       "        dtype=[('structure', '<i4'), ('center', '<i4')]),\n",
       " Labels([(0, 6), (0, 7), (0, 8)],\n",
       "        dtype=[('structure', '<i4'), ('center', '<i4')]),\n",
       " Labels([(1, 6), (1, 7), (1, 8)],\n",
       "        dtype=[('structure', '<i4'), ('center', '<i4')]),\n",
       " Labels([(1, 6), (1, 7), (1, 8)],\n",
       "        dtype=[('structure', '<i4'), ('center', '<i4')]),\n",
       " Labels([(1, 6), (1, 7), (1, 8)],\n",
       "        dtype=[('structure', '<i4'), ('center', '<i4')]),\n",
       " Labels([(0, 7), (0, 8)], dtype=[('structure', '<i4'), ('center', '<i4')]),\n",
       " Labels([(0, 7), (0, 8)], dtype=[('structure', '<i4'), ('center', '<i4')]),\n",
       " Labels([(1, 7), (1, 8)], dtype=[('structure', '<i4'), ('center', '<i4')]),\n",
       " Labels([(1, 7), (1, 8)], dtype=[('structure', '<i4'), ('center', '<i4')]),\n",
       " Labels([(0, 8)], dtype=[('structure', '<i4'), ('center', '<i4')]),\n",
       " Labels([(1, 8)], dtype=[('structure', '<i4'), ('center', '<i4')])]"
      ]
     },
     "execution_count": 240,
     "metadata": {},
     "output_type": "execute_result"
    }
   ],
   "source": [
    "yy"
   ]
  },
  {
   "cell_type": "code",
   "execution_count": 236,
   "metadata": {},
   "outputs": [
    {
     "data": {
      "text/plain": [
       "Labels([(0, 8), (1, 8)], dtype=[('structure', '<i4'), ('center', '<i4')])"
      ]
     },
     "execution_count": 236,
     "metadata": {},
     "output_type": "execute_result"
    }
   ],
   "source": [
    "samples_idxbj"
   ]
  },
  {
   "cell_type": "code",
   "execution_count": 228,
   "metadata": {},
   "outputs": [
    {
     "data": {
      "text/plain": [
       "Labels([(0, 3, 4), (0, 3, 5), (0, 3, 6), (0, 3, 7), (0, 3, 8), (0, 4, 5),\n",
       "        (0, 4, 6), (0, 4, 7), (0, 4, 8), (0, 5, 6), (0, 5, 7), (0, 5, 8),\n",
       "        (0, 6, 7), (0, 6, 8), (0, 7, 8), (1, 3, 4), (1, 3, 5), (1, 3, 6),\n",
       "        (1, 3, 7), (1, 3, 8), (1, 4, 5), (1, 4, 6), (1, 4, 7), (1, 4, 8),\n",
       "        (1, 5, 6), (1, 5, 7), (1, 5, 8), (1, 6, 7), (1, 6, 8), (1, 7, 8)],\n",
       "       dtype=[('structure', '<i4'), ('center_i', '<i4'), ('center_j', '<i4')])"
      ]
     },
     "execution_count": 228,
     "metadata": {},
     "output_type": "execute_result"
    }
   ],
   "source": [
    "blocka.samples"
   ]
  },
  {
   "cell_type": "code",
   "execution_count": 224,
   "metadata": {},
   "outputs": [
    {
     "data": {
      "text/plain": [
       "30"
      ]
     },
     "execution_count": 224,
     "metadata": {},
     "output_type": "execute_result"
    }
   ],
   "source": [
    "iyy=[np.where(i==blockb_samples)[0][0] for i in yy]"
   ]
  },
  {
   "cell_type": "code",
   "execution_count": 231,
   "metadata": {},
   "outputs": [
    {
     "data": {
      "text/plain": [
       "[8, 8]"
      ]
     },
     "execution_count": 231,
     "metadata": {},
     "output_type": "execute_result"
    }
   ],
   "source": [
    "centj"
   ]
  },
  {
   "cell_type": "code",
   "execution_count": 178,
   "metadata": {},
   "outputs": [
    {
     "ename": "SyntaxError",
     "evalue": "unexpected EOF while parsing (<ipython-input-178-d48dff41b907>, line 1)",
     "output_type": "error",
     "traceback": [
      "\u001b[0;36m  File \u001b[0;32m\"<ipython-input-178-d48dff41b907>\"\u001b[0;36m, line \u001b[0;32m1\u001b[0m\n\u001b[0;31m    np.where(blockb_samples[np.where(np.in1d(blockb_samples,idxbj))[0]]\u001b[0m\n\u001b[0m                                                                       ^\u001b[0m\n\u001b[0;31mSyntaxError\u001b[0m\u001b[0;31m:\u001b[0m unexpected EOF while parsing\n"
     ]
    }
   ],
   "source": [
    " np.where(blockb_samples[np.where(np.in1d(blockb_samples,idxbj))[0]]"
   ]
  },
  {
   "cell_type": "code",
   "execution_count": 172,
   "metadata": {},
   "outputs": [
    {
     "data": {
      "text/plain": [
       "(30,)"
      ]
     },
     "execution_count": 172,
     "metadata": {},
     "output_type": "execute_result"
    }
   ],
   "source": [
    "rhojnuvalues.shape"
   ]
  },
  {
   "cell_type": "code",
   "execution_count": 182,
   "metadata": {},
   "outputs": [
    {
     "name": "stdout",
     "output_type": "stream",
     "text": [
      "7 [(0, 7, 8) (1, 7, 8)] [8, 8] [Labels([(0, 8)], dtype=[('structure', '<i4'), ('center', '<i4')]), Labels([(1, 8)], dtype=[('structure', '<i4'), ('center', '<i4')])]\n"
     ]
    }
   ],
   "source": [
    "print(cent,idxa, centj, yy)"
   ]
  },
  {
   "cell_type": "code",
   "execution_count": 189,
   "metadata": {},
   "outputs": [
    {
     "data": {
      "text/plain": [
       "Labels([(0, 8), (1, 8)], dtype=[('structure', '<i4'), ('center', '<i4')])"
      ]
     },
     "execution_count": 189,
     "metadata": {},
     "output_type": "execute_result"
    }
   ],
   "source": [
    "samples_idxbj#[iyy[0]]"
   ]
  },
  {
   "cell_type": "code",
   "execution_count": 193,
   "metadata": {},
   "outputs": [
    {
     "ename": "TypeError",
     "evalue": "'numpy.ndarray' object is not callable",
     "output_type": "error",
     "traceback": [
      "\u001b[0;31m---------------------------------------------------------------------------\u001b[0m",
      "\u001b[0;31mTypeError\u001b[0m                                 Traceback (most recent call last)",
      "\u001b[0;32m<ipython-input-193-517f708fa432>\u001b[0m in \u001b[0;36m<module>\u001b[0;34m\u001b[0m\n\u001b[0;32m----> 1\u001b[0;31m \u001b[0mblockb\u001b[0m\u001b[0;34m.\u001b[0m\u001b[0mvalues\u001b[0m\u001b[0;34m(\u001b[0m\u001b[0;34m[\u001b[0m\u001b[0;36m0\u001b[0m\u001b[0;34m,\u001b[0m\u001b[0;36m4\u001b[0m\u001b[0;34m]\u001b[0m\u001b[0;34m)\u001b[0m\u001b[0;34m\u001b[0m\u001b[0;34m\u001b[0m\u001b[0m\n\u001b[0m",
      "\u001b[0;31mTypeError\u001b[0m: 'numpy.ndarray' object is not callable"
     ]
    }
   ],
   "source": [
    "blockb.values"
   ]
  },
  {
   "cell_type": "code",
   "execution_count": 198,
   "metadata": {},
   "outputs": [
    {
     "data": {
      "text/plain": [
       "[Labels([(0, 8)], dtype=[('structure', '<i4'), ('center', '<i4')]),\n",
       " Labels([(1, 8)], dtype=[('structure', '<i4'), ('center', '<i4')])]"
      ]
     },
     "execution_count": 198,
     "metadata": {},
     "output_type": "execute_result"
    }
   ],
   "source": [
    "yy"
   ]
  },
  {
   "cell_type": "code",
   "execution_count": 199,
   "metadata": {},
   "outputs": [
    {
     "data": {
      "text/plain": [
       "Labels([(0, 3), (0, 4), (0, 5), (0, 6), (0, 7), (0, 8), (1, 3), (1, 4),\n",
       "        (1, 5), (1, 6), (1, 7), (1, 8)],\n",
       "       dtype=[('structure', '<i4'), ('center', '<i4')])"
      ]
     },
     "execution_count": 199,
     "metadata": {},
     "output_type": "execute_result"
    }
   ],
   "source": [
    "blockb_samples"
   ]
  },
  {
   "cell_type": "code",
   "execution_count": 181,
   "metadata": {},
   "outputs": [
    {
     "data": {
      "text/plain": [
       "[Labels([(0, 8), (1, 8)], dtype=[('structure', '<i4'), ('center', '<i4')]),\n",
       " Labels([(0, 8), (1, 8)], dtype=[('structure', '<i4'), ('center', '<i4')])]"
      ]
     },
     "execution_count": 181,
     "metadata": {},
     "output_type": "execute_result"
    }
   ],
   "source": [
    "idxbj"
   ]
  },
  {
   "cell_type": "code",
   "execution_count": 150,
   "metadata": {},
   "outputs": [
    {
     "data": {
      "text/plain": [
       "[8, 8]"
      ]
     },
     "execution_count": 150,
     "metadata": {},
     "output_type": "execute_result"
    }
   ],
   "source": [
    "centj"
   ]
  },
  {
   "cell_type": "code",
   "execution_count": 147,
   "metadata": {},
   "outputs": [
    {
     "data": {
      "text/plain": [
       "30"
      ]
     },
     "execution_count": 147,
     "metadata": {},
     "output_type": "execute_result"
    }
   ],
   "source": [
    "len(rhoinuvalues)"
   ]
  },
  {
   "cell_type": "code",
   "execution_count": 142,
   "metadata": {},
   "outputs": [
    {
     "data": {
      "text/plain": [
       "(array([1]),)"
      ]
     },
     "execution_count": 142,
     "metadata": {},
     "output_type": "execute_result"
    }
   ],
   "source": [
    "np.where(blockb_samples[np.where(np.in1d(blockb_samples,idxb))]['structure']==idxa[1]['structure'])"
   ]
  },
  {
   "cell_type": "code",
   "execution_count": 143,
   "metadata": {},
   "outputs": [
    {
     "data": {
      "text/plain": [
       "Labels([(0, 7, 8), (1, 7, 8)],\n",
       "       dtype=[('structure', '<i4'), ('center_i', '<i4'), ('center_j', '<i4')])"
      ]
     },
     "execution_count": 143,
     "metadata": {},
     "output_type": "execute_result"
    }
   ],
   "source": [
    "idxa"
   ]
  },
  {
   "cell_type": "code",
   "execution_count": 144,
   "metadata": {},
   "outputs": [
    {
     "data": {
      "text/plain": [
       "[(array([0]),),\n",
       " (array([0]),),\n",
       " (array([0]),),\n",
       " (array([0]),),\n",
       " (array([0]),),\n",
       " (array([1]),),\n",
       " (array([1]),),\n",
       " (array([1]),),\n",
       " (array([1]),),\n",
       " (array([1]),),\n",
       " (array([0]),),\n",
       " (array([0]),),\n",
       " (array([0]),),\n",
       " (array([0]),),\n",
       " (array([1]),),\n",
       " (array([1]),),\n",
       " (array([1]),),\n",
       " (array([1]),),\n",
       " (array([0]),),\n",
       " (array([0]),),\n",
       " (array([0]),),\n",
       " (array([1]),),\n",
       " (array([1]),),\n",
       " (array([1]),),\n",
       " (array([0]),),\n",
       " (array([0]),),\n",
       " (array([1]),),\n",
       " (array([1]),),\n",
       " (array([0]),),\n",
       " (array([1]),)]"
      ]
     },
     "execution_count": 144,
     "metadata": {},
     "output_type": "execute_result"
    }
   ],
   "source": [
    "ixx"
   ]
  },
  {
   "cell_type": "code",
   "execution_count": 119,
   "metadata": {},
   "outputs": [
    {
     "data": {
      "text/plain": [
       "(12, 1, 9)"
      ]
     },
     "execution_count": 119,
     "metadata": {},
     "output_type": "execute_result"
    }
   ],
   "source": [
    "blockb.values.shape"
   ]
  },
  {
   "cell_type": "code",
   "execution_count": 120,
   "metadata": {},
   "outputs": [
    {
     "data": {
      "text/plain": [
       "Labels([(0, 3), (0, 4), (0, 5), (0, 6), (0, 7), (0, 8), (1, 3), (1, 4),\n",
       "        (1, 5), (1, 6), (1, 7), (1, 8)],\n",
       "       dtype=[('structure', '<i4'), ('center', '<i4')])"
      ]
     },
     "execution_count": 120,
     "metadata": {},
     "output_type": "execute_result"
    }
   ],
   "source": [
    "blockb.samples"
   ]
  },
  {
   "cell_type": "code",
   "execution_count": 122,
   "metadata": {},
   "outputs": [
    {
     "data": {
      "text/plain": [
       "[Labels([(0, 3)], dtype=[('structure', '<i4'), ('center', '<i4')]),\n",
       " Labels([(0, 4)], dtype=[('structure', '<i4'), ('center', '<i4')])]"
      ]
     },
     "execution_count": 122,
     "metadata": {},
     "output_type": "execute_result"
    }
   ],
   "source": [
    "xx"
   ]
  },
  {
   "cell_type": "code",
   "execution_count": 115,
   "metadata": {},
   "outputs": [
    {
     "data": {
      "text/plain": [
       "(12, 1, 9)"
      ]
     },
     "execution_count": 115,
     "metadata": {},
     "output_type": "execute_result"
    }
   ],
   "source": [
    "blockb.values.shape"
   ]
  },
  {
   "cell_type": "code",
   "execution_count": 112,
   "metadata": {},
   "outputs": [
    {
     "data": {
      "text/plain": [
       "[Labels([(0, 3)], dtype=[('structure', '<i4'), ('center', '<i4')]),\n",
       " Labels([(0, 3)], dtype=[('structure', '<i4'), ('center', '<i4')]),\n",
       " Labels([(0, 3)], dtype=[('structure', '<i4'), ('center', '<i4')]),\n",
       " Labels([(0, 3)], dtype=[('structure', '<i4'), ('center', '<i4')]),\n",
       " Labels([(0, 3)], dtype=[('structure', '<i4'), ('center', '<i4')]),\n",
       " Labels([(0, 4)], dtype=[('structure', '<i4'), ('center', '<i4')]),\n",
       " Labels([(0, 4)], dtype=[('structure', '<i4'), ('center', '<i4')]),\n",
       " Labels([(0, 4)], dtype=[('structure', '<i4'), ('center', '<i4')]),\n",
       " Labels([(0, 4)], dtype=[('structure', '<i4'), ('center', '<i4')]),\n",
       " Labels([(0, 4)], dtype=[('structure', '<i4'), ('center', '<i4')]),\n",
       " Labels([(0, 3)], dtype=[('structure', '<i4'), ('center', '<i4')]),\n",
       " Labels([(0, 3)], dtype=[('structure', '<i4'), ('center', '<i4')]),\n",
       " Labels([(0, 3)], dtype=[('structure', '<i4'), ('center', '<i4')]),\n",
       " Labels([(0, 3)], dtype=[('structure', '<i4'), ('center', '<i4')]),\n",
       " Labels([(0, 4)], dtype=[('structure', '<i4'), ('center', '<i4')]),\n",
       " Labels([(0, 4)], dtype=[('structure', '<i4'), ('center', '<i4')]),\n",
       " Labels([(0, 4)], dtype=[('structure', '<i4'), ('center', '<i4')]),\n",
       " Labels([(0, 4)], dtype=[('structure', '<i4'), ('center', '<i4')]),\n",
       " Labels([(0, 3)], dtype=[('structure', '<i4'), ('center', '<i4')]),\n",
       " Labels([(0, 3)], dtype=[('structure', '<i4'), ('center', '<i4')]),\n",
       " Labels([(0, 3)], dtype=[('structure', '<i4'), ('center', '<i4')]),\n",
       " Labels([(0, 4)], dtype=[('structure', '<i4'), ('center', '<i4')]),\n",
       " Labels([(0, 4)], dtype=[('structure', '<i4'), ('center', '<i4')]),\n",
       " Labels([(0, 4)], dtype=[('structure', '<i4'), ('center', '<i4')]),\n",
       " Labels([(0, 3)], dtype=[('structure', '<i4'), ('center', '<i4')]),\n",
       " Labels([(0, 3)], dtype=[('structure', '<i4'), ('center', '<i4')]),\n",
       " Labels([(0, 4)], dtype=[('structure', '<i4'), ('center', '<i4')]),\n",
       " Labels([(0, 4)], dtype=[('structure', '<i4'), ('center', '<i4')]),\n",
       " Labels([(0, 3)], dtype=[('structure', '<i4'), ('center', '<i4')]),\n",
       " Labels([(0, 4)], dtype=[('structure', '<i4'), ('center', '<i4')])]"
      ]
     },
     "execution_count": 112,
     "metadata": {},
     "output_type": "execute_result"
    }
   ],
   "source": [
    "rhoinuvalues"
   ]
  },
  {
   "cell_type": "code",
   "execution_count": 101,
   "metadata": {},
   "outputs": [
    {
     "data": {
      "text/plain": [
       "Labels([(0, 7), (1, 7)], dtype=[('structure', '<i4'), ('center', '<i4')])"
      ]
     },
     "execution_count": 101,
     "metadata": {},
     "output_type": "execute_result"
    }
   ],
   "source": [
    "blockb_samples[np.where((np.in1d(blockb_samples,idxb)) & (np.in1d(idxa[i]['structure'],idxb['structure'])))]"
   ]
  },
  {
   "cell_type": "code",
   "execution_count": 105,
   "metadata": {},
   "outputs": [
    {
     "data": {
      "text/plain": [
       "Labels([(0, 4)], dtype=[('structure', '<i4'), ('center', '<i4')])"
      ]
     },
     "execution_count": 105,
     "metadata": {},
     "output_type": "execute_result"
    }
   ],
   "source": [
    "blockb_samples[np.where(blockb_samples[np.where(np.in1d(blockb_samples,idxb))]['structure']==idxa[i]['structure'])]\n"
   ]
  },
  {
   "cell_type": "code",
   "execution_count": 109,
   "metadata": {},
   "outputs": [
    {
     "data": {
      "text/plain": [
       "[Labels([(0, 3)], dtype=[('structure', '<i4'), ('center', '<i4')]),\n",
       " Labels([(0, 4)], dtype=[('structure', '<i4'), ('center', '<i4')])]"
      ]
     },
     "execution_count": 109,
     "metadata": {},
     "output_type": "execute_result"
    }
   ],
   "source": [
    "xx"
   ]
  },
  {
   "cell_type": "code",
   "execution_count": 82,
   "metadata": {},
   "outputs": [
    {
     "data": {
      "text/plain": [
       "Labels([(0, 3)], dtype=[('structure', '<i4'), ('center', '<i4')])"
      ]
     },
     "execution_count": 82,
     "metadata": {},
     "output_type": "execute_result"
    }
   ],
   "source": [
    "blockb_samples[np.where(np.in1d(idxa[i]['structure'],idxb['structure']))[0]]"
   ]
  },
  {
   "cell_type": "code",
   "execution_count": 78,
   "metadata": {},
   "outputs": [
    {
     "data": {
      "text/plain": [
       "Labels([(0, 7), (1, 7)], dtype=[('structure', '<i4'), ('center', '<i4')])"
      ]
     },
     "execution_count": 78,
     "metadata": {},
     "output_type": "execute_result"
    }
   ],
   "source": [
    "xx[0]"
   ]
  },
  {
   "cell_type": "code",
   "execution_count": 72,
   "metadata": {},
   "outputs": [
    {
     "data": {
      "text/plain": [
       "Labels([(0, 7, 8), (1, 7, 8)],\n",
       "       dtype=[('structure', '<i4'), ('center_i', '<i4'), ('center_j', '<i4')])"
      ]
     },
     "execution_count": 72,
     "metadata": {},
     "output_type": "execute_result"
    }
   ],
   "source": [
    "idxa"
   ]
  },
  {
   "cell_type": "code",
   "execution_count": 24,
   "metadata": {},
   "outputs": [
    {
     "data": {
      "text/plain": [
       "Labels([(0, 7), (1, 7)], dtype=[('structure', '<i4'), ('center', '<i4')])"
      ]
     },
     "execution_count": 24,
     "metadata": {},
     "output_type": "execute_result"
    }
   ],
   "source": [
    "idxb"
   ]
  },
  {
   "cell_type": "code",
   "execution_count": 66,
   "metadata": {},
   "outputs": [
    {
     "data": {
      "text/plain": [
       "30"
      ]
     },
     "execution_count": 66,
     "metadata": {},
     "output_type": "execute_result"
    }
   ],
   "source": [
    "len(rhoinuvalues)"
   ]
  },
  {
   "cell_type": "code",
   "execution_count": 75,
   "metadata": {},
   "outputs": [
    {
     "name": "stderr",
     "output_type": "stream",
     "text": [
      "/tmp/ipykernel_267857/4199430762.py:1: DeprecationWarning: elementwise comparison failed; this will raise an error in the future.\n",
      "  blocka.values[np.where(blocka_samples==idxa)].shape\n"
     ]
    },
    {
     "data": {
      "text/plain": [
       "(0, 1, 3)"
      ]
     },
     "execution_count": 75,
     "metadata": {},
     "output_type": "execute_result"
    }
   ],
   "source": [
    "blocka.values[np.where(blocka_samples==idxa)].shape"
   ]
  },
  {
   "cell_type": "code",
   "execution_count": 81,
   "metadata": {},
   "outputs": [
    {
     "data": {
      "text/plain": [
       "Labels([(0, 3, 4), (0, 3, 5), (0, 3, 6), (0, 3, 7), (0, 3, 8), (0, 4, 5),\n",
       "        (0, 4, 6), (0, 4, 7), (0, 4, 8), (0, 5, 6), (0, 5, 7), (0, 5, 8),\n",
       "        (0, 6, 7), (0, 6, 8), (0, 7, 8)],\n",
       "       dtype=[('structure', '<i4'), ('center_i', '<i4'), ('center_j', '<i4')])"
      ]
     },
     "execution_count": 81,
     "metadata": {},
     "output_type": "execute_result"
    }
   ],
   "source": [
    "idxa\n",
    "blocka_samples"
   ]
  },
  {
   "cell_type": "code",
   "execution_count": 77,
   "metadata": {},
   "outputs": [
    {
     "name": "stderr",
     "output_type": "stream",
     "text": [
      "/tmp/ipykernel_267857/115395596.py:1: DeprecationWarning: elementwise comparison failed; this will raise an error in the future.\n",
      "  np.where(blocka_samples==idxa)\n"
     ]
    },
    {
     "data": {
      "text/plain": [
       "(array([], dtype=int64),)"
      ]
     },
     "execution_count": 77,
     "metadata": {},
     "output_type": "execute_result"
    }
   ],
   "source": [
    "np.where(blocka_samples==idxa)"
   ]
  },
  {
   "cell_type": "code",
   "execution_count": 69,
   "metadata": {},
   "outputs": [
    {
     "data": {
      "text/plain": [
       "Labels([(0, 3, 4), (0, 3, 5), (0, 3, 6), (0, 3, 7), (0, 3, 8), (0, 4, 5),\n",
       "        (0, 4, 6), (0, 4, 7), (0, 4, 8), (0, 5, 6), (0, 5, 7), (0, 5, 8),\n",
       "        (0, 6, 7), (0, 6, 8), (0, 7, 8)],\n",
       "       dtype=[('structure', '<i4'), ('center_i', '<i4'), ('center_j', '<i4')])"
      ]
     },
     "execution_count": 69,
     "metadata": {},
     "output_type": "execute_result"
    }
   ],
   "source": [
    "blocka_samples"
   ]
  },
  {
   "cell_type": "code",
   "execution_count": 78,
   "metadata": {},
   "outputs": [
    {
     "data": {
      "text/plain": [
       "array([0])"
      ]
     },
     "execution_count": 78,
     "metadata": {},
     "output_type": "execute_result"
    }
   ],
   "source": [
    "np.where(blockb_samples==idxb)[0]"
   ]
  },
  {
   "cell_type": "code",
   "execution_count": 66,
   "metadata": {},
   "outputs": [
    {
     "data": {
      "text/plain": [
       "Labels([(0, 3), (0, 4), (0, 5), (0, 6), (0, 7), (0, 8)],\n",
       "       dtype=[('structure', '<i4'), ('center', '<i4')])"
      ]
     },
     "execution_count": 66,
     "metadata": {},
     "output_type": "execute_result"
    }
   ],
   "source": [
    "blockb_samples"
   ]
  },
  {
   "cell_type": "code",
   "execution_count": 68,
   "metadata": {},
   "outputs": [
    {
     "data": {
      "text/plain": [
       "array([[[ 1.08908493e-02,  1.35511093e-03,  1.32078856e-03,\n",
       "          4.61973895e-03,  1.01437912e-03, -1.67138313e-04,\n",
       "          8.66725818e-05,  1.26724882e-03,  3.89070589e-04]]])"
      ]
     },
     "execution_count": 68,
     "metadata": {},
     "output_type": "execute_result"
    }
   ],
   "source": [
    "blockb= acdc_nu1.block(L=0, species_i=1)\n",
    "blockb.values[np.where(blockb_samples==idxb)[0]]"
   ]
  },
  {
   "cell_type": "code",
   "execution_count": 48,
   "metadata": {},
   "outputs": [
    {
     "data": {
      "text/plain": [
       "Labels([(0, 3), (0, 4), (0, 5), (0, 6), (0, 7), (0, 8)],\n",
       "       dtype=[('structure', '<i4'), ('center', '<i4')])"
      ]
     },
     "execution_count": 48,
     "metadata": {},
     "output_type": "execute_result"
    }
   ],
   "source": [
    "blockb_samples=acdc_nu1.block(L=0, species_i=1).samples\n",
    "blockb_samples[np.where(blockb_samples['center']==3)]"
   ]
  },
  {
   "cell_type": "code",
   "execution_count": 39,
   "metadata": {},
   "outputs": [
    {
     "ename": "IndexError",
     "evalue": "Cannot combine feature blocks with different number of items",
     "output_type": "error",
     "traceback": [
      "\u001b[0;31m---------------------------------------------------------------------------\u001b[0m",
      "\u001b[0;31mIndexError\u001b[0m                                Traceback (most recent call last)",
      "Input \u001b[0;32mIn [39]\u001b[0m, in \u001b[0;36m<cell line: 1>\u001b[0;34m()\u001b[0m\n\u001b[1;32m     44\u001b[0m     \u001b[38;5;28;01mif\u001b[39;00m \u001b[38;5;129;01mnot\u001b[39;00m(sp_i\u001b[38;5;241m==\u001b[39m rho_sp_i):\n\u001b[1;32m     45\u001b[0m         \u001b[38;5;28;01mcontinue\u001b[39;00m\n\u001b[0;32m---> 46\u001b[0m     one_shot_blocks_ij \u001b[38;5;241m=\u001b[39m \u001b[43mcg\u001b[49m\u001b[38;5;241;43m.\u001b[39;49m\u001b[43mcombine_einsum\u001b[49m\u001b[43m(\u001b[49m\n\u001b[1;32m     47\u001b[0m \u001b[43m     \u001b[49m\u001b[43mblock_a\u001b[49m\u001b[38;5;241;43m.\u001b[39;49m\u001b[43mvalues\u001b[49m\u001b[43m[\u001b[49m\u001b[43m:\u001b[49m\u001b[43m,\u001b[49m\u001b[43m \u001b[49m\u001b[43m:\u001b[49m\u001b[43m,\u001b[49m\u001b[43m \u001b[49m\u001b[43msel_feats\u001b[49m\u001b[43m[\u001b[49m\u001b[43m:\u001b[49m\u001b[43m,\u001b[49m\u001b[43m \u001b[49m\u001b[38;5;241;43m0\u001b[39;49m\u001b[43m]\u001b[49m\u001b[43m]\u001b[49m\u001b[43m,\u001b[49m\u001b[43m \u001b[49m\n\u001b[1;32m     48\u001b[0m \u001b[43m     \u001b[49m\u001b[43mblock_b\u001b[49m\u001b[38;5;241;43m.\u001b[39;49m\u001b[43mvalues\u001b[49m\u001b[43m[\u001b[49m\u001b[38;5;241;43m0\u001b[39;49m\u001b[43m:\u001b[49m\u001b[43m:\u001b[49m\u001b[38;5;241;43m2\u001b[39;49m\u001b[43m,\u001b[49m\u001b[43m \u001b[49m\u001b[43m:\u001b[49m\u001b[43m,\u001b[49m\u001b[43m \u001b[49m\u001b[43msel_feats\u001b[49m\u001b[43m[\u001b[49m\u001b[43m:\u001b[49m\u001b[43m,\u001b[49m\u001b[43m \u001b[49m\u001b[38;5;241;43m1\u001b[39;49m\u001b[43m]\u001b[49m\u001b[43m]\u001b[49m\u001b[43m,\u001b[49m\n\u001b[1;32m     49\u001b[0m \u001b[43m    \u001b[49m\u001b[43mL\u001b[49m\u001b[43m,\u001b[49m\n\u001b[1;32m     50\u001b[0m \u001b[43m    \u001b[49m\u001b[43mcombination_string\u001b[49m\u001b[38;5;241;43m=\u001b[39;49m\u001b[38;5;124;43m\"\u001b[39;49m\u001b[38;5;124;43miq,iq->iq\u001b[39;49m\u001b[38;5;124;43m\"\u001b[39;49m\u001b[43m,\u001b[49m\n\u001b[1;32m     51\u001b[0m \u001b[43m\u001b[49m\u001b[43m)\u001b[49m\n",
      "File \u001b[0;32m~/source/aml-hamiltonian-/utils/clebsh_gordan.py:82\u001b[0m, in \u001b[0;36mClebschGordanReal.combine_einsum\u001b[0;34m(self, rho1, rho2, L, combination_string)\u001b[0m\n\u001b[1;32m     80\u001b[0m n_items \u001b[38;5;241m=\u001b[39m rho1\u001b[38;5;241m.\u001b[39mshape[\u001b[38;5;241m0\u001b[39m]\n\u001b[1;32m     81\u001b[0m \u001b[38;5;28;01mif\u001b[39;00m rho1\u001b[38;5;241m.\u001b[39mshape[\u001b[38;5;241m0\u001b[39m] \u001b[38;5;241m!=\u001b[39m rho2\u001b[38;5;241m.\u001b[39mshape[\u001b[38;5;241m0\u001b[39m]:\n\u001b[0;32m---> 82\u001b[0m     \u001b[38;5;28;01mraise\u001b[39;00m \u001b[38;5;167;01mIndexError\u001b[39;00m(\n\u001b[1;32m     83\u001b[0m         \u001b[38;5;124m\"\u001b[39m\u001b[38;5;124mCannot combine feature blocks with different number of items\u001b[39m\u001b[38;5;124m\"\u001b[39m\n\u001b[1;32m     84\u001b[0m     )\n\u001b[1;32m     86\u001b[0m \u001b[38;5;66;03m# infers the shape of the output using the einsum internals\u001b[39;00m\n\u001b[1;32m     87\u001b[0m features \u001b[38;5;241m=\u001b[39m np\u001b[38;5;241m.\u001b[39meinsum(combination_string, rho1[:, \u001b[38;5;241m0\u001b[39m, \u001b[38;5;241m.\u001b[39m\u001b[38;5;241m.\u001b[39m\u001b[38;5;241m.\u001b[39m], rho2[:, \u001b[38;5;241m0\u001b[39m, \u001b[38;5;241m.\u001b[39m\u001b[38;5;241m.\u001b[39m\u001b[38;5;241m.\u001b[39m])\u001b[38;5;241m.\u001b[39mshape\n",
      "\u001b[0;31mIndexError\u001b[0m: Cannot combine feature blocks with different number of items"
     ]
    }
   ],
   "source": [
    "for index_a, block_a in eth_rho0ij:\n",
    "    block_type = index_a[\"block_type\"]\n",
    "    lam_a = index_a[\"L\"]\n",
    "    sigma_a = index_a[\"sigma\"]\n",
    "    sp_i, sp_j = index_a[\"species_i\"], index_a[\"species_j\"]\n",
    "    for index_b, block_b in acdc_nu1:\n",
    "        lam_b = index_b[\"L\"]\n",
    "        sigma_b = index_b[\"sigma\"]\n",
    "        rho_sp_i= index_b[\"species_i\"]\n",
    "        if not(sp_i== rho_sp_i):\n",
    "            continue\n",
    "        for L in range(np.abs(lam_a - lam_b),  min(lam_a + lam_b, lmax)+1):\n",
    "            S = sigma_a * sigma_b * (-1) ** (lam_a + lam_b + L)\n",
    "            block_idx=(block_type, L, NU, S, sp_i, sp_j)\n",
    "            sel_feats=[]\n",
    "            for n_a in range(len(block_a.features)):\n",
    "                f_a = tuple(block_a.features[n_a]) #values of n_a'th feature in block_a.features\n",
    "                for n_b in range(len(block_b.features)):\n",
    "                    f_b = tuple(block_b.features[n_b]) #values of n_b'th feature in block_b.features\n",
    "                    IDX = f_a  + (lam_a,)+f_b + (lam_b,)\n",
    "                    sel_feats.append([n_a, n_b])\n",
    "                    X_idx[block_idx].append(IDX)\n",
    "\n",
    "            sel_feats = np.asarray(sel_feats, dtype=int)\n",
    "            if len(sel_feats) == 0:\n",
    "                print(IDX, L, \"len_feats 0\")\n",
    "                continue\n",
    "            \n",
    "            #REMEMBER- values.shape = (nstruct*nat fitting the block criteria, 2*l+1, featsize)\n",
    "            if block_type==0:\n",
    "                if not(sp_i== rho_sp_i):\n",
    "                    continue\n",
    "                one_shot_blocks = cg.combine_einsum(\n",
    "                 block_a.values[:, :, sel_feats[:, 0]],  #sel_feats[:,0]= n_a\n",
    "                 block_b.values[:, :, sel_feats[:, 1]],  #sel_feats[:,1]= n_b*nspecies\n",
    "                L,\n",
    "                combination_string=\"iq,iq->iq\",\n",
    "            ) \n",
    "\n",
    "                samples = block_a.samples\n",
    "\n",
    "            elif block_type==1: #or block_type==-1: \n",
    "                #print(block_a.values[:, :, sel_feats[:, 0]].shape, block_b.values[0::2, :, sel_feats[:, 0]].shape)\n",
    "                if not(sp_i== rho_sp_i):\n",
    "                    continue\n",
    "                one_shot_blocks_ij = cg.combine_einsum(\n",
    "                 block_a.values[:, :, sel_feats[:, 0]], \n",
    "                 block_b.values[0::2, :, sel_feats[:, 1]],\n",
    "                L,\n",
    "                combination_string=\"iq,iq->iq\",\n",
    "            )\n",
    "\n",
    "#                 one_shot_blocks_ji = cg.combine_einsum(\n",
    "#                  block_a.values[:, :, sel_feats[:, 0]], \n",
    "#                  block_b.values[1::2, :, sel_feats[:, 1]],\n",
    "#                 L,\n",
    "#                 combination_string=\"iq,iq->iq\",\n",
    "#             )\n",
    "#                 samples = block_a.samples\n",
    "\n",
    "#                 one_shot_blocks = (one_shot_blocks_ij+one_shot_blocks_ji)/np.sqrt(2)\n",
    "# #                     one_shot_blocks_asym = (one_shot_blocks_ij-one_shot_blocks_ji)/np.sqrt(2)\n",
    "                \n",
    "\n",
    "#             elif block_type==-1:\n",
    "#                 if not(sp_i== rho_sp_i):\n",
    "#                     continue\n",
    "#                 one_shot_blocks_ij = cg.combine_einsum(\n",
    "#                  block_a.values[:, :, sel_feats[:, 0]], \n",
    "#                  block_b.values[0::2, :, sel_feats[:, 1]],\n",
    "#                 L,\n",
    "#                 combination_string=\"iq,iq->iq\",\n",
    "#             )\n",
    "\n",
    "#                 one_shot_blocks_ji = cg.combine_einsum(\n",
    "#                  block_a.values[:, :, sel_feats[:, 0]], \n",
    "#                  block_b.values[1::2, :, sel_feats[:, 1]],\n",
    "#                 L,\n",
    "#                 combination_string=\"iq,iq->iq\",\n",
    "#             )\n",
    "#                 samples = block_a.samples\n",
    "#                 one_shot_blocks = (one_shot_blocks_ij-one_shot_blocks_ji)/np.sqrt(2)\n",
    "\n",
    "#             elif block_type==2:\n",
    "#                 #TODO: recheck this \n",
    "# #                     if sp_i<rho_sp_i:\n",
    "# #                         continue\n",
    "#                 if not(sp_i== rho_sp_i):\n",
    "#                     continue\n",
    "#                 #print(sp_i, rho_sp_i, sp_j, block_a.values.shape, block_b.values.shape)\n",
    "#                 one_shot_blocks = cg.combine_einsum(\n",
    "#                  block_a.values[:, :, sel_feats[:, 0]], \n",
    "#                  block_b.values[:, :, sel_feats[:, 1]],\n",
    "#                 L,\n",
    "#                 combination_string=\"iq,iq->iq\",\n",
    "#             )\n",
    "#                 samples = block_a.samples\n",
    "\n",
    "#             else: \n",
    "#                 print(block_type)\n",
    "#                 print(\"get the block type right you idiot\")\n",
    "\n",
    "#             for Q in range(len(sel_feats)):\n",
    "#                 (n_a, n_b) = sel_feats[Q]\n",
    "#                 species_k, n = block_b.features[n_b]  #how to generalize this for nu\n",
    "#                 IDX = (n_a,)  + (lam_a,)+(species_k,)+(n,) + (lam_b,)\n",
    "#                 newblock = one_shot_blocks[:, :, Q]\n",
    "# #                     if(IDX not in X_idx[(block_type, L, NU, S, sp_i, sp_j)]):\n",
    "# #                         X_idx[(block_type, L, NU, S, sp_i, sp_j)].append(IDX)\n",
    "\n",
    "#                 X_blocks[block_idx].append(newblock)\n",
    "#                 X_samples[block_idx].append(samples)"
   ]
  },
  {
   "cell_type": "code",
   "execution_count": 28,
   "metadata": {},
   "outputs": [
    {
     "name": "stdout",
     "output_type": "stream",
     "text": [
      "[[0 0]\n",
      " [0 1]\n",
      " [0 2]\n",
      " [0 3]\n",
      " [0 4]\n",
      " [0 5]\n",
      " [0 6]\n",
      " [0 7]\n",
      " [0 8]\n",
      " [1 0]\n",
      " [1 1]\n",
      " [1 2]\n",
      " [1 3]\n",
      " [1 4]\n",
      " [1 5]\n",
      " [1 6]\n",
      " [1 7]\n",
      " [1 8]\n",
      " [2 0]\n",
      " [2 1]\n",
      " [2 2]\n",
      " [2 3]\n",
      " [2 4]\n",
      " [2 5]\n",
      " [2 6]\n",
      " [2 7]\n",
      " [2 8]]\n"
     ]
    }
   ],
   "source": [
    "print(sel_feats)"
   ]
  },
  {
   "cell_type": "code",
   "execution_count": 31,
   "metadata": {},
   "outputs": [
    {
     "name": "stdout",
     "output_type": "stream",
     "text": [
      "[[0, 0], [0, 1], [0, 2], [0, 3], [0, 4], [0, 5], [0, 6], [0, 7], [0, 8], [1, 0], [1, 1], [1, 2], [1, 3], [1, 4], [1, 5], [1, 6], [1, 7], [1, 8], [2, 0], [2, 1], [2, 2], [2, 3], [2, 4], [2, 5], [2, 6], [2, 7], [2, 8]]\n"
     ]
    }
   ],
   "source": [
    "l = []\n",
    "for i in range(len(eth_rho0ij.block(0).features)):\n",
    "    #print(tuple(rho0ij.block(0).features[i]))\n",
    "    for j in range(len(acdc_nu1.block(0).features)):\n",
    "        #print(tuple(acdc_nu1.block(0).features[j]))\n",
    "        l.append([i,j])\n",
    "print(l)\n",
    "  "
   ]
  },
  {
   "cell_type": "code",
   "execution_count": 30,
   "metadata": {},
   "outputs": [
    {
     "data": {
      "text/plain": [
       "Labels([(1, 0), (1, 1), (1, 2), (6, 0), (6, 1), (6, 2), (8, 0), (8, 1),\n",
       "        (8, 2)], dtype=[('neighbor_species', '<i4'), ('n', '<i4')])"
      ]
     },
     "execution_count": 30,
     "metadata": {},
     "output_type": "execute_result"
    }
   ],
   "source": [
    "acdc_nu1.block(0).features"
   ]
  },
  {
   "cell_type": "code",
   "execution_count": 26,
   "metadata": {},
   "outputs": [
    {
     "data": {
      "text/plain": [
       "(1, 5, 3)"
      ]
     },
     "execution_count": 26,
     "metadata": {},
     "output_type": "execute_result"
    }
   ],
   "source": [
    "block_a.values.shape"
   ]
  },
  {
   "cell_type": "code",
   "execution_count": 27,
   "metadata": {},
   "outputs": [
    {
     "data": {
      "text/plain": [
       "(1, 5, 9)"
      ]
     },
     "execution_count": 27,
     "metadata": {},
     "output_type": "execute_result"
    }
   ],
   "source": [
    "block_b.values.shape"
   ]
  },
  {
   "cell_type": "code",
   "execution_count": 153,
   "metadata": {},
   "outputs": [
    {
     "name": "stdout",
     "output_type": "stream",
     "text": [
      "0 (0, 0, 0, 1, 1, 1) (6, 1, 3)\n",
      "1 (0, 1, 0, 1, 1, 1) (6, 3, 3)\n",
      "2 (0, 2, 0, 1, 1, 1) (6, 5, 3)\n",
      "3 (1, 0, 0, 1, 1, 1) (15, 1, 3)\n",
      "4 (-1, 0, 0, 1, 1, 1) (15, 1, 3)\n",
      "5 (1, 1, 0, 1, 1, 1) (15, 3, 3)\n",
      "6 (-1, 1, 0, 1, 1, 1) (15, 3, 3)\n",
      "7 (1, 2, 0, 1, 1, 1) (15, 5, 3)\n",
      "8 (-1, 2, 0, 1, 1, 1) (15, 5, 3)\n",
      "9 (2, 0, 0, 1, 1, 6) (12, 1, 3)\n",
      "10 (2, 1, 0, 1, 1, 6) (12, 3, 3)\n",
      "11 (2, 2, 0, 1, 1, 6) (12, 5, 3)\n",
      "12 (2, 0, 0, 1, 1, 8) (6, 1, 3)\n",
      "13 (2, 1, 0, 1, 1, 8) (6, 3, 3)\n",
      "14 (2, 2, 0, 1, 1, 8) (6, 5, 3)\n",
      "15 (0, 0, 0, 1, 6, 6) (2, 1, 3)\n",
      "16 (0, 1, 0, 1, 6, 6) (2, 3, 3)\n",
      "17 (0, 2, 0, 1, 6, 6) (2, 5, 3)\n",
      "18 (1, 0, 0, 1, 6, 6) (1, 1, 3)\n",
      "19 (-1, 0, 0, 1, 6, 6) (1, 1, 3)\n",
      "20 (1, 1, 0, 1, 6, 6) (1, 3, 3)\n",
      "21 (-1, 1, 0, 1, 6, 6) (1, 3, 3)\n",
      "22 (1, 2, 0, 1, 6, 6) (1, 5, 3)\n",
      "23 (-1, 2, 0, 1, 6, 6) (1, 5, 3)\n",
      "24 (2, 0, 0, 1, 6, 8) (2, 1, 3)\n",
      "25 (2, 1, 0, 1, 6, 8) (2, 3, 3)\n",
      "26 (2, 2, 0, 1, 6, 8) (2, 5, 3)\n",
      "27 (0, 0, 0, 1, 8, 8) (1, 1, 3)\n",
      "28 (0, 1, 0, 1, 8, 8) (1, 3, 3)\n",
      "29 (0, 2, 0, 1, 8, 8) (1, 5, 3)\n"
     ]
    }
   ],
   "source": [
    "for i,j in enumerate(eth_rho0ij.sparse):\n",
    "    print(i, j, eth_rho0ij.block(i).values.shape)"
   ]
  },
  {
   "cell_type": "code",
   "execution_count": 194,
   "metadata": {},
   "outputs": [
    {
     "name": "stdout",
     "output_type": "stream",
     "text": [
      "0 (0, 1, 1, 1) (6, 1, 9)\n",
      "1 (0, 1, 1, 6) (2, 1, 9)\n",
      "2 (0, 1, 1, 8) (1, 1, 9)\n",
      "3 (1, 1, 1, 1) (6, 3, 9)\n",
      "4 (1, 1, 1, 6) (2, 3, 9)\n",
      "5 (1, 1, 1, 8) (1, 3, 9)\n",
      "6 (2, 1, 1, 1) (6, 5, 9)\n",
      "7 (2, 1, 1, 6) (2, 5, 9)\n",
      "8 (2, 1, 1, 8) (1, 5, 9)\n"
     ]
    }
   ],
   "source": [
    "for i,j in enumerate(acdc_nu1.sparse):\n",
    "    print(i, j, acdc_nu1.block(i).values.shape)"
   ]
  },
  {
   "cell_type": "code",
   "execution_count": 34,
   "metadata": {},
   "outputs": [
    {
     "data": {
      "text/plain": [
       "array([[[ 2.89158690e-03,  1.41707457e-03, -3.13228277e-04]],\n",
       "\n",
       "       [[ 7.05859447e-04,  2.19100994e-03,  1.62279635e-04]],\n",
       "\n",
       "       [[ 5.13452393e-04,  2.13343517e-03,  2.60410483e-04]],\n",
       "\n",
       "       [[ 5.57814491e-07,  1.52427094e-03,  7.00540139e-04]],\n",
       "\n",
       "       [[ 1.31868125e-03,  2.16389036e-03, -5.87824234e-05]],\n",
       "\n",
       "       [[ 5.71533828e-04,  2.15569722e-03,  2.28730151e-04]],\n",
       "\n",
       "       [[ 2.42691026e-05,  1.59152070e-03,  6.66026516e-04]],\n",
       "\n",
       "       [[ 5.07001057e-04,  2.13066327e-03,  2.64053973e-04]],\n",
       "\n",
       "       [[ 1.58229242e-03,  2.09014757e-03, -1.25803505e-04]],\n",
       "\n",
       "       [[ 3.52775687e-03,  9.66674657e-04, -3.44020896e-04]],\n",
       "\n",
       "       [[ 2.53802333e-03,  1.63775160e-03, -2.81445327e-04]],\n",
       "\n",
       "       [[-5.77110689e-05,  3.45943409e-04,  1.06937494e-03]],\n",
       "\n",
       "       [[ 2.57680230e-03,  1.61472161e-03, -2.85507251e-04]],\n",
       "\n",
       "       [[-8.57699928e-05,  6.29281266e-04,  1.02151383e-03]],\n",
       "\n",
       "       [[-9.09245769e-05,  7.35916759e-04,  9.95818222e-04]]])"
      ]
     },
     "execution_count": 34,
     "metadata": {},
     "output_type": "execute_result"
    }
   ],
   "source": [
    "eth_rho0ij.block(3).values"
   ]
  },
  {
   "cell_type": "code",
   "execution_count": 191,
   "metadata": {},
   "outputs": [],
   "source": [
    "x = eth_rho0ij.block(0).values[:, :, sel_feats[:, 0]]"
   ]
  },
  {
   "cell_type": "code",
   "execution_count": 192,
   "metadata": {},
   "outputs": [],
   "source": [
    "y = acdc_nu1.block(0).values[:, :, sel_feats[:, 1]]"
   ]
  },
  {
   "cell_type": "code",
   "execution_count": 76,
   "metadata": {},
   "outputs": [
    {
     "name": "stdout",
     "output_type": "stream",
     "text": [
      "(0, 0, 1, 1, 1, 1) skipped\n",
      "(0, 0, 1, -1, 1, 1) skipped\n",
      "(0, 1, 1, 1, 1, 1) skipped\n",
      "(0, 1, 1, -1, 1, 1) skipped\n",
      "(0, 2, 1, 1, 1, 1) skipped\n",
      "(0, 2, 1, -1, 1, 1) skipped\n",
      "(1, 0, 1, 1, 1, 1) skipped\n",
      "(1, 0, 1, -1, 1, 1) skipped\n",
      "(-1, 0, 1, 1, 1, 1) skipped\n",
      "(-1, 0, 1, -1, 1, 1) skipped\n",
      "(1, 1, 1, 1, 1, 1) skipped\n",
      "(1, 1, 1, -1, 1, 1) skipped\n",
      "(-1, 1, 1, 1, 1, 1) skipped\n",
      "(-1, 1, 1, -1, 1, 1) skipped\n",
      "(1, 2, 1, 1, 1, 1) skipped\n",
      "(1, 2, 1, -1, 1, 1) skipped\n",
      "(-1, 2, 1, 1, 1, 1) skipped\n",
      "(-1, 2, 1, -1, 1, 1) skipped\n",
      "(2, 0, 1, 1, 1, 6) skipped\n",
      "(2, 0, 1, -1, 1, 6) skipped\n",
      "(2, 1, 1, 1, 1, 6) skipped\n",
      "(2, 1, 1, -1, 1, 6) skipped\n",
      "(2, 2, 1, 1, 1, 6) skipped\n",
      "(2, 2, 1, -1, 1, 6) skipped\n",
      "(2, 0, 1, 1, 1, 8) skipped\n",
      "(2, 0, 1, -1, 1, 8) skipped\n",
      "(2, 1, 1, 1, 1, 8) skipped\n",
      "(2, 1, 1, -1, 1, 8) skipped\n",
      "(2, 2, 1, 1, 1, 8) skipped\n",
      "(2, 2, 1, -1, 1, 8) skipped\n",
      "(0, 0, 1, 1, 6, 6) skipped\n",
      "(0, 0, 1, -1, 6, 6) skipped\n",
      "(0, 1, 1, 1, 6, 6) skipped\n",
      "(0, 1, 1, -1, 6, 6) skipped\n",
      "(0, 2, 1, 1, 6, 6) skipped\n",
      "(0, 2, 1, -1, 6, 6) skipped\n",
      "(1, 0, 1, 1, 6, 6) skipped\n",
      "(1, 0, 1, -1, 6, 6) skipped\n",
      "(-1, 0, 1, 1, 6, 6) skipped\n",
      "(-1, 0, 1, -1, 6, 6) skipped\n",
      "(1, 1, 1, 1, 6, 6) skipped\n",
      "(1, 1, 1, -1, 6, 6) skipped\n",
      "(-1, 1, 1, 1, 6, 6) skipped\n",
      "(-1, 1, 1, -1, 6, 6) skipped\n",
      "(1, 2, 1, 1, 6, 6) skipped\n",
      "(1, 2, 1, -1, 6, 6) skipped\n",
      "(-1, 2, 1, 1, 6, 6) skipped\n",
      "(-1, 2, 1, -1, 6, 6) skipped\n",
      "(2, 0, 1, 1, 6, 8) skipped\n",
      "(2, 0, 1, -1, 6, 8) skipped\n",
      "(2, 1, 1, 1, 6, 8) skipped\n",
      "(2, 1, 1, -1, 6, 8) skipped\n",
      "(2, 2, 1, 1, 6, 8) skipped\n",
      "(2, 2, 1, -1, 6, 8) skipped\n",
      "(0, 0, 1, 1, 8, 8) skipped\n",
      "(0, 0, 1, -1, 8, 8) skipped\n",
      "(0, 1, 1, 1, 8, 8) skipped\n",
      "(0, 1, 1, -1, 8, 8) skipped\n",
      "(0, 2, 1, 1, 8, 8) skipped\n",
      "(0, 2, 1, -1, 8, 8) skipped\n"
     ]
    },
    {
     "ename": "NameError",
     "evalue": "name 'rho0ij' is not defined",
     "output_type": "error",
     "traceback": [
      "\u001b[0;31m---------------------------------------------------------------------------\u001b[0m",
      "\u001b[0;31mNameError\u001b[0m                                 Traceback (most recent call last)",
      "Input \u001b[0;32mIn [76]\u001b[0m, in \u001b[0;36m<cell line: 27>\u001b[0;34m()\u001b[0m\n\u001b[1;32m     24\u001b[0m     nonzero_blocks\u001b[38;5;241m.\u001b[39mappend(newblock)\n\u001b[1;32m     25\u001b[0m \u001b[38;5;66;03m#         print(block_idx, 'done')\u001b[39;00m\n\u001b[1;32m     27\u001b[0m X \u001b[38;5;241m=\u001b[39m Descriptor(\n\u001b[0;32m---> 28\u001b[0m     Labels(\u001b[43mrho0ij\u001b[49m\u001b[38;5;241m.\u001b[39msparse\u001b[38;5;241m.\u001b[39mnames, np\u001b[38;5;241m.\u001b[39masarray(nonzero_idx, dtype\u001b[38;5;241m=\u001b[39mnp\u001b[38;5;241m.\u001b[39mint32)), nonzero_blocks\n\u001b[1;32m     29\u001b[0m )\n\u001b[1;32m     32\u001b[0m \u001b[38;5;28;01mreturn\u001b[39;00m X\n",
      "\u001b[0;31mNameError\u001b[0m: name 'rho0ij' is not defined"
     ]
    }
   ],
   "source": [
    "nonzero_idx = []\n",
    "\n",
    "nonzero_blocks = []\n",
    "for block_idx in X_blocks:\n",
    "    block_type, L, NU, S, sp_i, sp_j = block_idx\n",
    "    # create blocks\n",
    "    if len(X_blocks[block_idx]) == 0:\n",
    "        print(block_idx, \"skipped\")\n",
    "        continue  # skips empty blocks\n",
    "\n",
    "    nonzero_idx.append(block_idx)\n",
    "    block_data = np.moveaxis(np.asarray(X_blocks[block_idx]), 0, -1) \n",
    "    block_samples = X_samples[block_idx][0]\n",
    "\n",
    "    newblock = Block(\n",
    "        values=block_data,\n",
    "        samples=block_samples,\n",
    "        components=Labels(\n",
    "            [\"mu\"], np.asarray(range(-L, L + 1), dtype=np.int32).reshape(-1, 1)\n",
    "        ),\n",
    "        features=Labels(feature_names, np.asarray(X_idx[block_idx], dtype=np.int32)),\n",
    "    )\n",
    "\n",
    "    nonzero_blocks.append(newblock)\n",
    "#         print(block_idx, 'done')\n",
    "\n",
    "X = Descriptor(\n",
    "    Labels(rho0ij.sparse.names, np.asarray(nonzero_idx, dtype=np.int32)), nonzero_blocks\n",
    ")\n",
    "\n",
    "\n",
    "return X"
   ]
  },
  {
   "cell_type": "markdown",
   "metadata": {},
   "source": [
    "# CRAP "
   ]
  },
  {
   "cell_type": "code",
   "execution_count": 139,
   "metadata": {},
   "outputs": [],
   "source": [
    "frames= [eth_frames[0],water_frames[0]]"
   ]
  },
  {
   "cell_type": "code",
   "execution_count": 156,
   "metadata": {},
   "outputs": [],
   "source": [
    "hypers= eth_hypers ; \n",
    "if hypers[\"compute_gradients\"]:\n",
    "    raise Exception(\"Pair expansion with gradient is not implemented\")\n",
    "len_frames=[len(f) for f in frames]\n",
    "max_atoms = max(len_frames)\n",
    "actual_global_species = list(\n",
    "map(int, np.unique(np.concatenate([f.numbers for f in frames]))))\n",
    "calculator = SphericalExpansion(**hypers)\n",
    "manager = calculator.transform(frames)\n",
    "info = manager.get_representation_info()\n",
    "global_species = list(range(max_atoms))\n",
    "\n",
    "hypers_ij= copy.deepcopy(hypers)\n",
    "hypers_ij[\"global_species\"] = global_species\n",
    "hypers_ij[\"expansion_by_species_method\"] = \"user defined\"\n",
    "lm_slices = get_lm_slice(hypers)\n",
    "\n",
    "ijframes = []\n",
    "for f in frames:\n",
    "    ijf = f.copy()\n",
    "    ijf.numbers = global_species[:len(f)]\n",
    "    ijframes.append(ijf)\n",
    "\n",
    "calculator = SphericalExpansion(**hypers_ij)\n",
    "gij_expansion=[]\n",
    "for ijf in ijframes:\n",
    "    gij_expansion.append(calculator.transform(ijf).get_features(calculator).reshape(len(ijf), max_atoms, hypers_ij[\"max_radial\"], -1))\n",
    "# gij_expansion=calculator.transform(ijframes).get_features(calculator).reshape(len(ijframes), max_atoms, max_atoms, hypers_ij[\"max_radial\"], -1) #TODO: change for differet len\n",
    "#     print(gij_expansion.shape)"
   ]
  },
  {
   "cell_type": "code",
   "execution_count": 171,
   "metadata": {},
   "outputs": [
    {
     "data": {
      "text/plain": [
       "array([[ 4.47987330e-03,  6.91553931e-03,  0.00000000e+00,\n",
       "         6.76429916e-04,  1.21706177e-03,  0.00000000e+00,\n",
       "        -3.62627354e-03,  0.00000000e+00, -6.16184551e-03],\n",
       "       [-1.12749759e-03, -1.68716514e-03,  0.00000000e+00,\n",
       "        -1.65026750e-04, -2.80319664e-04,  0.00000000e+00,\n",
       "         8.35221188e-04,  0.00000000e+00,  1.41922662e-03],\n",
       "       [-1.34135165e-04, -2.18250249e-04,  0.00000000e+00,\n",
       "        -2.13477202e-05, -4.18020897e-05,  0.00000000e+00,\n",
       "         1.24550631e-04,  0.00000000e+00,  2.11639231e-04]])"
      ]
     },
     "execution_count": 171,
     "metadata": {},
     "output_type": "execute_result"
    }
   ],
   "source": [
    "gij_expansion[1][0,2]"
   ]
  },
  {
   "cell_type": "code",
   "execution_count": 161,
   "metadata": {},
   "outputs": [
    {
     "name": "stdout",
     "output_type": "stream",
     "text": [
      "0 0 0\n",
      "(1, 3) [0, 3, 3]\n",
      "0 0 1\n",
      "(3, 3) [0, 3, 3]\n",
      "0 0 2\n",
      "(5, 3) [0, 3, 3]\n",
      "1 0 0\n",
      "1 0 1\n",
      "1 0 2\n",
      "1 0 0\n",
      "1 0 1\n",
      "1 0 2\n",
      "1 0 0\n",
      "1 0 1\n",
      "1 0 2\n",
      "1 0 0\n",
      "1 0 1\n",
      "1 0 2\n",
      "1 0 0\n",
      "1 0 1\n",
      "1 0 2\n",
      "1 0 0\n",
      "1 0 1\n",
      "1 0 2\n",
      "0 0 0\n",
      "(1, 3) [0, 4, 4]\n",
      "0 0 1\n",
      "(3, 3) [0, 4, 4]\n",
      "0 0 2\n",
      "(5, 3) [0, 4, 4]\n",
      "1 0 0\n",
      "1 0 1\n",
      "1 0 2\n",
      "1 0 0\n",
      "1 0 1\n",
      "1 0 2\n",
      "1 0 0\n",
      "1 0 1\n",
      "1 0 2\n",
      "1 0 0\n",
      "1 0 1\n",
      "1 0 2\n",
      "1 0 0\n",
      "1 0 1\n",
      "1 0 2\n",
      "1 0 0\n",
      "1 0 1\n",
      "1 0 2\n",
      "0 0 0\n",
      "(1, 3) [0, 5, 5]\n",
      "0 0 1\n",
      "(3, 3) [0, 5, 5]\n",
      "0 0 2\n",
      "(5, 3) [0, 5, 5]\n",
      "1 0 0\n",
      "1 0 1\n",
      "1 0 2\n",
      "1 0 0\n",
      "1 0 1\n",
      "1 0 2\n",
      "1 0 0\n",
      "1 0 1\n",
      "1 0 2\n",
      "1 0 0\n",
      "1 0 1\n",
      "1 0 2\n",
      "1 0 0\n",
      "1 0 1\n",
      "1 0 2\n",
      "1 0 0\n",
      "1 0 1\n",
      "1 0 2\n",
      "0 0 0\n",
      "(1, 3) [0, 6, 6]\n",
      "0 0 1\n",
      "(3, 3) [0, 6, 6]\n",
      "0 0 2\n",
      "(5, 3) [0, 6, 6]\n",
      "1 0 0\n",
      "1 0 1\n",
      "1 0 2\n",
      "1 0 0\n",
      "1 0 1\n",
      "1 0 2\n",
      "1 0 0\n",
      "1 0 1\n",
      "1 0 2\n",
      "1 0 0\n",
      "1 0 1\n",
      "1 0 2\n",
      "1 0 0\n",
      "1 0 1\n",
      "1 0 2\n",
      "1 0 0\n",
      "1 0 1\n",
      "1 0 2\n",
      "0 0 0\n",
      "(1, 3) [0, 7, 7]\n",
      "0 0 1\n",
      "(3, 3) [0, 7, 7]\n",
      "0 0 2\n",
      "(5, 3) [0, 7, 7]\n",
      "1 0 0\n",
      "1 0 1\n",
      "1 0 2\n",
      "1 0 0\n",
      "1 0 1\n",
      "1 0 2\n",
      "1 0 0\n",
      "1 0 1\n",
      "1 0 2\n",
      "1 0 0\n",
      "1 0 1\n",
      "1 0 2\n",
      "1 0 0\n",
      "1 0 1\n",
      "1 0 2\n",
      "1 0 0\n",
      "1 0 1\n",
      "1 0 2\n",
      "0 0 0\n",
      "(1, 3) [0, 8, 8]\n",
      "0 0 1\n",
      "(3, 3) [0, 8, 8]\n",
      "0 0 2\n",
      "(5, 3) [0, 8, 8]\n",
      "0 1 0\n",
      "(1, 3) [1, 1, 1]\n",
      "0 1 1\n",
      "(3, 3) [1, 1, 1]\n",
      "0 1 2\n",
      "(5, 3) [1, 1, 1]\n",
      "1 1 0\n",
      "1 1 1\n",
      "1 1 2\n",
      "1 1 0\n",
      "1 1 1\n",
      "1 1 2\n",
      "0 1 0\n",
      "(1, 3) [1, 2, 2]\n",
      "0 1 1\n",
      "(3, 3) [1, 2, 2]\n",
      "0 1 2\n",
      "(5, 3) [1, 2, 2]\n",
      "2 0 0\n",
      "(1, 3) [0, 3, 0]\n",
      "2 0 1\n",
      "(3, 3) [0, 3, 0]\n",
      "2 0 2\n",
      "(5, 3) [0, 3, 0]\n",
      "2 0 0\n",
      "(1, 3) [0, 3, 1]\n",
      "2 0 1\n",
      "(3, 3) [0, 3, 1]\n",
      "2 0 2\n",
      "(5, 3) [0, 3, 1]\n",
      "2 0 0\n",
      "(1, 3) [0, 4, 0]\n",
      "2 0 1\n",
      "(3, 3) [0, 4, 0]\n",
      "2 0 2\n",
      "(5, 3) [0, 4, 0]\n",
      "2 0 0\n",
      "(1, 3) [0, 4, 1]\n",
      "2 0 1\n",
      "(3, 3) [0, 4, 1]\n",
      "2 0 2\n",
      "(5, 3) [0, 4, 1]\n",
      "2 0 0\n",
      "(1, 3) [0, 5, 0]\n",
      "2 0 1\n",
      "(3, 3) [0, 5, 0]\n",
      "2 0 2\n",
      "(5, 3) [0, 5, 0]\n",
      "2 0 0\n",
      "(1, 3) [0, 5, 1]\n",
      "2 0 1\n",
      "(3, 3) [0, 5, 1]\n",
      "2 0 2\n",
      "(5, 3) [0, 5, 1]\n",
      "2 0 0\n",
      "(1, 3) [0, 6, 0]\n",
      "2 0 1\n",
      "(3, 3) [0, 6, 0]\n",
      "2 0 2\n",
      "(5, 3) [0, 6, 0]\n",
      "2 0 0\n",
      "(1, 3) [0, 6, 1]\n",
      "2 0 1\n",
      "(3, 3) [0, 6, 1]\n",
      "2 0 2\n",
      "(5, 3) [0, 6, 1]\n",
      "2 0 0\n",
      "(1, 3) [0, 7, 0]\n",
      "2 0 1\n",
      "(3, 3) [0, 7, 0]\n",
      "2 0 2\n",
      "(5, 3) [0, 7, 0]\n",
      "2 0 0\n",
      "(1, 3) [0, 7, 1]\n",
      "2 0 1\n",
      "(3, 3) [0, 7, 1]\n",
      "2 0 2\n",
      "(5, 3) [0, 7, 1]\n",
      "2 0 0\n",
      "(1, 3) [0, 8, 0]\n",
      "2 0 1\n",
      "(3, 3) [0, 8, 0]\n",
      "2 0 2\n",
      "(5, 3) [0, 8, 0]\n",
      "2 0 0\n",
      "(1, 3) [0, 8, 1]\n",
      "2 0 1\n",
      "(3, 3) [0, 8, 1]\n",
      "2 0 2\n",
      "(5, 3) [0, 8, 1]\n",
      "2 0 0\n",
      "(1, 3) [0, 3, 2]\n",
      "2 0 1\n",
      "(3, 3) [0, 3, 2]\n",
      "2 0 2\n",
      "(5, 3) [0, 3, 2]\n",
      "2 0 0\n",
      "(1, 3) [0, 4, 2]\n",
      "2 0 1\n",
      "(3, 3) [0, 4, 2]\n",
      "2 0 2\n",
      "(5, 3) [0, 4, 2]\n",
      "2 0 0\n",
      "(1, 3) [0, 5, 2]\n",
      "2 0 1\n",
      "(3, 3) [0, 5, 2]\n",
      "2 0 2\n",
      "(5, 3) [0, 5, 2]\n",
      "2 0 0\n",
      "(1, 3) [0, 6, 2]\n",
      "2 0 1\n",
      "(3, 3) [0, 6, 2]\n",
      "2 0 2\n",
      "(5, 3) [0, 6, 2]\n",
      "2 0 0\n",
      "(1, 3) [0, 7, 2]\n",
      "2 0 1\n",
      "(3, 3) [0, 7, 2]\n",
      "2 0 2\n",
      "(5, 3) [0, 7, 2]\n",
      "2 0 0\n",
      "(1, 3) [0, 8, 2]\n",
      "2 0 1\n",
      "(3, 3) [0, 8, 2]\n",
      "2 0 2\n",
      "(5, 3) [0, 8, 2]\n",
      "2 1 0\n",
      "(1, 3) [1, 1, 0]\n",
      "2 1 1\n",
      "(3, 3) [1, 1, 0]\n",
      "2 1 2\n",
      "(5, 3) [1, 1, 0]\n",
      "2 1 0\n",
      "(1, 3) [1, 2, 0]\n",
      "2 1 1\n",
      "(3, 3) [1, 2, 0]\n",
      "2 1 2\n",
      "(5, 3) [1, 2, 0]\n",
      "0 0 0\n",
      "(1, 3) [0, 0, 0]\n",
      "0 0 1\n",
      "(3, 3) [0, 0, 0]\n",
      "0 0 2\n",
      "(5, 3) [0, 0, 0]\n",
      "1 0 0\n",
      "1 0 1\n",
      "1 0 2\n",
      "1 0 0\n",
      "1 0 1\n",
      "1 0 2\n",
      "0 0 0\n",
      "(1, 3) [0, 1, 1]\n",
      "0 0 1\n",
      "(3, 3) [0, 1, 1]\n",
      "0 0 2\n",
      "(5, 3) [0, 1, 1]\n",
      "2 0 0\n",
      "(1, 3) [0, 0, 2]\n",
      "2 0 1\n",
      "(3, 3) [0, 0, 2]\n",
      "2 0 2\n",
      "(5, 3) [0, 0, 2]\n",
      "2 0 0\n",
      "(1, 3) [0, 1, 2]\n",
      "2 0 1\n",
      "(3, 3) [0, 1, 2]\n",
      "2 0 2\n",
      "(5, 3) [0, 1, 2]\n",
      "0 0 0\n",
      "(1, 3) [0, 2, 2]\n",
      "0 0 1\n",
      "(3, 3) [0, 2, 2]\n",
      "0 0 2\n",
      "(5, 3) [0, 2, 2]\n",
      "0 1 0\n",
      "(1, 3) [1, 0, 0]\n",
      "0 1 1\n",
      "(3, 3) [1, 0, 0]\n",
      "0 1 2\n",
      "(5, 3) [1, 0, 0]\n"
     ]
    }
   ],
   "source": [
    "feat_builder= DescriptorBuilder([\"block_type\", \"L\", \"nu\", \"sigma\",  \"species_i\", \"species_j\"], [\"structure\", \"center_i\", \"center_j\"], [\"mu\"], [\"n\"])\n",
    "\n",
    "pair_loc=[]\n",
    "lmax = hypers[\"max_angular\"]\n",
    "for sp_i in actual_global_species:\n",
    "    for sp_j in actual_global_species:\n",
    "        center_species_mask = np.where(info[:, 2] == sp_i)[0]\n",
    "        neighbor_species_mask = np.where(info[:, 2] == sp_j)[0]\n",
    "        for i, (struct_i, atom_i) in enumerate(info[center_species_mask[:]][...,:-1]):\n",
    "            for j, (struct_j, atom_j) in enumerate(info[neighbor_species_mask[:]][...,:-1]):\n",
    "                ifr=struct_i\n",
    "\n",
    "                if not (struct_i==struct_j):\n",
    "                    continue\n",
    "                if atom_i==atom_j:\n",
    "                    block_type = 0  # diagonal\n",
    "                elif sp_i==sp_j:\n",
    "                    block_type = 1  # same-species\n",
    "                elif sp_j > sp_i:\n",
    "\n",
    "                    block_type = 2  # different species\n",
    "                else:\n",
    "                    continue\n",
    "\n",
    "                if [struct_i, atom_j, atom_i] not in pair_loc:\n",
    "                    pair_loc.append([struct_i, atom_i, atom_j])\n",
    "\n",
    "                for l in range(lmax+1):\n",
    "                    print(block_type, ifr, l)\n",
    "                    block_idx=(block_type, l, 0, 1, sp_i, sp_j)\n",
    "                    if block_idx not in feat_builder.blocks:\n",
    "                        block = feat_builder.add_block(sparse=block_idx, features=np.asarray([list(range(hypers[\"max_radial\"]))], dtype=np.int32).T, \n",
    "                            components=np.asarray([list(range(-l, l+1))], dtype=np.int32 ).T )  \n",
    "\n",
    "\n",
    "                        if block_type == 1:\n",
    "                            block_asym = feat_builder.add_block(sparse=(-1,)+block_idx[1:], features=np.asarray([list(range(hypers[\"max_radial\"]))], dtype=np.int32).T,\n",
    "                            components=np.asarray([list(range(-l, l+1))], dtype=np.int32 ).T )                                                    \n",
    "                    else:                        \n",
    "                        block = feat_builder.blocks[block_idx]\n",
    "                        if block_type == 1:\n",
    "                            block_asym = feat_builder.blocks[(-1,)+block_idx[1:]]\n",
    "\n",
    "                    block_data =gij_expansion[struct_i][atom_i%len_frames[ifr], atom_j%len_frames[ifr], :, lm_slices[l]].T #TODO: change for not water\n",
    "                    #POSSIBLE replacement:(atom_i-sum(info[:struct_i,:].axis=1))%len(info[np.where(info[:,:,0]==struct_i)])\n",
    "                    if block_type == 1:\n",
    "                        if (atom_i%len_frames[ifr])<=(atom_j%len_frames[ifr]):\n",
    "                            block_data_ji = gij_expansion[struct_i][atom_j%len_frames[ifr], atom_i%len_frames[ifr], :, lm_slices[l]].T                  \n",
    "                            block.add_samples(labels=np.asarray([[struct_i, atom_i%len_frames[ifr], atom_j%len_frames[ifr]]], dtype=np.int32), data=(block_data+block_data_ji).reshape((1,-1,block_data.shape[1]))/np.sqrt(2) )\n",
    "                            block_asym.add_samples(labels=np.asarray([[struct_i, atom_i%len_frames[ifr], atom_j%len_frames[ifr]]], dtype=np.int32), data=(block_data-block_data_ji).reshape((1,-1,block_data.shape[1]))/np.sqrt(2) )\n",
    "                    \n",
    "                    else:\n",
    "                        print(block_data.shape, [struct_i, atom_i%len_frames[ifr], atom_j%len_frames[ifr]])\n",
    "                        block.add_samples(labels=np.asarray([[struct_i, atom_i%len_frames[ifr], atom_j%len_frames[ifr]]], dtype=np.int32), data=block_data.reshape(1, -1, block_data.shape[1]))\n",
    "#                     "
   ]
  },
  {
   "cell_type": "code",
   "execution_count": 144,
   "metadata": {},
   "outputs": [
    {
     "data": {
      "text/plain": [
       "(2, 9, 9, 3, 6)"
      ]
     },
     "execution_count": 144,
     "metadata": {},
     "output_type": "execute_result"
    }
   ],
   "source": [
    "gij_expansion.shape"
   ]
  },
  {
   "cell_type": "code",
   "execution_count": 129,
   "metadata": {},
   "outputs": [
    {
     "name": "stdout",
     "output_type": "stream",
     "text": [
      "0 0 3\n",
      "1 0 4\n",
      "2 0 5\n",
      "3 0 6\n",
      "4 0 7\n",
      "5 0 8\n",
      "6 1 10\n",
      "7 1 11\n"
     ]
    }
   ],
   "source": [
    "for j, (struct_j, atom_j) in enumerate(info[center_species_mask[:]][...,:-1]):\n",
    "    print(j, struct_j, atom_j)"
   ]
  },
  {
   "cell_type": "code",
   "execution_count": 130,
   "metadata": {},
   "outputs": [
    {
     "data": {
      "text/plain": [
       "(2, 3)"
      ]
     },
     "execution_count": 130,
     "metadata": {},
     "output_type": "execute_result"
    }
   ],
   "source": [
    "block_data.shape"
   ]
  },
  {
   "cell_type": "code",
   "execution_count": 136,
   "metadata": {},
   "outputs": [],
   "source": [
    "frames=eth_frames"
   ]
  },
  {
   "cell_type": "code",
   "execution_count": 120,
   "metadata": {},
   "outputs": [
    {
     "data": {
      "text/plain": [
       "array([[ 0,  3],\n",
       "       [ 0,  4],\n",
       "       [ 0,  5],\n",
       "       [ 0,  6],\n",
       "       [ 0,  7],\n",
       "       [ 0,  8],\n",
       "       [ 1, 10],\n",
       "       [ 1, 11]], dtype=int32)"
      ]
     },
     "execution_count": 120,
     "metadata": {},
     "output_type": "execute_result"
    }
   ],
   "source": [
    "info[center_species_mask[:]][...,:-1]"
   ]
  },
  {
   "cell_type": "code",
   "execution_count": 113,
   "metadata": {},
   "outputs": [
    {
     "data": {
      "text/plain": [
       "(2, 9, 9, 3, 6)"
      ]
     },
     "execution_count": 113,
     "metadata": {},
     "output_type": "execute_result"
    }
   ],
   "source": [
    "gij_expansion.shape"
   ]
  },
  {
   "cell_type": "code",
   "execution_count": 114,
   "metadata": {},
   "outputs": [
    {
     "data": {
      "text/plain": [
       "array([[0., 0., 0.],\n",
       "       [0., 0., 0.]])"
      ]
     },
     "execution_count": 114,
     "metadata": {},
     "output_type": "execute_result"
    }
   ],
   "source": [
    "block_data"
   ]
  },
  {
   "cell_type": "code",
   "execution_count": 106,
   "metadata": {},
   "outputs": [
    {
     "data": {
      "text/plain": [
       "(1, 2, 3)"
      ]
     },
     "execution_count": 106,
     "metadata": {},
     "output_type": "execute_result"
    }
   ],
   "source": [
    "block_data.reshape(1, -1, block_data.shape[1]).shape"
   ]
  },
  {
   "cell_type": "code",
   "execution_count": 102,
   "metadata": {},
   "outputs": [
    {
     "data": {
      "text/plain": [
       "array([[ 0,  0,  6],\n",
       "       [ 0,  1,  6],\n",
       "       [ 0,  2,  8],\n",
       "       [ 0,  3,  1],\n",
       "       [ 0,  4,  1],\n",
       "       [ 0,  5,  1],\n",
       "       [ 0,  6,  1],\n",
       "       [ 0,  7,  1],\n",
       "       [ 0,  8,  1],\n",
       "       [ 1,  9,  8],\n",
       "       [ 1, 10,  1],\n",
       "       [ 1, 11,  1]], dtype=int32)"
      ]
     },
     "execution_count": 102,
     "metadata": {},
     "output_type": "execute_result"
    }
   ],
   "source": [
    "info"
   ]
  },
  {
   "cell_type": "code",
   "execution_count": 103,
   "metadata": {},
   "outputs": [
    {
     "data": {
      "text/plain": [
       "[Atoms(symbols='C2OH6', pbc=False, cell=[100.0, 100.0, 100.0]),\n",
       " Atoms(symbols='OH2', pbc=True, cell=[100.0, 100.0, 100.0])]"
      ]
     },
     "execution_count": 103,
     "metadata": {},
     "output_type": "execute_result"
    }
   ],
   "source": [
    "frames"
   ]
  },
  {
   "cell_type": "code",
   "execution_count": null,
   "metadata": {},
   "outputs": [],
   "source": []
  }
 ],
 "metadata": {
  "kernelspec": {
   "display_name": "Python 3",
   "language": "python",
   "name": "python3"
  },
  "language_info": {
   "codemirror_mode": {
    "name": "ipython",
    "version": 3
   },
   "file_extension": ".py",
   "mimetype": "text/x-python",
   "name": "python",
   "nbconvert_exporter": "python",
   "pygments_lexer": "ipython3",
   "version": "3.7.3"
  },
  "toc": {
   "base_numbering": 1,
   "nav_menu": {},
   "number_sections": true,
   "sideBar": true,
   "skip_h1_title": false,
   "title_cell": "Table of Contents",
   "title_sidebar": "Contents",
   "toc_cell": false,
   "toc_position": {},
   "toc_section_display": true,
   "toc_window_display": false
  }
 },
 "nbformat": 4,
 "nbformat_minor": 5
}
